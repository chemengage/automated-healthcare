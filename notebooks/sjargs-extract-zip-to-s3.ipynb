{
 "cells": [
  {
   "cell_type": "code",
   "execution_count": 21,
   "id": "f78121e0",
   "metadata": {},
   "outputs": [],
   "source": [
    "from sagemaker import get_execution_role\n",
    "import boto3\n",
    "import pandas as pd\n",
    "from tqdm import tqdm\n",
    "from io import BytesIO\n",
    "import zipfile"
   ]
  },
  {
   "cell_type": "markdown",
   "id": "d7187413",
   "metadata": {},
   "source": [
    "# Extract Images from .zip File"
   ]
  },
  {
   "cell_type": "code",
   "execution_count": 5,
   "id": "c766f7aa",
   "metadata": {},
   "outputs": [],
   "source": [
    "role = get_execution_role()\n",
    "bucket = 'sjargs-dev-mle9'\n",
    "data_key = '250px_Data_CMC_CODAEL_1.zip'\n",
    "data_location = 's3://{}/{}'.format(bucket, data_key)"
   ]
  },
  {
   "cell_type": "code",
   "execution_count": 12,
   "id": "a208dc17",
   "metadata": {},
   "outputs": [],
   "source": [
    "conn = boto3.resource('s3')"
   ]
  },
  {
   "cell_type": "code",
   "execution_count": 17,
   "id": "2a3d1d24",
   "metadata": {},
   "outputs": [
    {
     "ename": "TypeError",
     "evalue": "'module' object is not callable",
     "output_type": "error",
     "traceback": [
      "\u001b[0;31m---------------------------------------------------------------------------\u001b[0m",
      "\u001b[0;31mTypeError\u001b[0m                                 Traceback (most recent call last)",
      "\u001b[0;32m<timed exec>\u001b[0m in \u001b[0;36m<module>\u001b[0;34m\u001b[0m\n",
      "\u001b[0;31mTypeError\u001b[0m: 'module' object is not callable"
     ]
    }
   ],
   "source": [
    "zip_obj = conn.Object(bucket_name=bucket,key=data_key)\n",
    "buffer = BytesIO(zip_obj.get()[\"Body\"].read())\n",
    "z = zipfile.ZipFile(buffer)"
   ]
  },
  {
   "cell_type": "code",
   "execution_count": 22,
   "id": "b1d3ab52",
   "metadata": {},
   "outputs": [
    {
     "name": "stderr",
     "output_type": "stream",
     "text": [
      "100%|██████████| 50429/50429 [53:09<00:00, 15.81it/s]  \n"
     ]
    }
   ],
   "source": [
    "for filename in tqdm(z.namelist()):\n",
    "    file_info = z.getinfo(filename)\n",
    "    conn.meta.client.upload_fileobj(\n",
    "        z.open(filename),\n",
    "        Bucket=bucket,\n",
    "        Key=f'{filename}'\n",
    "    )"
   ]
  }
 ],
 "metadata": {
  "kernelspec": {
   "display_name": "conda_pytorch_latest_p36",
   "language": "python",
   "name": "conda_pytorch_latest_p36"
  },
  "language_info": {
   "codemirror_mode": {
    "name": "ipython",
    "version": 3
   },
   "file_extension": ".py",
   "mimetype": "text/x-python",
   "name": "python",
   "nbconvert_exporter": "python",
   "pygments_lexer": "ipython3",
   "version": "3.6.13"
  }
 },
 "nbformat": 4,
 "nbformat_minor": 5
}
