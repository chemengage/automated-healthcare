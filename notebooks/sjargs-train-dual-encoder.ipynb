{
 "cells": [
  {
   "cell_type": "code",
   "execution_count": 8,
   "id": "b18d81d0",
   "metadata": {},
   "outputs": [],
   "source": [
    "import os\n",
    "import collections\n",
    "import json\n",
    "import numpy as np\n",
    "import tensorflow as tf\n",
    "from tensorflow import keras\n",
    "from tensorflow.keras import layers\n",
    "import tensorflow_hub as hub\n",
    "import tensorflow_text as text\n",
    "import tensorflow_addons as tfa\n",
    "import matplotlib.pyplot as plt\n",
    "import matplotlib.image as mpimg\n",
    "from tqdm import tqdm\n",
    "import boto3\n",
    "from sagemaker import get_execution_role\n",
    "import pandas as pd\n",
    "import os\n",
    "\n",
    "# Suppressing tf.hub warnings\n",
    "tf.get_logger().setLevel(\"ERROR\")"
   ]
  },
  {
   "cell_type": "code",
   "execution_count": 3,
   "id": "622bcc7a",
   "metadata": {},
   "outputs": [
    {
     "name": "stderr",
     "output_type": "stream",
     "text": [
      "/home/ec2-user/anaconda3/envs/tensorflow2_p36/lib/python3.6/site-packages/boto3/compat.py:88: PythonDeprecationWarning: Boto3 will no longer support Python 3.6 starting May 30, 2022. To continue receiving service updates, bug fixes, and security updates please upgrade to Python 3.7 or later. More information can be found here: https://aws.amazon.com/blogs/developer/python-support-policy-updates-for-aws-sdks-and-tools/\n",
      "  warnings.warn(warning, PythonDeprecationWarning)\n"
     ]
    }
   ],
   "source": [
    "conn = boto3.resource('s3')"
   ]
  },
  {
   "cell_type": "markdown",
   "id": "5853172e",
   "metadata": {},
   "source": [
    "# Prepare Data"
   ]
  },
  {
   "cell_type": "code",
   "execution_count": 9,
   "id": "17a94562",
   "metadata": {},
   "outputs": [],
   "source": [
    "annotations = pd.read_csv('./text/text-data.csv')"
   ]
  },
  {
   "cell_type": "code",
   "execution_count": 18,
   "id": "b268376b",
   "metadata": {},
   "outputs": [
    {
     "data": {
      "text/plain": [
       "(50282, 3)"
      ]
     },
     "execution_count": 18,
     "metadata": {},
     "output_type": "execute_result"
    }
   ],
   "source": [
    "annotations.shape"
   ]
  },
  {
   "cell_type": "code",
   "execution_count": 19,
   "id": "39e16924",
   "metadata": {},
   "outputs": [],
   "source": [
    "def check_folder(file):\n",
    "    if file in os.listdir('./images/train'):\n",
    "        return 'train'\n",
    "    elif file in os.listdir('./images/valid'):\n",
    "        return 'valid'\n",
    "    else:\n",
    "        return None"
   ]
  },
  {
   "cell_type": "code",
   "execution_count": 20,
   "id": "e206bff0",
   "metadata": {},
   "outputs": [],
   "source": [
    "annotations['dataset'] = annotations['image'].apply(lambda x: check_folder(x))"
   ]
  },
  {
   "cell_type": "code",
   "execution_count": 21,
   "id": "68e9085c",
   "metadata": {},
   "outputs": [
    {
     "data": {
      "text/plain": [
       "(2500, 3)"
      ]
     },
     "execution_count": 21,
     "metadata": {},
     "output_type": "execute_result"
    }
   ],
   "source": [
    "annotations[annotations.dataset == 'valid'].shape"
   ]
  },
  {
   "cell_type": "code",
   "execution_count": 22,
   "id": "a79aa24a",
   "metadata": {},
   "outputs": [
    {
     "data": {
      "text/plain": [
       "(7500, 3)"
      ]
     },
     "execution_count": 22,
     "metadata": {},
     "output_type": "execute_result"
    }
   ],
   "source": [
    "annotations[annotations.dataset == 'train'].shape"
   ]
  },
  {
   "cell_type": "code",
   "execution_count": 29,
   "id": "067ec7e8",
   "metadata": {},
   "outputs": [],
   "source": [
    "req_annotations = annotations[(annotations.dataset == 'valid') | (annotations.dataset == 'train')]"
   ]
  },
  {
   "cell_type": "code",
   "execution_count": 30,
   "id": "435393d2",
   "metadata": {},
   "outputs": [
    {
     "data": {
      "text/plain": [
       "(10000, 3)"
      ]
     },
     "execution_count": 30,
     "metadata": {},
     "output_type": "execute_result"
    }
   ],
   "source": [
    "req_annotations.shape"
   ]
  },
  {
   "cell_type": "code",
   "execution_count": 49,
   "id": "d211f9a1",
   "metadata": {},
   "outputs": [],
   "source": [
    "root_dir = '/home/ec2-user/SageMaker/'\n",
    "images_dir = os.path.join(root_dir, 'images')\n",
    "tfrecords_dir = os.path.join(root_dir, \"tfrecords\")"
   ]
  },
  {
   "cell_type": "code",
   "execution_count": 40,
   "id": "2de41b63",
   "metadata": {},
   "outputs": [
    {
     "name": "stdout",
     "output_type": "stream",
     "text": [
      "Number of images: 10000\n"
     ]
    }
   ],
   "source": [
    "image_path_to_caption = collections.defaultdict(list)\n",
    "for i in range(len(req_annotations)):\n",
    "    text = list(req_annotations.text)[i]\n",
    "    dataset = list(req_annotations.dataset)[i]\n",
    "    image = list(req_annotations.image)[i]\n",
    "    caption = f\"{text.lower().replace('.', '')}\"\n",
    "    image_path = images_dir + '/' + dataset + '/' + image\n",
    "    image_path_to_caption[image_path].append(caption)\n",
    "\n",
    "image_paths = list(image_path_to_caption.keys())\n",
    "print(f\"Number of images: {len(image_paths)}\")"
   ]
  },
  {
   "cell_type": "markdown",
   "id": "e9f1769a",
   "metadata": {},
   "source": [
    "# Prepare TF Records"
   ]
  },
  {
   "cell_type": "code",
   "execution_count": 56,
   "id": "72e2bf56",
   "metadata": {},
   "outputs": [
    {
     "name": "stderr",
     "output_type": "stream",
     "text": [
      "100%|██████████| 7500/7500 [00:04<00:00, 1565.84it/s]\n"
     ]
    },
    {
     "name": "stdout",
     "output_type": "stream",
     "text": [
      "7500 training examples were written to tfrecord files.\n"
     ]
    },
    {
     "name": "stderr",
     "output_type": "stream",
     "text": [
      "100%|██████████| 2500/2500 [00:01<00:00, 1719.00it/s]"
     ]
    },
    {
     "name": "stdout",
     "output_type": "stream",
     "text": [
      "2500 evaluation examples were written to tfrecord files.\n"
     ]
    },
    {
     "name": "stderr",
     "output_type": "stream",
     "text": [
      "\n"
     ]
    }
   ],
   "source": [
    "train_size = 7500\n",
    "valid_size = 2500\n",
    "captions_per_image = 1\n",
    "images_per_file = 1\n",
    "\n",
    "train_image_paths = [path for path in image_paths if 'train' in path]\n",
    "num_train_files = int(np.ceil(train_size / images_per_file))\n",
    "train_files_prefix = os.path.join(tfrecords_dir, \"train\")\n",
    "\n",
    "valid_image_paths = [path for path in image_paths if 'valid' in path]\n",
    "num_valid_files = int(np.ceil(valid_size / images_per_file))\n",
    "valid_files_prefix = os.path.join(tfrecords_dir, \"valid\")\n",
    "\n",
    "tf.io.gfile.makedirs(tfrecords_dir)\n",
    "\n",
    "\n",
    "def bytes_feature(value):\n",
    "    return tf.train.Feature(bytes_list=tf.train.BytesList(value=[value]))\n",
    "\n",
    "\n",
    "def create_example(image_path, caption):\n",
    "    feature = {\n",
    "        \"caption\": bytes_feature(caption.encode()),\n",
    "        \"raw_image\": bytes_feature(tf.io.read_file(image_path).numpy()),\n",
    "    }\n",
    "    return tf.train.Example(features=tf.train.Features(feature=feature))\n",
    "\n",
    "\n",
    "def write_tfrecords(file_name, image_paths):\n",
    "    caption_list = []\n",
    "    image_path_list = []\n",
    "    for image_path in image_paths:\n",
    "        captions = image_path_to_caption[image_path][:captions_per_image]\n",
    "        caption_list.extend(captions)\n",
    "        image_path_list.extend([image_path] * len(captions))\n",
    "\n",
    "    with tf.io.TFRecordWriter(file_name) as writer:\n",
    "        for example_idx in range(len(image_path_list)):\n",
    "            example = create_example(\n",
    "                image_path_list[example_idx], caption_list[example_idx]\n",
    "            )\n",
    "            writer.write(example.SerializeToString())\n",
    "    return example_idx + 1\n",
    "\n",
    "\n",
    "def write_data(image_paths, num_files, files_prefix):\n",
    "    example_counter = 0\n",
    "    for file_idx in tqdm(range(num_files)):\n",
    "        file_name = files_prefix + \"-%02d.tfrecord\" % (file_idx)\n",
    "        start_idx = images_per_file * file_idx\n",
    "        end_idx = start_idx + images_per_file\n",
    "        example_counter += write_tfrecords(file_name, image_paths[start_idx:end_idx])\n",
    "    return example_counter\n",
    "\n",
    "\n",
    "train_example_count = write_data(train_image_paths, num_train_files, train_files_prefix)\n",
    "print(f\"{train_example_count} training examples were written to tfrecord files.\")\n",
    "\n",
    "valid_example_count = write_data(valid_image_paths, num_valid_files, valid_files_prefix)\n",
    "print(f\"{valid_example_count} evaluation examples were written to tfrecord files.\")"
   ]
  },
  {
   "cell_type": "markdown",
   "id": "72ffcb4c",
   "metadata": {},
   "source": [
    "# Implement Create Dataset"
   ]
  },
  {
   "cell_type": "code",
   "execution_count": 65,
   "id": "1791f2dc",
   "metadata": {},
   "outputs": [],
   "source": [
    "feature_description = {\n",
    "    \"caption\": tf.io.FixedLenFeature([], tf.string),\n",
    "    \"raw_image\": tf.io.FixedLenFeature([], tf.string),\n",
    "}\n",
    "\n",
    "\n",
    "def read_example(example):\n",
    "    features = tf.io.parse_single_example(example, feature_description)\n",
    "    raw_image = features.pop(\"raw_image\")\n",
    "    features[\"image\"] = tf.image.resize(\n",
    "        tf.image.decode_jpeg(raw_image, channels=3), size=(299, 299)\n",
    "    )\n",
    "    return features\n",
    "\n",
    "\n",
    "def get_dataset(file_pattern, batch_size):\n",
    "\n",
    "    return (\n",
    "        tf.data.TFRecordDataset(tf.data.Dataset.list_files(file_pattern))\n",
    "        .map(\n",
    "            read_example,\n",
    "            num_parallel_calls=tf.data.AUTOTUNE,\n",
    "            deterministic=False,\n",
    "        )\n",
    "        .shuffle(batch_size * 10)\n",
    "        .prefetch(buffer_size=tf.data.AUTOTUNE)\n",
    "        .batch(batch_size)\n",
    "    )"
   ]
  },
  {
   "cell_type": "markdown",
   "id": "f5333288",
   "metadata": {},
   "source": [
    "# Implement the projection head"
   ]
  },
  {
   "cell_type": "code",
   "execution_count": 57,
   "id": "5f98c789",
   "metadata": {},
   "outputs": [],
   "source": [
    "def project_embeddings(\n",
    "    embeddings, num_projection_layers, projection_dims, dropout_rate\n",
    "):\n",
    "    projected_embeddings = layers.Dense(units=projection_dims)(embeddings)\n",
    "    for _ in range(num_projection_layers):\n",
    "        x = tf.nn.gelu(projected_embeddings)\n",
    "        x = layers.Dense(projection_dims)(x)\n",
    "        x = layers.Dropout(dropout_rate)(x)\n",
    "        x = layers.Add()([projected_embeddings, x])\n",
    "        projected_embeddings = layers.LayerNormalization()(x)\n",
    "    return projected_embeddings"
   ]
  },
  {
   "cell_type": "markdown",
   "id": "3228120a",
   "metadata": {},
   "source": [
    "# Implement the vision encoder"
   ]
  },
  {
   "cell_type": "code",
   "execution_count": 58,
   "id": "d1182484",
   "metadata": {},
   "outputs": [],
   "source": [
    "def create_vision_encoder(\n",
    "    num_projection_layers, projection_dims, dropout_rate, trainable=False\n",
    "):\n",
    "    # Load the pre-trained Xception model to be used as the base encoder.\n",
    "    xception = keras.applications.Xception(\n",
    "        include_top=False, weights=\"imagenet\", pooling=\"avg\"\n",
    "    )\n",
    "    # Set the trainability of the base encoder.\n",
    "    for layer in xception.layers:\n",
    "        layer.trainable = trainable\n",
    "    # Receive the images as inputs.\n",
    "    inputs = layers.Input(shape=(299, 299, 3), name=\"image_input\")\n",
    "    # Preprocess the input image.\n",
    "    xception_input = tf.keras.applications.xception.preprocess_input(inputs)\n",
    "    # Generate the embeddings for the images using the xception model.\n",
    "    embeddings = xception(xception_input)\n",
    "    # Project the embeddings produced by the model.\n",
    "    outputs = project_embeddings(\n",
    "        embeddings, num_projection_layers, projection_dims, dropout_rate\n",
    "    )\n",
    "    # Create the vision encoder model.\n",
    "    return keras.Model(inputs, outputs, name=\"vision_encoder\")"
   ]
  },
  {
   "cell_type": "markdown",
   "id": "6f0564af",
   "metadata": {},
   "source": [
    "# Implement the text encoder"
   ]
  },
  {
   "cell_type": "code",
   "execution_count": 59,
   "id": "d8772ef8",
   "metadata": {},
   "outputs": [],
   "source": [
    "def create_text_encoder(\n",
    "    num_projection_layers, projection_dims, dropout_rate, trainable=False\n",
    "):\n",
    "    # Load the BERT preprocessing module.\n",
    "    preprocess = hub.KerasLayer(\n",
    "        \"https://tfhub.dev/tensorflow/bert_en_uncased_preprocess/2\",\n",
    "        name=\"text_preprocessing\",\n",
    "    )\n",
    "    # Load the pre-trained BERT model to be used as the base encoder.\n",
    "    bert = hub.KerasLayer(\n",
    "        \"https://tfhub.dev/tensorflow/small_bert/bert_en_uncased_L-4_H-512_A-8/1\",\n",
    "        \"bert\",\n",
    "    )\n",
    "    # Set the trainability of the base encoder.\n",
    "    bert.trainable = trainable\n",
    "    # Receive the text as inputs.\n",
    "    inputs = layers.Input(shape=(), dtype=tf.string, name=\"text_input\")\n",
    "    # Preprocess the text.\n",
    "    bert_inputs = preprocess(inputs)\n",
    "    # Generate embeddings for the preprocessed text using the BERT model.\n",
    "    embeddings = bert(bert_inputs)[\"pooled_output\"]\n",
    "    # Project the embeddings produced by the model.\n",
    "    outputs = project_embeddings(\n",
    "        embeddings, num_projection_layers, projection_dims, dropout_rate\n",
    "    )\n",
    "    # Create the text encoder model.\n",
    "    return keras.Model(inputs, outputs, name=\"text_encoder\")"
   ]
  },
  {
   "cell_type": "markdown",
   "id": "54816bdf",
   "metadata": {},
   "source": [
    "# Implement the dual encoder"
   ]
  },
  {
   "cell_type": "code",
   "execution_count": 60,
   "id": "15fcaf62",
   "metadata": {},
   "outputs": [],
   "source": [
    "class DualEncoder(keras.Model):\n",
    "    def __init__(self, text_encoder, image_encoder, temperature=1.0, **kwargs):\n",
    "        super(DualEncoder, self).__init__(**kwargs)\n",
    "        self.text_encoder = text_encoder\n",
    "        self.image_encoder = image_encoder\n",
    "        self.temperature = temperature\n",
    "        self.loss_tracker = keras.metrics.Mean(name=\"loss\")\n",
    "\n",
    "    @property\n",
    "    def metrics(self):\n",
    "        return [self.loss_tracker]\n",
    "\n",
    "    def call(self, features, training=False):\n",
    "        # Place each encoder on a separate GPU (if available).\n",
    "        # TF will fallback on available devices if there are fewer than 2 GPUs.\n",
    "        with tf.device(\"/gpu:0\"):\n",
    "            # Get the embeddings for the captions.\n",
    "            caption_embeddings = text_encoder(features[\"caption\"], training=training)\n",
    "        with tf.device(\"/gpu:1\"):\n",
    "            # Get the embeddings for the images.\n",
    "            image_embeddings = vision_encoder(features[\"image\"], training=training)\n",
    "        return caption_embeddings, image_embeddings\n",
    "\n",
    "    def compute_loss(self, caption_embeddings, image_embeddings):\n",
    "        # logits[i][j] is the dot_similarity(caption_i, image_j).\n",
    "        logits = (\n",
    "            tf.matmul(caption_embeddings, image_embeddings, transpose_b=True)\n",
    "            / self.temperature\n",
    "        )\n",
    "        # images_similarity[i][j] is the dot_similarity(image_i, image_j).\n",
    "        images_similarity = tf.matmul(\n",
    "            image_embeddings, image_embeddings, transpose_b=True\n",
    "        )\n",
    "        # captions_similarity[i][j] is the dot_similarity(caption_i, caption_j).\n",
    "        captions_similarity = tf.matmul(\n",
    "            caption_embeddings, caption_embeddings, transpose_b=True\n",
    "        )\n",
    "        # targets[i][j] = avarage dot_similarity(caption_i, caption_j) and dot_similarity(image_i, image_j).\n",
    "        targets = keras.activations.softmax(\n",
    "            (captions_similarity + images_similarity) / (2 * self.temperature)\n",
    "        )\n",
    "        # Compute the loss for the captions using crossentropy\n",
    "        captions_loss = keras.losses.categorical_crossentropy(\n",
    "            y_true=targets, y_pred=logits, from_logits=True\n",
    "        )\n",
    "        # Compute the loss for the images using crossentropy\n",
    "        images_loss = keras.losses.categorical_crossentropy(\n",
    "            y_true=tf.transpose(targets), y_pred=tf.transpose(logits), from_logits=True\n",
    "        )\n",
    "        # Return the mean of the loss over the batch.\n",
    "        return (captions_loss + images_loss) / 2\n",
    "\n",
    "    def train_step(self, features):\n",
    "        with tf.GradientTape() as tape:\n",
    "            # Forward pass\n",
    "            caption_embeddings, image_embeddings = self(features, training=True)\n",
    "            loss = self.compute_loss(caption_embeddings, image_embeddings)\n",
    "        # Backward pass\n",
    "        gradients = tape.gradient(loss, self.trainable_variables)\n",
    "        self.optimizer.apply_gradients(zip(gradients, self.trainable_variables))\n",
    "        # Monitor loss\n",
    "        self.loss_tracker.update_state(loss)\n",
    "        return {\"loss\": self.loss_tracker.result()}\n",
    "\n",
    "    def test_step(self, features):\n",
    "        caption_embeddings, image_embeddings = self(features, training=False)\n",
    "        loss = self.compute_loss(caption_embeddings, image_embeddings)\n",
    "        self.loss_tracker.update_state(loss)\n",
    "        return {\"loss\": self.loss_tracker.result()}"
   ]
  },
  {
   "cell_type": "markdown",
   "id": "49422b14",
   "metadata": {},
   "source": [
    "# Train the dual encoder model"
   ]
  },
  {
   "cell_type": "code",
   "execution_count": 67,
   "id": "810627e4",
   "metadata": {},
   "outputs": [],
   "source": [
    "num_epochs = 5  # In practice, train for at least 30 epochs\n",
    "batch_size = 256\n",
    "\n",
    "vision_encoder = create_vision_encoder(\n",
    "    num_projection_layers=1, projection_dims=256, dropout_rate=0.1\n",
    ")\n",
    "text_encoder = create_text_encoder(\n",
    "    num_projection_layers=1, projection_dims=256, dropout_rate=0.1\n",
    ")\n",
    "dual_encoder = DualEncoder(text_encoder, vision_encoder, temperature=0.05)\n",
    "dual_encoder.compile(\n",
    "    optimizer=tfa.optimizers.AdamW(learning_rate=0.001, weight_decay=0.001)\n",
    ")"
   ]
  },
  {
   "cell_type": "code",
   "execution_count": 68,
   "id": "94aaccb0",
   "metadata": {},
   "outputs": [
    {
     "name": "stdout",
     "output_type": "stream",
     "text": [
      "Number of GPUs: 0\n",
      "Number of examples (caption-image pairs): 7500\n",
      "Batch size: 256\n",
      "Steps per epoch: 30\n",
      "Epoch 1/5\n",
      "30/30 [==============================] - 2429s 81s/step - loss: 235.4948 - val_loss: 78.8963\n",
      "Epoch 2/5\n",
      "30/30 [==============================] - 2410s 81s/step - loss: 90.9814 - val_loss: 44.8642\n",
      "Epoch 3/5\n",
      "30/30 [==============================] - 2406s 81s/step - loss: 49.6884 - val_loss: 26.8933\n",
      "Epoch 4/5\n",
      "30/30 [==============================] - 2411s 81s/step - loss: 32.0947 - val_loss: 16.1155\n",
      "Epoch 5/5\n",
      "30/30 [==============================] - 2413s 81s/step - loss: 24.6816 - val_loss: 13.0429\n",
      "Training completed. Saving vision and text encoders...\n"
     ]
    },
    {
     "name": "stderr",
     "output_type": "stream",
     "text": [
      "/home/ec2-user/anaconda3/envs/tensorflow2_p36/lib/python3.6/site-packages/keras/utils/generic_utils.py:497: CustomMaskWarning: Custom mask layers require a config and must override get_config. When loading, the custom mask layer must be passed to the custom_objects argument.\n",
      "  category=CustomMaskWarning)\n",
      "WARNING:absl:Found untraced functions such as restored_function_body, restored_function_body, restored_function_body, restored_function_body, restored_function_body while saving (showing 5 of 310). These functions will not be directly callable after loading.\n"
     ]
    },
    {
     "name": "stdout",
     "output_type": "stream",
     "text": [
      "Models are saved.\n"
     ]
    },
    {
     "name": "stderr",
     "output_type": "stream",
     "text": [
      "/home/ec2-user/anaconda3/envs/tensorflow2_p36/lib/python3.6/site-packages/keras/utils/generic_utils.py:497: CustomMaskWarning: Custom mask layers require a config and must override get_config. When loading, the custom mask layer must be passed to the custom_objects argument.\n",
      "  category=CustomMaskWarning)\n"
     ]
    }
   ],
   "source": [
    "print(f\"Number of GPUs: {len(tf.config.list_physical_devices('GPU'))}\")\n",
    "print(f\"Number of examples (caption-image pairs): {train_example_count}\")\n",
    "print(f\"Batch size: {batch_size}\")\n",
    "print(f\"Steps per epoch: {int(np.ceil(train_example_count / batch_size))}\")\n",
    "train_dataset = get_dataset(os.path.join(tfrecords_dir, \"train-*.tfrecord\"), batch_size)\n",
    "valid_dataset = get_dataset(os.path.join(tfrecords_dir, \"valid-*.tfrecord\"), batch_size)\n",
    "# Create a learning rate scheduler callback.\n",
    "reduce_lr = keras.callbacks.ReduceLROnPlateau(\n",
    "    monitor=\"val_loss\", factor=0.2, patience=3\n",
    ")\n",
    "# Create an early stopping callback.\n",
    "early_stopping = tf.keras.callbacks.EarlyStopping(\n",
    "    monitor=\"val_loss\", patience=5, restore_best_weights=True\n",
    ")\n",
    "history = dual_encoder.fit(\n",
    "    train_dataset,\n",
    "    epochs=num_epochs,\n",
    "    validation_data=valid_dataset,\n",
    "    callbacks=[reduce_lr, early_stopping],\n",
    ")\n",
    "print(\"Training completed. Saving vision and text encoders...\")\n",
    "vision_encoder.save(\"vision_encoder\")\n",
    "text_encoder.save(\"text_encoder\")\n",
    "print(\"Models are saved.\")"
   ]
  },
  {
   "cell_type": "code",
   "execution_count": 69,
   "id": "a914f4b4",
   "metadata": {},
   "outputs": [
    {
     "data": {
      "image/png": "[encoded data removed]",
      "text/plain": [
       "<Figure size 432x288 with 1 Axes>"
      ]
     },
     "metadata": {
      "needs_background": "light"
     },
     "output_type": "display_data"
    }
   ],
   "source": [
    "plt.plot(history.history[\"loss\"])\n",
    "plt.plot(history.history[\"val_loss\"])\n",
    "plt.ylabel(\"Loss\")\n",
    "plt.xlabel(\"Epoch\")\n",
    "plt.legend([\"train\", \"valid\"], loc=\"upper right\")\n",
    "plt.show()"
   ]
  },
  {
   "cell_type": "markdown",
   "id": "91351619",
   "metadata": {},
   "source": [
    "# Generate Embeddings for the Images"
   ]
  },
  {
   "cell_type": "code",
   "execution_count": 74,
   "id": "bd7954e2",
   "metadata": {},
   "outputs": [
    {
     "name": "stdout",
     "output_type": "stream",
     "text": [
      "Loading vision and text encoders...\n",
      "Models are loaded.\n"
     ]
    }
   ],
   "source": [
    "print(\"Loading vision and text encoders...\")\n",
    "vision_encoder = keras.models.load_model(\"vision_encoder\")\n",
    "text_encoder = keras.models.load_model(\"text_encoder\")\n",
    "print(\"Models are loaded.\")"
   ]
  },
  {
   "cell_type": "code",
   "execution_count": 100,
   "id": "7e197d71",
   "metadata": {},
   "outputs": [
    {
     "name": "stdout",
     "output_type": "stream",
     "text": [
      "Generating embedding for /home/ec2-user/SageMaker/images/valid/1757.png ...\n",
      "1/1 [==============================] - 0s 206ms/step\n",
      "Image embeddings shape: (1, 256).\n"
     ]
    }
   ],
   "source": [
    "def read_image(image_path):\n",
    "    image_array = tf.image.decode_jpeg(tf.io.read_file(image_path), channels=3)\n",
    "    return tf.image.resize(image_array, (299, 299))"
   ]
  },
  {
   "cell_type": "markdown",
   "id": "f91079e8",
   "metadata": {},
   "source": [
    "# Retrieve text for images"
   ]
  },
  {
   "cell_type": "code",
   "execution_count": 178,
   "id": "1f92822a",
   "metadata": {},
   "outputs": [],
   "source": [
    "def provide_reason(unique_texts, image_path, k=1, normalize=True):\n",
    "    # Get embedding for input image\n",
    "    get_image_embedding = vision_encoder.predict(\n",
    "        tf.expand_dims(read_image(image_path), axis=0),\n",
    "        verbose=0,\n",
    "    )\n",
    "    # Get text embeddings for all possible explanations\n",
    "    text_embeddings = [text_encoder(tf.convert_to_tensor([text.lower().replace('.', '')])) for text in unique_texts]\n",
    "    # Normalize text and image embedding\n",
    "    if normalize:\n",
    "        image_embedding = tf.math.l2_normalize(get_image_embedding)\n",
    "        text_embedding = [tf.math.l2_normalize(text) for text in text_embeddings]\n",
    "    # Obtain dot similarities\n",
    "    dot_similarity = [dot[0][0].numpy() for dot in tf.matmul(image_embedding, text_embedding, transpose_b=True)]\n",
    "    # Retrieve top index similarity score\n",
    "    result_index = dot_similarity.index(max(dot_similarity))\n",
    "    # Return best explanation sentence match\n",
    "    return unique_texts[result_index]"
   ]
  },
  {
   "cell_type": "code",
   "execution_count": 164,
   "id": "ad6dce8f",
   "metadata": {},
   "outputs": [],
   "source": [
    "sample_image_path_1 = '/home/ec2-user/SageMaker/images/valid/1757.png'"
   ]
  },
  {
   "cell_type": "code",
   "execution_count": 179,
   "id": "9a45c96e",
   "metadata": {},
   "outputs": [
    {
     "data": {
      "text/plain": [
       "'Classification for this image is asymmetric anaphase structure. This is explained by two chromosome clusters of unequal size are depicted.'"
      ]
     },
     "execution_count": 179,
     "metadata": {},
     "output_type": "execute_result"
    }
   ],
   "source": [
    "provide_reason(unique_texts, sample_image_path_1)"
   ]
  },
  {
   "cell_type": "code",
   "execution_count": 151,
   "id": "24cf0e0d",
   "metadata": {},
   "outputs": [],
   "source": [
    "sample_image_path_2 = '/home/ec2-user/SageMaker/images/valid/16698.png'"
   ]
  },
  {
   "cell_type": "code",
   "execution_count": 180,
   "id": "b6fa7d0e",
   "metadata": {},
   "outputs": [
    {
     "data": {
      "text/plain": [
       "'Phase structure chromosome bridging most evidently described by chromosomes stretching from one pole to other.'"
      ]
     },
     "execution_count": 180,
     "metadata": {},
     "output_type": "execute_result"
    }
   ],
   "source": [
    "provide_reason(unique_texts, sample_image_path_2)"
   ]
  },
  {
   "cell_type": "code",
   "execution_count": 153,
   "id": "8c80b9ad",
   "metadata": {},
   "outputs": [],
   "source": [
    "sample_image_path_3 = '/home/ec2-user/SageMaker/images/valid/18270.png'"
   ]
  },
  {
   "cell_type": "code",
   "execution_count": 181,
   "id": "b33738b6",
   "metadata": {},
   "outputs": [
    {
     "data": {
      "text/plain": [
       "'Classification for this image is asymmetric anaphase structure. This is explained by two chromosome clusters of unequal size are depicted.'"
      ]
     },
     "execution_count": 181,
     "metadata": {},
     "output_type": "execute_result"
    }
   ],
   "source": [
    "provide_reason(unique_texts, sample_image_path_3)"
   ]
  },
  {
   "cell_type": "code",
   "execution_count": 183,
   "id": "4fb03679",
   "metadata": {},
   "outputs": [],
   "source": [
    "sample_image_path_4 = '/home/ec2-user/SageMaker/images/valid/187098.png'"
   ]
  },
  {
   "cell_type": "code",
   "execution_count": 184,
   "id": "5d397cc7",
   "metadata": {},
   "outputs": [
    {
     "data": {
      "text/plain": [
       "'All cells are healthy.'"
      ]
     },
     "execution_count": 184,
     "metadata": {},
     "output_type": "execute_result"
    }
   ],
   "source": [
    "provide_reason(unique_texts, sample_image_path_4)"
   ]
  },
  {
   "cell_type": "code",
   "execution_count": 193,
   "id": "9a1701c6",
   "metadata": {},
   "outputs": [],
   "source": [
    "sample_image_path_5 = '/home/ec2-user/SageMaker/images/valid/16743.png'"
   ]
  },
  {
   "cell_type": "code",
   "execution_count": 194,
   "id": "57d07fe2",
   "metadata": {},
   "outputs": [
    {
     "data": {
      "text/plain": [
       "'Phase structure chromosome bridging most evidently described by chromosomes stretching from one pole to other.'"
      ]
     },
     "execution_count": 194,
     "metadata": {},
     "output_type": "execute_result"
    }
   ],
   "source": [
    "provide_reason(unique_texts, sample_image_path_5)"
   ]
  }
 ],
 "metadata": {
  "kernelspec": {
   "display_name": "conda_tensorflow2_p36",
   "language": "python",
   "name": "conda_tensorflow2_p36"
  },
  "language_info": {
   "codemirror_mode": {
    "name": "ipython",
    "version": 3
   },
   "file_extension": ".py",
   "mimetype": "text/x-python",
   "name": "python",
   "nbconvert_exporter": "python",
   "pygments_lexer": "ipython3",
   "version": "3.6.13"
  }
 },
 "nbformat": 4,
 "nbformat_minor": 5
}
