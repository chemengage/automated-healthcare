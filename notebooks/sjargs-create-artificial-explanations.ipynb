{
 "cells": [
  {
   "cell_type": "code",
   "execution_count": 6,
   "id": "401cbe56",
   "metadata": {},
   "outputs": [],
   "source": [
    "from random import choice\n",
    "import pandas as pd"
   ]
  },
  {
   "cell_type": "markdown",
   "id": "c15aac53",
   "metadata": {},
   "source": [
    "# Generate Random Explanatory Texts for Mitosis"
   ]
  },
  {
   "cell_type": "code",
   "execution_count": 10,
   "id": "0a6c4bd5",
   "metadata": {},
   "outputs": [],
   "source": [
    "structures = ['prometaphase', 'metaphase', 'anaphase', 'telophase', 'tripolar', 'asymmetric anaphase', 'chromosome bridging', 'chromosome lagging']"
   ]
  },
  {
   "cell_type": "code",
   "execution_count": 34,
   "id": "89a81b8e",
   "metadata": {},
   "outputs": [],
   "source": [
    "structure_explanations = {\n",
    "    'prometaphase': [\n",
    "        'dark aggregate cluster with spikes', \n",
    "        'dark aggregate ring shape with spikes', \n",
    "        'dark aggregate cluster with projections',\n",
    "        'dark aggregate ring shape with projections',\n",
    "        'darken grouped cluster with projections', \n",
    "        'darken ring shape blobs with projections',\n",
    "        'clusters of spikey dark rings present',\n",
    "        'clumps of dark projections are apparent'\n",
    "    ],\n",
    "    'metaphase': [\n",
    "        'dark aggregate linear shape with spikes', \n",
    "        'dark aggregate ring shape with spikes', \n",
    "        'dark aggregate linear shape with projections',\n",
    "        'dark aggregate ring shape with projections',\n",
    "        'darken grouped linear clusters with projections', \n",
    "        'darken ring shape blobs with projections',\n",
    "        'clusters of linear spikey dark rings present',\n",
    "        'linear clumps of dark projections are apparent'\n",
    "    ],\n",
    "    'anaphase': [\n",
    "        'presence of two separated aggregates of variable distances apart',\n",
    "        'two separated spikey figured of variable distances apart',\n",
    "        'presence of two separated linear figures with some distance between',\n",
    "        'linear figured aggregates are separated with some distance apart',\n",
    "        'dark spikey figures are separated with variable distances apart',\n",
    "        'linear shape with projections are separated with little distance apart',\n",
    "        'spikey shape with projections are separated with some distance between'\n",
    "    ],\n",
    "    'telophase': [\n",
    "        'presence of two separated aggregates at opposite ends of cell',\n",
    "        'two separated spikey figures at opposite ends of cell',\n",
    "        'presence of two separated linear figures at opposite ends of cell',\n",
    "        'linear figured aggregates are separated at opposite ends of cell',\n",
    "        'dark spikey figures are separated at opposite ends of cell',\n",
    "        'linear shape with projections located at opposite ends of cell',\n",
    "        'spikey shape with projections located at opposite ends of cell'\n",
    "    ],\n",
    "    'tripolar': [\n",
    "        'more than two chromosome clusters during anaphase with three linear plates',\n",
    "        'more than two chromosome clusters during telophase with six linear plates',\n",
    "        'more than two chromosome clusters during metaphase with a linear plate',\n",
    "        'more than two chromosome clusters during prometaphase with nine linear plates'\n",
    "    ],\n",
    "    'asymmetric anaphase': [\n",
    "        'unequal sizes of two chromosome clusters',\n",
    "        'two chromosome clusters of unequal size are present',\n",
    "        'there are clear depictions of unequal sized two chromosome clusters',\n",
    "        'two chromosome clusters of unequal size are depicted',       \n",
    "    ],\n",
    "    'chromosome bridging': [\n",
    "        'chromosomes stretching from one pole to other'\n",
    "    ],\n",
    "    'chromosome lagging': [\n",
    "        'chromosomes not in contact with larger linear cord'\n",
    "    ]\n",
    "}"
   ]
  },
  {
   "cell_type": "code",
   "execution_count": 35,
   "id": "9d71925c",
   "metadata": {},
   "outputs": [],
   "source": [
    "structure_sentences = [\n",
    "    'Classified {} structure because of {}.', \n",
    "    'The image is classified as {}. Reasons for this are {}.', \n",
    "    'Classification for this image is {} structure. This is explained by {}.',\n",
    "    'Cell division phase {} present. Observations of {} are evident.', \n",
    "    'Phase structure {} most evidently described by {}.'\n",
    "]"
   ]
  },
  {
   "cell_type": "code",
   "execution_count": 36,
   "id": "c15dba1b",
   "metadata": {},
   "outputs": [],
   "source": [
    "structure_explanations = [sentence.format(phase,explanation) for sentence in structure_sentences for phase in structures for explanation in structure_explanations[phase]]"
   ]
  },
  {
   "cell_type": "code",
   "execution_count": 37,
   "id": "ce3c9bb5",
   "metadata": {},
   "outputs": [
    {
     "data": {
      "text/plain": [
       "200"
      ]
     },
     "execution_count": 37,
     "metadata": {},
     "output_type": "execute_result"
    }
   ],
   "source": [
    "len(structure_explanations)"
   ]
  },
  {
   "cell_type": "markdown",
   "id": "3ac2390d",
   "metadata": {},
   "source": [
    "# Generate Nonmitotic Explanations"
   ]
  },
  {
   "cell_type": "code",
   "execution_count": 40,
   "id": "4d1bc9a9",
   "metadata": {},
   "outputs": [],
   "source": [
    "nonmitotic_explanations = [\n",
    "    'The whole slide is clean. No affected cells.',\n",
    "    'All cells are healthy.',\n",
    "    'No presence of increased mitotic count.',\n",
    "    'No anomalies present.',\n",
    "    'Nothing to consider.',\n",
    "    'Nothing here.',\n",
    "    'Not available.',\n",
    "    'Healthy-looking cells.',\n",
    "    'No concerns.',\n",
    "    'No concern here.',\n",
    "    'Cells look fine.',\n",
    "    'No structural anomalies.',\n",
    "    'No phase structure problems.',\n",
    "    'Nothing wrong.'\n",
    "]"
   ]
  },
  {
   "cell_type": "markdown",
   "id": "13c29a62",
   "metadata": {},
   "source": [
    "# Create Fake Text"
   ]
  },
  {
   "cell_type": "code",
   "execution_count": 38,
   "id": "d0ff57d6",
   "metadata": {},
   "outputs": [],
   "source": [
    "n_train_mitosis = 10495\n",
    "train_mitosis_explanations = [choice(structure_explanations) for i in range(n_train_mitosis)]"
   ]
  },
  {
   "cell_type": "code",
   "execution_count": 43,
   "id": "b0b698df",
   "metadata": {},
   "outputs": [
    {
     "data": {
      "text/plain": [
       "['Cell division phase tripolar present. Observations of more than two chromosome clusters during prometaphase with nine linear plates are evident.',\n",
       " 'Classification for this image is anaphase structure. This is explained by presence of two separated linear figures with some distance between.',\n",
       " 'Phase structure anaphase most evidently described by presence of two separated aggregates of variable distances apart.',\n",
       " 'Classification for this image is telophase structure. This is explained by presence of two separated linear figures at opposite ends of cell.',\n",
       " 'Cell division phase prometaphase present. Observations of clumps of dark projections are apparent are evident.',\n",
       " 'The image is classified as anaphase. Reasons for this are two separated spikey figured of variable distances apart.',\n",
       " 'Cell division phase prometaphase present. Observations of dark aggregate cluster with projections are evident.',\n",
       " 'Phase structure telophase most evidently described by two separated spikey figures at opposite ends of cell.',\n",
       " 'The image is classified as telophase. Reasons for this are linear figured aggregates are separated at opposite ends of cell.',\n",
       " 'Classification for this image is metaphase structure. This is explained by darken ring shape blobs with projections.']"
      ]
     },
     "execution_count": 43,
     "metadata": {},
     "output_type": "execute_result"
    }
   ],
   "source": [
    "train_mitosis_explanations[:10]"
   ]
  },
  {
   "cell_type": "code",
   "execution_count": 41,
   "id": "f8edba32",
   "metadata": {},
   "outputs": [],
   "source": [
    "n_train_nonmitosis = 27455\n",
    "train_nonmitosis_explanations = [choice(nonmitotic_explanations) for i in range(n_train_nonmitosis)]"
   ]
  },
  {
   "cell_type": "code",
   "execution_count": 42,
   "id": "0d0091c2",
   "metadata": {},
   "outputs": [
    {
     "data": {
      "text/plain": [
       "['Healthy-looking cells.',\n",
       " 'No presence of increased mitotic count.',\n",
       " 'Cells look fine.',\n",
       " 'Healthy-looking cells.',\n",
       " 'Healthy-looking cells.',\n",
       " 'Cells look fine.',\n",
       " 'No phase structure problems.',\n",
       " 'Cells look fine.',\n",
       " 'The whole slide is clean. No affected cells.',\n",
       " 'Nothing wrong.']"
      ]
     },
     "execution_count": 42,
     "metadata": {},
     "output_type": "execute_result"
    }
   ],
   "source": [
    "train_nonmitosis_explanations[:10]"
   ]
  },
  {
   "cell_type": "code",
   "execution_count": 46,
   "id": "32ca2d4d",
   "metadata": {},
   "outputs": [],
   "source": [
    "n_test_mitosis = 3412\n",
    "test_mitosis_explanations = [choice(structure_explanations) for i in range(n_test_mitosis)]"
   ]
  },
  {
   "cell_type": "code",
   "execution_count": 47,
   "id": "9455b69e",
   "metadata": {},
   "outputs": [
    {
     "data": {
      "text/plain": [
       "['Phase structure prometaphase most evidently described by dark aggregate cluster with projections.',\n",
       " 'Classified tripolar structure because of more than two chromosome clusters during prometaphase with nine linear plates.',\n",
       " 'Phase structure asymmetric anaphase most evidently described by unequal sizes of two chromosome clusters.',\n",
       " 'The image is classified as asymmetric anaphase. Reasons for this are two chromosome clusters of unequal size are present.',\n",
       " 'Classified chromosome lagging structure because of chromosomes not in contact with larger linear cord.',\n",
       " 'Cell division phase anaphase present. Observations of presence of two separated aggregates of variable distances apart are evident.',\n",
       " 'Cell division phase metaphase present. Observations of dark aggregate ring shape with spikes are evident.',\n",
       " 'Classified metaphase structure because of dark aggregate ring shape with spikes.',\n",
       " 'Phase structure prometaphase most evidently described by dark aggregate ring shape with spikes.',\n",
       " 'Phase structure prometaphase most evidently described by darken grouped cluster with projections.']"
      ]
     },
     "execution_count": 47,
     "metadata": {},
     "output_type": "execute_result"
    }
   ],
   "source": [
    "test_mitosis_explanations[:10]"
   ]
  },
  {
   "cell_type": "code",
   "execution_count": 50,
   "id": "6c6a9501",
   "metadata": {},
   "outputs": [],
   "source": [
    "n_test_nonmitosis = 8920\n",
    "test_nonmitosis_explanations = [choice(nonmitotic_explanations) for i in range(n_test_nonmitosis)]"
   ]
  },
  {
   "cell_type": "code",
   "execution_count": 51,
   "id": "15669e97",
   "metadata": {},
   "outputs": [
    {
     "data": {
      "text/plain": [
       "['Healthy-looking cells.',\n",
       " 'No concern here.',\n",
       " 'All cells are healthy.',\n",
       " 'All cells are healthy.',\n",
       " 'No phase structure problems.',\n",
       " 'No anomalies present.',\n",
       " 'Nothing wrong.',\n",
       " 'All cells are healthy.',\n",
       " 'Nothing wrong.',\n",
       " 'No concerns.']"
      ]
     },
     "execution_count": 51,
     "metadata": {},
     "output_type": "execute_result"
    }
   ],
   "source": [
    "test_nonmitosis_explanations[:10]"
   ]
  },
  {
   "cell_type": "markdown",
   "id": "4505a28e",
   "metadata": {},
   "source": [
    "# Save Individual Files to csv then to S3 Bucket"
   ]
  },
  {
   "cell_type": "code",
   "execution_count": 53,
   "id": "940add10",
   "metadata": {},
   "outputs": [],
   "source": [
    "tme = pd.DataFrame(train_mitosis_explanations, columns=['text'])\n",
    "tnme = pd.DataFrame(train_nonmitosis_explanations, columns=['text'])\n",
    "tsme = pd.DataFrame(test_mitosis_explanations, columns=['text'])\n",
    "tsnme = pd.DataFrame(test_nonmitosis_explanations, columns=['text'])"
   ]
  },
  {
   "cell_type": "code",
   "execution_count": 54,
   "id": "066a556a",
   "metadata": {},
   "outputs": [],
   "source": [
    "from sagemaker import get_execution_role\n",
    "import boto3"
   ]
  },
  {
   "cell_type": "code",
   "execution_count": 65,
   "id": "a483a192",
   "metadata": {},
   "outputs": [],
   "source": [
    "def upload_to_s3(df, filename, bucket='sjargs-dev-mle9'):\n",
    "    local_file = filename + '.csv'\n",
    "    df.to_csv(local_file, index=False)\n",
    "    conn = boto3.resource('s3')\n",
    "    conn.meta.client.upload_file(\n",
    "            local_file,\n",
    "            bucket,\n",
    "            local_file\n",
    "    )"
   ]
  },
  {
   "cell_type": "code",
   "execution_count": 63,
   "id": "0314b9a2",
   "metadata": {},
   "outputs": [],
   "source": [
    "upload_to_s3(tme, 'train-mitosis-explanations')"
   ]
  },
  {
   "cell_type": "code",
   "execution_count": 66,
   "id": "08c40767",
   "metadata": {},
   "outputs": [],
   "source": [
    "upload_to_s3(tnme, 'train-nonmitosis-explanations')"
   ]
  },
  {
   "cell_type": "code",
   "execution_count": 67,
   "id": "87f23e0b",
   "metadata": {},
   "outputs": [],
   "source": [
    "upload_to_s3(tsme, 'test-mitosis-explanations')"
   ]
  },
  {
   "cell_type": "code",
   "execution_count": 68,
   "id": "82b5ad32",
   "metadata": {},
   "outputs": [],
   "source": [
    "upload_to_s3(tsnme, 'test-nonmitosis-explanations')"
   ]
  }
 ],
 "metadata": {
  "kernelspec": {
   "display_name": "conda_pytorch_latest_p36",
   "language": "python",
   "name": "conda_pytorch_latest_p36"
  },
  "language_info": {
   "codemirror_mode": {
    "name": "ipython",
    "version": 3
   },
   "file_extension": ".py",
   "mimetype": "text/x-python",
   "name": "python",
   "nbconvert_exporter": "python",
   "pygments_lexer": "ipython3",
   "version": "3.6.13"
  }
 },
 "nbformat": 4,
 "nbformat_minor": 5
}
