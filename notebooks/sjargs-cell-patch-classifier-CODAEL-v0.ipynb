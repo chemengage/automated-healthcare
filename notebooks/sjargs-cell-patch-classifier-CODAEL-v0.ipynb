{
  "cells": [
    {
      "cell_type": "markdown",
      "metadata": {
        "id": "JXbzsXgc2uP-"
      },
      "source": [
        "# Initial transfer learning CNN modeling in PyTorch"
      ]
    },
    {
      "cell_type": "markdown",
      "metadata": {
        "id": "wqsdwdII2uQD"
      },
      "source": [
        "Adapted from: https://pytorch.org/tutorials/beginner/transfer_learning_tutorial.html"
      ]
    },
    {
      "cell_type": "code",
      "source": [
        "from google.colab import drive\n",
        "drive.mount('/content/drive')"
      ],
      "metadata": {
        "colab": {
          "base_uri": "https://localhost:8080/"
        },
        "id": "LvGRrCRv3A9H",
        "outputId": "27f54801-2714-450a-a4c4-11ece4c4a015"
      },
      "execution_count": null,
      "outputs": [
        {
          "output_type": "stream",
          "name": "stdout",
          "text": [
            "Mounted at /content/drive\n"
          ]
        }
      ]
    },
    {
      "cell_type": "code",
      "source": [
        "!pip install torchmetrics\n",
        "!pip install mlflow\n",
        "!pip install pytorch-lightning==1.7.6"
      ],
      "metadata": {
        "id": "BQvbQ0H83d6O",
        "colab": {
          "base_uri": "https://localhost:8080/"
        },
        "outputId": "b1bf14b4-495a-4aa9-83de-046445cd2576"
      },
      "execution_count": null,
      "outputs": [
        {
          "output_type": "stream",
          "name": "stdout",
          "text": [
            "Looking in indexes: https://pypi.org/simple, https://us-python.pkg.dev/colab-wheels/public/simple/\n",
            "Collecting torchmetrics\n",
            "  Downloading torchmetrics-0.10.0-py3-none-any.whl (529 kB)\n",
            "\u001b[K     |████████████████████████████████| 529 kB 30.0 MB/s \n",
            "\u001b[?25hRequirement already satisfied: torch>=1.3.1 in /usr/local/lib/python3.7/dist-packages (from torchmetrics) (1.12.1+cu113)\n",
            "Requirement already satisfied: packaging in /usr/local/lib/python3.7/dist-packages (from torchmetrics) (21.3)\n",
            "Requirement already satisfied: typing-extensions in /usr/local/lib/python3.7/dist-packages (from torchmetrics) (4.1.1)\n",
            "Requirement already satisfied: numpy>=1.17.2 in /usr/local/lib/python3.7/dist-packages (from torchmetrics) (1.21.6)\n",
            "Requirement already satisfied: pyparsing!=3.0.5,>=2.0.2 in /usr/local/lib/python3.7/dist-packages (from packaging->torchmetrics) (3.0.9)\n",
            "Installing collected packages: torchmetrics\n",
            "Successfully installed torchmetrics-0.10.0\n",
            "Looking in indexes: https://pypi.org/simple, https://us-python.pkg.dev/colab-wheels/public/simple/\n",
            "Collecting mlflow\n",
            "  Downloading mlflow-1.29.0-py3-none-any.whl (16.9 MB)\n",
            "\u001b[K     |████████████████████████████████| 16.9 MB 30.6 MB/s \n",
            "\u001b[?25hRequirement already satisfied: entrypoints<1 in /usr/local/lib/python3.7/dist-packages (from mlflow) (0.4)\n",
            "Requirement already satisfied: protobuf<5,>=3.12.0 in /usr/local/lib/python3.7/dist-packages (from mlflow) (3.17.3)\n",
            "Requirement already satisfied: sqlalchemy<2,>=1.4.0 in /usr/local/lib/python3.7/dist-packages (from mlflow) (1.4.41)\n",
            "Collecting querystring-parser<2\n",
            "  Downloading querystring_parser-1.2.4-py2.py3-none-any.whl (7.9 kB)\n",
            "Requirement already satisfied: requests<3,>=2.17.3 in /usr/local/lib/python3.7/dist-packages (from mlflow) (2.23.0)\n",
            "Requirement already satisfied: pyyaml<7,>=5.1 in /usr/local/lib/python3.7/dist-packages (from mlflow) (6.0)\n",
            "Requirement already satisfied: pandas<2 in /usr/local/lib/python3.7/dist-packages (from mlflow) (1.3.5)\n",
            "Requirement already satisfied: sqlparse<1,>=0.4.0 in /usr/local/lib/python3.7/dist-packages (from mlflow) (0.4.3)\n",
            "Collecting gunicorn<21\n",
            "  Downloading gunicorn-20.1.0-py3-none-any.whl (79 kB)\n",
            "\u001b[K     |████████████████████████████████| 79 kB 8.7 MB/s \n",
            "\u001b[?25hRequirement already satisfied: packaging<22 in /usr/local/lib/python3.7/dist-packages (from mlflow) (21.3)\n",
            "Collecting gitpython<4,>=2.1.0\n",
            "  Downloading GitPython-3.1.28-py3-none-any.whl (182 kB)\n",
            "\u001b[K     |████████████████████████████████| 182 kB 74.0 MB/s \n",
            "\u001b[?25hRequirement already satisfied: scipy<2 in /usr/local/lib/python3.7/dist-packages (from mlflow) (1.7.3)\n",
            "Collecting prometheus-flask-exporter<1\n",
            "  Downloading prometheus_flask_exporter-0.20.3-py3-none-any.whl (18 kB)\n",
            "Collecting importlib-metadata!=4.7.0,<5,>=3.7.0\n",
            "  Downloading importlib_metadata-4.13.0-py3-none-any.whl (23 kB)\n",
            "Collecting alembic<2\n",
            "  Downloading alembic-1.8.1-py3-none-any.whl (209 kB)\n",
            "\u001b[K     |████████████████████████████████| 209 kB 71.8 MB/s \n",
            "\u001b[?25hCollecting databricks-cli<1,>=0.8.7\n",
            "  Downloading databricks-cli-0.17.3.tar.gz (77 kB)\n",
            "\u001b[K     |████████████████████████████████| 77 kB 8.2 MB/s \n",
            "\u001b[?25hRequirement already satisfied: Flask<3 in /usr/local/lib/python3.7/dist-packages (from mlflow) (1.1.4)\n",
            "Requirement already satisfied: pytz<2023 in /usr/local/lib/python3.7/dist-packages (from mlflow) (2022.4)\n",
            "Requirement already satisfied: click<9,>=7.0 in /usr/local/lib/python3.7/dist-packages (from mlflow) (7.1.2)\n",
            "Requirement already satisfied: cloudpickle<3 in /usr/local/lib/python3.7/dist-packages (from mlflow) (1.5.0)\n",
            "Requirement already satisfied: numpy<2 in /usr/local/lib/python3.7/dist-packages (from mlflow) (1.21.6)\n",
            "Collecting docker<7,>=4.0.0\n",
            "  Downloading docker-6.0.0-py3-none-any.whl (147 kB)\n",
            "\u001b[K     |████████████████████████████████| 147 kB 72.1 MB/s \n",
            "\u001b[?25hRequirement already satisfied: importlib-resources in /usr/local/lib/python3.7/dist-packages (from alembic<2->mlflow) (5.9.0)\n",
            "Collecting Mako\n",
            "  Downloading Mako-1.2.3-py3-none-any.whl (78 kB)\n",
            "\u001b[K     |████████████████████████████████| 78 kB 8.5 MB/s \n",
            "\u001b[?25hCollecting pyjwt>=1.7.0\n",
            "  Downloading PyJWT-2.5.0-py3-none-any.whl (20 kB)\n",
            "Requirement already satisfied: oauthlib>=3.1.0 in /usr/local/lib/python3.7/dist-packages (from databricks-cli<1,>=0.8.7->mlflow) (3.2.1)\n",
            "Requirement already satisfied: tabulate>=0.7.7 in /usr/local/lib/python3.7/dist-packages (from databricks-cli<1,>=0.8.7->mlflow) (0.8.10)\n",
            "Requirement already satisfied: six>=1.10.0 in /usr/local/lib/python3.7/dist-packages (from databricks-cli<1,>=0.8.7->mlflow) (1.15.0)\n",
            "Collecting websocket-client>=0.32.0\n",
            "  Downloading websocket_client-1.4.1-py3-none-any.whl (55 kB)\n",
            "\u001b[K     |████████████████████████████████| 55 kB 3.7 MB/s \n",
            "\u001b[?25hCollecting urllib3>=1.26.0\n",
            "  Downloading urllib3-1.26.12-py2.py3-none-any.whl (140 kB)\n",
            "\u001b[K     |████████████████████████████████| 140 kB 70.3 MB/s \n",
            "\u001b[?25hCollecting requests<3,>=2.17.3\n",
            "  Downloading requests-2.28.1-py3-none-any.whl (62 kB)\n",
            "\u001b[K     |████████████████████████████████| 62 kB 1.8 MB/s \n",
            "\u001b[?25hRequirement already satisfied: itsdangerous<2.0,>=0.24 in /usr/local/lib/python3.7/dist-packages (from Flask<3->mlflow) (1.1.0)\n",
            "Requirement already satisfied: Jinja2<3.0,>=2.10.1 in /usr/local/lib/python3.7/dist-packages (from Flask<3->mlflow) (2.11.3)\n",
            "Requirement already satisfied: Werkzeug<2.0,>=0.15 in /usr/local/lib/python3.7/dist-packages (from Flask<3->mlflow) (1.0.1)\n",
            "Collecting gitdb<5,>=4.0.1\n",
            "  Downloading gitdb-4.0.9-py3-none-any.whl (63 kB)\n",
            "\u001b[K     |████████████████████████████████| 63 kB 2.1 MB/s \n",
            "\u001b[?25hRequirement already satisfied: typing-extensions>=3.7.4.3 in /usr/local/lib/python3.7/dist-packages (from gitpython<4,>=2.1.0->mlflow) (4.1.1)\n",
            "Collecting smmap<6,>=3.0.1\n",
            "  Downloading smmap-5.0.0-py3-none-any.whl (24 kB)\n",
            "Requirement already satisfied: setuptools>=3.0 in /usr/local/lib/python3.7/dist-packages (from gunicorn<21->mlflow) (57.4.0)\n",
            "Requirement already satisfied: zipp>=0.5 in /usr/local/lib/python3.7/dist-packages (from importlib-metadata!=4.7.0,<5,>=3.7.0->mlflow) (3.8.1)\n",
            "Requirement already satisfied: MarkupSafe>=0.23 in /usr/local/lib/python3.7/dist-packages (from Jinja2<3.0,>=2.10.1->Flask<3->mlflow) (2.0.1)\n",
            "Requirement already satisfied: pyparsing!=3.0.5,>=2.0.2 in /usr/local/lib/python3.7/dist-packages (from packaging<22->mlflow) (3.0.9)\n",
            "Requirement already satisfied: python-dateutil>=2.7.3 in /usr/local/lib/python3.7/dist-packages (from pandas<2->mlflow) (2.8.2)\n",
            "Collecting prometheus-client\n",
            "  Downloading prometheus_client-0.14.1-py3-none-any.whl (59 kB)\n",
            "\u001b[K     |████████████████████████████████| 59 kB 8.1 MB/s \n",
            "\u001b[?25hRequirement already satisfied: charset-normalizer<3,>=2 in /usr/local/lib/python3.7/dist-packages (from requests<3,>=2.17.3->mlflow) (2.1.1)\n",
            "Requirement already satisfied: certifi>=2017.4.17 in /usr/local/lib/python3.7/dist-packages (from requests<3,>=2.17.3->mlflow) (2022.9.24)\n",
            "Requirement already satisfied: idna<4,>=2.5 in /usr/local/lib/python3.7/dist-packages (from requests<3,>=2.17.3->mlflow) (2.10)\n",
            "Requirement already satisfied: greenlet!=0.4.17 in /usr/local/lib/python3.7/dist-packages (from sqlalchemy<2,>=1.4.0->mlflow) (1.1.3)\n",
            "Building wheels for collected packages: databricks-cli\n",
            "  Building wheel for databricks-cli (setup.py) ... \u001b[?25l\u001b[?25hdone\n",
            "  Created wheel for databricks-cli: filename=databricks_cli-0.17.3-py3-none-any.whl size=139102 sha256=18bcdd456f5c32a70138542a94424a1233ffc68a782d50c08989d3adef6b083d\n",
            "  Stored in directory: /root/.cache/pip/wheels/3f/73/87/c1e4b2145eb6049bb6c9aaf7ea1e38302b77ca219b6fef5d5c\n",
            "Successfully built databricks-cli\n",
            "Installing collected packages: urllib3, smmap, importlib-metadata, websocket-client, requests, pyjwt, prometheus-client, Mako, gitdb, querystring-parser, prometheus-flask-exporter, gunicorn, gitpython, docker, databricks-cli, alembic, mlflow\n",
            "  Attempting uninstall: urllib3\n",
            "    Found existing installation: urllib3 1.24.3\n",
            "    Uninstalling urllib3-1.24.3:\n",
            "      Successfully uninstalled urllib3-1.24.3\n",
            "  Attempting uninstall: importlib-metadata\n",
            "    Found existing installation: importlib-metadata 5.0.0\n",
            "    Uninstalling importlib-metadata-5.0.0:\n",
            "      Successfully uninstalled importlib-metadata-5.0.0\n",
            "  Attempting uninstall: requests\n",
            "    Found existing installation: requests 2.23.0\n",
            "    Uninstalling requests-2.23.0:\n",
            "      Successfully uninstalled requests-2.23.0\n",
            "Successfully installed Mako-1.2.3 alembic-1.8.1 databricks-cli-0.17.3 docker-6.0.0 gitdb-4.0.9 gitpython-3.1.28 gunicorn-20.1.0 importlib-metadata-4.13.0 mlflow-1.29.0 prometheus-client-0.14.1 prometheus-flask-exporter-0.20.3 pyjwt-2.5.0 querystring-parser-1.2.4 requests-2.28.1 smmap-5.0.0 urllib3-1.26.12 websocket-client-1.4.1\n",
            "Looking in indexes: https://pypi.org/simple, https://us-python.pkg.dev/colab-wheels/public/simple/\n",
            "Collecting pytorch-lightning==1.7.6\n",
            "  Downloading pytorch_lightning-1.7.6-py3-none-any.whl (707 kB)\n",
            "\u001b[K     |████████████████████████████████| 707 kB 28.8 MB/s \n",
            "\u001b[?25hRequirement already satisfied: packaging>=17.0 in /usr/local/lib/python3.7/dist-packages (from pytorch-lightning==1.7.6) (21.3)\n",
            "Collecting tensorboard>=2.9.1\n",
            "  Downloading tensorboard-2.10.1-py3-none-any.whl (5.9 MB)\n",
            "\u001b[K     |████████████████████████████████| 5.9 MB 55.0 MB/s \n",
            "\u001b[?25hRequirement already satisfied: tqdm>=4.57.0 in /usr/local/lib/python3.7/dist-packages (from pytorch-lightning==1.7.6) (4.64.1)\n",
            "Requirement already satisfied: torch>=1.9.* in /usr/local/lib/python3.7/dist-packages (from pytorch-lightning==1.7.6) (1.12.1+cu113)\n",
            "Requirement already satisfied: numpy>=1.17.2 in /usr/local/lib/python3.7/dist-packages (from pytorch-lightning==1.7.6) (1.21.6)\n",
            "Requirement already satisfied: torchmetrics>=0.7.0 in /usr/local/lib/python3.7/dist-packages (from pytorch-lightning==1.7.6) (0.10.0)\n",
            "Requirement already satisfied: fsspec[http]!=2021.06.0,>=2021.05.0 in /usr/local/lib/python3.7/dist-packages (from pytorch-lightning==1.7.6) (2022.8.2)\n",
            "Requirement already satisfied: PyYAML>=5.4 in /usr/local/lib/python3.7/dist-packages (from pytorch-lightning==1.7.6) (6.0)\n",
            "Requirement already satisfied: typing-extensions>=4.0.0 in /usr/local/lib/python3.7/dist-packages (from pytorch-lightning==1.7.6) (4.1.1)\n",
            "Collecting pyDeprecate>=0.3.1\n",
            "  Downloading pyDeprecate-0.3.2-py3-none-any.whl (10 kB)\n",
            "Requirement already satisfied: aiohttp!=4.0.0a0,!=4.0.0a1 in /usr/local/lib/python3.7/dist-packages (from fsspec[http]!=2021.06.0,>=2021.05.0->pytorch-lightning==1.7.6) (3.8.3)\n",
            "Requirement already satisfied: requests in /usr/local/lib/python3.7/dist-packages (from fsspec[http]!=2021.06.0,>=2021.05.0->pytorch-lightning==1.7.6) (2.28.1)\n",
            "Requirement already satisfied: aiosignal>=1.1.2 in /usr/local/lib/python3.7/dist-packages (from aiohttp!=4.0.0a0,!=4.0.0a1->fsspec[http]!=2021.06.0,>=2021.05.0->pytorch-lightning==1.7.6) (1.2.0)\n",
            "Requirement already satisfied: asynctest==0.13.0 in /usr/local/lib/python3.7/dist-packages (from aiohttp!=4.0.0a0,!=4.0.0a1->fsspec[http]!=2021.06.0,>=2021.05.0->pytorch-lightning==1.7.6) (0.13.0)\n",
            "Requirement already satisfied: multidict<7.0,>=4.5 in /usr/local/lib/python3.7/dist-packages (from aiohttp!=4.0.0a0,!=4.0.0a1->fsspec[http]!=2021.06.0,>=2021.05.0->pytorch-lightning==1.7.6) (6.0.2)\n",
            "Requirement already satisfied: frozenlist>=1.1.1 in /usr/local/lib/python3.7/dist-packages (from aiohttp!=4.0.0a0,!=4.0.0a1->fsspec[http]!=2021.06.0,>=2021.05.0->pytorch-lightning==1.7.6) (1.3.1)\n",
            "Requirement already satisfied: attrs>=17.3.0 in /usr/local/lib/python3.7/dist-packages (from aiohttp!=4.0.0a0,!=4.0.0a1->fsspec[http]!=2021.06.0,>=2021.05.0->pytorch-lightning==1.7.6) (22.1.0)\n",
            "Requirement already satisfied: charset-normalizer<3.0,>=2.0 in /usr/local/lib/python3.7/dist-packages (from aiohttp!=4.0.0a0,!=4.0.0a1->fsspec[http]!=2021.06.0,>=2021.05.0->pytorch-lightning==1.7.6) (2.1.1)\n",
            "Requirement already satisfied: async-timeout<5.0,>=4.0.0a3 in /usr/local/lib/python3.7/dist-packages (from aiohttp!=4.0.0a0,!=4.0.0a1->fsspec[http]!=2021.06.0,>=2021.05.0->pytorch-lightning==1.7.6) (4.0.2)\n",
            "Requirement already satisfied: yarl<2.0,>=1.0 in /usr/local/lib/python3.7/dist-packages (from aiohttp!=4.0.0a0,!=4.0.0a1->fsspec[http]!=2021.06.0,>=2021.05.0->pytorch-lightning==1.7.6) (1.8.1)\n",
            "Requirement already satisfied: pyparsing!=3.0.5,>=2.0.2 in /usr/local/lib/python3.7/dist-packages (from packaging>=17.0->pytorch-lightning==1.7.6) (3.0.9)\n",
            "Requirement already satisfied: wheel>=0.26 in /usr/local/lib/python3.7/dist-packages (from tensorboard>=2.9.1->pytorch-lightning==1.7.6) (0.37.1)\n",
            "Requirement already satisfied: absl-py>=0.4 in /usr/local/lib/python3.7/dist-packages (from tensorboard>=2.9.1->pytorch-lightning==1.7.6) (1.2.0)\n",
            "Requirement already satisfied: protobuf<3.20,>=3.9.2 in /usr/local/lib/python3.7/dist-packages (from tensorboard>=2.9.1->pytorch-lightning==1.7.6) (3.17.3)\n",
            "Requirement already satisfied: google-auth<3,>=1.6.3 in /usr/local/lib/python3.7/dist-packages (from tensorboard>=2.9.1->pytorch-lightning==1.7.6) (1.35.0)\n",
            "Requirement already satisfied: setuptools>=41.0.0 in /usr/local/lib/python3.7/dist-packages (from tensorboard>=2.9.1->pytorch-lightning==1.7.6) (57.4.0)\n",
            "Requirement already satisfied: grpcio>=1.24.3 in /usr/local/lib/python3.7/dist-packages (from tensorboard>=2.9.1->pytorch-lightning==1.7.6) (1.49.1)\n",
            "Requirement already satisfied: tensorboard-data-server<0.7.0,>=0.6.0 in /usr/local/lib/python3.7/dist-packages (from tensorboard>=2.9.1->pytorch-lightning==1.7.6) (0.6.1)\n",
            "Requirement already satisfied: google-auth-oauthlib<0.5,>=0.4.1 in /usr/local/lib/python3.7/dist-packages (from tensorboard>=2.9.1->pytorch-lightning==1.7.6) (0.4.6)\n",
            "Requirement already satisfied: tensorboard-plugin-wit>=1.6.0 in /usr/local/lib/python3.7/dist-packages (from tensorboard>=2.9.1->pytorch-lightning==1.7.6) (1.8.1)\n",
            "Requirement already satisfied: werkzeug>=1.0.1 in /usr/local/lib/python3.7/dist-packages (from tensorboard>=2.9.1->pytorch-lightning==1.7.6) (1.0.1)\n",
            "Requirement already satisfied: markdown>=2.6.8 in /usr/local/lib/python3.7/dist-packages (from tensorboard>=2.9.1->pytorch-lightning==1.7.6) (3.4.1)\n",
            "Requirement already satisfied: six>=1.9.0 in /usr/local/lib/python3.7/dist-packages (from google-auth<3,>=1.6.3->tensorboard>=2.9.1->pytorch-lightning==1.7.6) (1.15.0)\n",
            "Requirement already satisfied: cachetools<5.0,>=2.0.0 in /usr/local/lib/python3.7/dist-packages (from google-auth<3,>=1.6.3->tensorboard>=2.9.1->pytorch-lightning==1.7.6) (4.2.4)\n",
            "Requirement already satisfied: pyasn1-modules>=0.2.1 in /usr/local/lib/python3.7/dist-packages (from google-auth<3,>=1.6.3->tensorboard>=2.9.1->pytorch-lightning==1.7.6) (0.2.8)\n",
            "Requirement already satisfied: rsa<5,>=3.1.4 in /usr/local/lib/python3.7/dist-packages (from google-auth<3,>=1.6.3->tensorboard>=2.9.1->pytorch-lightning==1.7.6) (4.9)\n",
            "Requirement already satisfied: requests-oauthlib>=0.7.0 in /usr/local/lib/python3.7/dist-packages (from google-auth-oauthlib<0.5,>=0.4.1->tensorboard>=2.9.1->pytorch-lightning==1.7.6) (1.3.1)\n",
            "Requirement already satisfied: importlib-metadata>=4.4 in /usr/local/lib/python3.7/dist-packages (from markdown>=2.6.8->tensorboard>=2.9.1->pytorch-lightning==1.7.6) (4.13.0)\n",
            "Requirement already satisfied: zipp>=0.5 in /usr/local/lib/python3.7/dist-packages (from importlib-metadata>=4.4->markdown>=2.6.8->tensorboard>=2.9.1->pytorch-lightning==1.7.6) (3.8.1)\n",
            "Requirement already satisfied: pyasn1<0.5.0,>=0.4.6 in /usr/local/lib/python3.7/dist-packages (from pyasn1-modules>=0.2.1->google-auth<3,>=1.6.3->tensorboard>=2.9.1->pytorch-lightning==1.7.6) (0.4.8)\n",
            "Requirement already satisfied: urllib3<1.27,>=1.21.1 in /usr/local/lib/python3.7/dist-packages (from requests->fsspec[http]!=2021.06.0,>=2021.05.0->pytorch-lightning==1.7.6) (1.26.12)\n",
            "Requirement already satisfied: certifi>=2017.4.17 in /usr/local/lib/python3.7/dist-packages (from requests->fsspec[http]!=2021.06.0,>=2021.05.0->pytorch-lightning==1.7.6) (2022.9.24)\n",
            "Requirement already satisfied: idna<4,>=2.5 in /usr/local/lib/python3.7/dist-packages (from requests->fsspec[http]!=2021.06.0,>=2021.05.0->pytorch-lightning==1.7.6) (2.10)\n",
            "Requirement already satisfied: oauthlib>=3.0.0 in /usr/local/lib/python3.7/dist-packages (from requests-oauthlib>=0.7.0->google-auth-oauthlib<0.5,>=0.4.1->tensorboard>=2.9.1->pytorch-lightning==1.7.6) (3.2.1)\n",
            "Installing collected packages: tensorboard, pyDeprecate, pytorch-lightning\n",
            "  Attempting uninstall: tensorboard\n",
            "    Found existing installation: tensorboard 2.8.0\n",
            "    Uninstalling tensorboard-2.8.0:\n",
            "      Successfully uninstalled tensorboard-2.8.0\n",
            "\u001b[31mERROR: pip's dependency resolver does not currently take into account all the packages that are installed. This behaviour is the source of the following dependency conflicts.\n",
            "tensorflow 2.8.2+zzzcolab20220929150707 requires tensorboard<2.9,>=2.8, but you have tensorboard 2.10.1 which is incompatible.\u001b[0m\n",
            "Successfully installed pyDeprecate-0.3.2 pytorch-lightning-1.7.6 tensorboard-2.10.1\n"
          ]
        }
      ]
    },
    {
      "cell_type": "code",
      "execution_count": null,
      "metadata": {
        "colab": {
          "base_uri": "https://localhost:8080/"
        },
        "id": "epFPQahG2uQE",
        "outputId": "ce558da0-63e0-431a-a44b-0ef51c49b733"
      },
      "outputs": [
        {
          "output_type": "stream",
          "name": "stdout",
          "text": [
            "PyTorch version: 1.12.1+cu113\n",
            "torchvision version: 0.13.1+cu113\n",
            "pytorch_lighting version: 1.7.6\n"
          ]
        }
      ],
      "source": [
        "# Import basics\n",
        "import os\n",
        "import numpy as np\n",
        "import pandas as pd\n",
        "import time\n",
        "import copy\n",
        "\n",
        "# Import PyTorch\n",
        "import torch\n",
        "from torch import nn\n",
        "import torch.optim as optim\n",
        "from torch.optim import lr_scheduler\n",
        "import torch.backends.cudnn as cudnn\n",
        "\n",
        "# Import PyTorch lightning and MLflow\n",
        "import pytorch_lightning\n",
        "import mlflow\n",
        "\n",
        "# Import torchvision \n",
        "import torchvision\n",
        "from torchvision import datasets, transforms, models\n",
        "from torchvision.transforms import ToTensor\n",
        "from torch.utils.data import DataLoader, ConcatDataset\n",
        "\n",
        "# Import torchmetrics\n",
        "import torchmetrics\n",
        "\n",
        "# Import matplotlib for visualization\n",
        "import matplotlib.pyplot as plt\n",
        "\n",
        "# Check versions\n",
        "# Note: your PyTorch version shouldn't be lower than 1.10.0 and torchvision version shouldn't be lower than 0.11\n",
        "print(f\"PyTorch version: {torch.__version__}\\ntorchvision version: {torchvision.__version__}\\npytorch_lighting version: {pytorch_lightning.__version__}\")"
      ]
    },
    {
      "cell_type": "code",
      "execution_count": null,
      "metadata": {
        "id": "Oqw-uymx2uQG"
      },
      "outputs": [],
      "source": [
        "cudnn.benchmark = True\n",
        "plt.ion()   # interactive mode"
      ]
    },
    {
      "cell_type": "markdown",
      "source": [
        "## Initialize model"
      ],
      "metadata": {
        "id": "Dt_hEYwdaZ62"
      }
    },
    {
      "cell_type": "markdown",
      "source": [
        "* Model must be defined before loading the data to resize the images to the required input size of the selected pre-trained model\n",
        "* Num_classes is equal to 2 in our case (Mitosis vs. Nonmitosis). This will reset the last layer of the pre-trained model (usually a fully connected layer) to have output size = num_classes\n",
        "* Feature_extract: If True, only update reshaped layer params. If False, model is finetuned and all model parameters are updated"
      ],
      "metadata": {
        "id": "S3F-gRs7agcf"
      }
    },
    {
      "cell_type": "code",
      "source": [
        "model_name = 'resnet'\n",
        "num_classes = 2\n",
        "feature_extract = False"
      ],
      "metadata": {
        "id": "A82JV_pOfgqU"
      },
      "execution_count": null,
      "outputs": []
    },
    {
      "cell_type": "markdown",
      "source": [
        "Helper function"
      ],
      "metadata": {
        "id": "z8zPTEm_b4Lt"
      }
    },
    {
      "cell_type": "code",
      "source": [
        "def set_parameter_requires_grad(model, feature_extracting):\n",
        "    if feature_extracting:\n",
        "        for param in model.parameters():\n",
        "            param.requires_grad = False"
      ],
      "metadata": {
        "id": "pB9V4uw9b3gn"
      },
      "execution_count": null,
      "outputs": []
    },
    {
      "cell_type": "markdown",
      "source": [
        "Model selection function"
      ],
      "metadata": {
        "id": "4nin8SfLb99X"
      }
    },
    {
      "cell_type": "code",
      "source": [
        "def initialize_model(model_name, num_classes, feature_extract, use_pretrained=True):\n",
        "    # Initialize these variables which will be set in this if statement. Each of these\n",
        "    #   variables is model specific.\n",
        "    model_ft = None\n",
        "    input_size = 0\n",
        "\n",
        "    if model_name == \"resnet\":\n",
        "        \"\"\" Resnet18\n",
        "        \"\"\"\n",
        "        model_ft = models.resnet18(pretrained=use_pretrained)\n",
        "        set_parameter_requires_grad(model_ft, feature_extract)\n",
        "        num_ftrs = model_ft.fc.in_features\n",
        "        model_ft.fc = nn.Linear(num_ftrs, num_classes)\n",
        "        input_size = 224\n",
        "\n",
        "    elif model_name == \"alexnet\":\n",
        "        \"\"\" Alexnet\n",
        "        \"\"\"\n",
        "        model_ft = models.alexnet(pretrained=use_pretrained)\n",
        "        set_parameter_requires_grad(model_ft, feature_extract)\n",
        "        num_ftrs = model_ft.classifier[6].in_features\n",
        "        model_ft.classifier[6] = nn.Linear(num_ftrs,num_classes)\n",
        "        input_size = 224\n",
        "\n",
        "    elif model_name == \"vgg\":\n",
        "        \"\"\" VGG11_bn\n",
        "        \"\"\"\n",
        "        model_ft = models.vgg11_bn(pretrained=use_pretrained)\n",
        "        set_parameter_requires_grad(model_ft, feature_extract)\n",
        "        num_ftrs = model_ft.classifier[6].in_features\n",
        "        model_ft.classifier[6] = nn.Linear(num_ftrs,num_classes)\n",
        "        input_size = 224\n",
        "\n",
        "    elif model_name == \"squeezenet\":\n",
        "        \"\"\" Squeezenet\n",
        "        \"\"\"\n",
        "        model_ft = models.squeezenet1_0(pretrained=use_pretrained)\n",
        "        set_parameter_requires_grad(model_ft, feature_extract)\n",
        "        model_ft.classifier[1] = nn.Conv2d(512, num_classes, kernel_size=(1,1), stride=(1,1))\n",
        "        model_ft.num_classes = num_classes\n",
        "        input_size = 224\n",
        "\n",
        "    elif model_name == \"densenet\":\n",
        "        \"\"\" Densenet\n",
        "        \"\"\"\n",
        "        model_ft = models.densenet121(pretrained=use_pretrained)\n",
        "        set_parameter_requires_grad(model_ft, feature_extract)\n",
        "        num_ftrs = model_ft.classifier.in_features\n",
        "        model_ft.classifier = nn.Linear(num_ftrs, num_classes)\n",
        "        input_size = 224\n",
        "\n",
        "    elif model_name == \"inception\":\n",
        "        \"\"\" Inception v3\n",
        "        Be careful, expects (299,299) sized images and has auxiliary output\n",
        "        \"\"\"\n",
        "        model_ft = models.inception_v3(pretrained=use_pretrained)\n",
        "        set_parameter_requires_grad(model_ft, feature_extract)\n",
        "        # Handle the auxilary net\n",
        "        num_ftrs = model_ft.AuxLogits.fc.in_features\n",
        "        model_ft.AuxLogits.fc = nn.Linear(num_ftrs, num_classes)\n",
        "        # Handle the primary net\n",
        "        num_ftrs = model_ft.fc.in_features\n",
        "        model_ft.fc = nn.Linear(num_ftrs,num_classes)\n",
        "        input_size = 299\n",
        "\n",
        "    else:\n",
        "        print(\"Invalid model name, exiting...\")\n",
        "        exit()\n",
        "\n",
        "    return model_ft, input_size"
      ],
      "metadata": {
        "id": "l1fA0bj7bXhB"
      },
      "execution_count": null,
      "outputs": []
    },
    {
      "cell_type": "markdown",
      "source": [
        "Define and select model then write it to the device"
      ],
      "metadata": {
        "id": "YrlLPGlscrPR"
      }
    },
    {
      "cell_type": "code",
      "source": [
        "model_ft, input_size = initialize_model(model_name=model_name, num_classes=num_classes, feature_extract=feature_extract, use_pretrained=True)\n",
        "\n",
        "# write to device\n",
        "device = torch.device(\"cuda:0\" if torch.cuda.is_available() else \"cpu\")\n",
        "model_ft = model_ft.to(device)\n"
      ],
      "metadata": {
        "colab": {
          "base_uri": "https://localhost:8080/",
          "height": 156,
          "referenced_widgets": [
            "d10c68899d8b45efb7179450c1fcec6d",
            "b3670a24a7ae4c4f9c599421619d18f8",
            "0e3b463079114f3f85242b66f34f6078",
            "14facfb6f70d459481edfb83860f8fb7",
            "b1f081b8655345dca35a90da10acaaf3",
            "f67f1f9f232046b380b2e613554eeb58",
            "1467419517d04253a3aa047165781037",
            "41b3455a105f431882db3cee8972d5a4",
            "7be2e528c5d54622af99702a8c6b3ef3",
            "0f2694cecce542baadd5575bf40d3729",
            "c7954316015c404fbac05803fe911495"
          ]
        },
        "id": "b9hvfp1LcUiw",
        "outputId": "3e7780ca-1615-452d-9e1c-1759ef8de919"
      },
      "execution_count": null,
      "outputs": [
        {
          "output_type": "stream",
          "name": "stderr",
          "text": [
            "/usr/local/lib/python3.7/dist-packages/torchvision/models/_utils.py:209: UserWarning: The parameter 'pretrained' is deprecated since 0.13 and will be removed in 0.15, please use 'weights' instead.\n",
            "  f\"The parameter '{pretrained_param}' is deprecated since 0.13 and will be removed in 0.15, \"\n",
            "/usr/local/lib/python3.7/dist-packages/torchvision/models/_utils.py:223: UserWarning: Arguments other than a weight enum or `None` for 'weights' are deprecated since 0.13 and will be removed in 0.15. The current behavior is equivalent to passing `weights=ResNet18_Weights.IMAGENET1K_V1`. You can also use `weights=ResNet18_Weights.DEFAULT` to get the most up-to-date weights.\n",
            "  warnings.warn(msg)\n",
            "Downloading: \"https://download.pytorch.org/models/resnet18-f37072fd.pth\" to /root/.cache/torch/hub/checkpoints/resnet18-f37072fd.pth\n"
          ]
        },
        {
          "output_type": "display_data",
          "data": {
            "text/plain": [
              "  0%|          | 0.00/44.7M [00:00<?, ?B/s]"
            ],
            "application/vnd.jupyter.widget-view+json": {
              "version_major": 2,
              "version_minor": 0,
              "model_id": "d10c68899d8b45efb7179450c1fcec6d"
            }
          },
          "metadata": {}
        }
      ]
    },
    {
      "cell_type": "markdown",
      "metadata": {
        "id": "Y9aw7Lp32uQH"
      },
      "source": [
        "## PyTorch data setup"
      ]
    },
    {
      "cell_type": "code",
      "source": [
        "import requests\n",
        "import zipfile\n",
        "from pathlib import Path\n",
        "data_path = Path(\"data/\")\n",
        "file_path = '/content/drive/MyDrive/Fourthbrain/Capstone/Image patch data/250px/Data_CMC_CODAEL_1.zip' # file path to .zip file in your Google Drive"
      ],
      "metadata": {
        "id": "0-pwdunP4CdZ"
      },
      "execution_count": null,
      "outputs": []
    },
    {
      "cell_type": "code",
      "source": [
        "# Unzip image patch data\n",
        "with zipfile.ZipFile(file_path, \"r\") as zip_ref:\n",
        "    print(\"Unzipping data\") \n",
        "    zip_ref.extractall(data_path)"
      ],
      "metadata": {
        "colab": {
          "base_uri": "https://localhost:8080/"
        },
        "id": "yce_9yXR3yaE",
        "outputId": "9e0cb624-55b6-4063-a181-cbde1d81ff01"
      },
      "execution_count": null,
      "outputs": [
        {
          "output_type": "stream",
          "name": "stdout",
          "text": [
            "Unzipping data\n"
          ]
        }
      ]
    },
    {
      "cell_type": "markdown",
      "source": [
        "### Load in data and split into train, validation, and test sets"
      ],
      "metadata": {
        "id": "l5jmxZp-LqBQ"
      }
    },
    {
      "cell_type": "markdown",
      "metadata": {
        "id": "hk8ECUhd2uQJ"
      },
      "source": [
        "**Hyperparameters**"
      ]
    },
    {
      "cell_type": "code",
      "execution_count": null,
      "metadata": {
        "id": "buDL6Jh22uQJ"
      },
      "outputs": [],
      "source": [
        "batch_size = 64\n",
        "num_workers = 2\n",
        "random_state = 42"
      ]
    },
    {
      "cell_type": "markdown",
      "metadata": {
        "id": "h8Ajhak-2uQH"
      },
      "source": [
        "Set dataset and image path"
      ]
    },
    {
      "cell_type": "code",
      "execution_count": null,
      "metadata": {
        "id": "MJf2jKkQ2uQH"
      },
      "outputs": [],
      "source": [
        "dataset = 'Data_CMC_CODAEL_1'\n",
        "image_path = '/content/data/' + dataset\n",
        "train_dir = image_path+'/train'\n",
        "test_dir = image_path+'/test'"
      ]
    },
    {
      "cell_type": "markdown",
      "metadata": {
        "id": "BHcFxVfR2uQJ"
      },
      "source": [
        "* Load in train data from directory and randomly split (80/20) the train folder into training and validation sets\n",
        "* Load in test data from directory separately\n",
        "* Apply no transforms to any set yet except ToTensor"
      ]
    },
    {
      "cell_type": "code",
      "execution_count": null,
      "metadata": {
        "id": "dwJA2I1i2uQK",
        "colab": {
          "base_uri": "https://localhost:8080/"
        },
        "outputId": "da62e2c3-6fda-40d1-d176-d32bcbc7a959"
      },
      "outputs": [
        {
          "output_type": "stream",
          "name": "stdout",
          "text": [
            "Dataset ImageFolder\n",
            "    Number of datapoints: 37950\n",
            "    Root location: /content/data/Data_CMC_CODAEL_1/train\n",
            "    StandardTransform\n",
            "Transform: ToTensor()\n",
            "Dataset ImageFolder\n",
            "    Number of datapoints: 12332\n",
            "    Root location: /content/data/Data_CMC_CODAEL_1/test\n",
            "    StandardTransform\n",
            "Transform: ToTensor()\n"
          ]
        }
      ],
      "source": [
        "train_data = datasets.ImageFolder(root=train_dir, transform=transforms.ToTensor())\n",
        "\n",
        "test_data = datasets.ImageFolder(root=test_dir, transform=transforms.ToTensor())\n",
        "\n",
        "print(train_data)\n",
        "print(test_data)"
      ]
    },
    {
      "cell_type": "code",
      "source": [
        "train_split = 0.8\n",
        "training_examples = int(len(train_data)*train_split)\n",
        "val_examples = len(train_data) - training_examples\n",
        "train, val = torch.utils.data.random_split((train_data), \n",
        "                                            [training_examples, val_examples], \n",
        "                                                generator=torch.Generator().manual_seed(random_state))"
      ],
      "metadata": {
        "id": "fbvYSleddIQI"
      },
      "execution_count": null,
      "outputs": []
    },
    {
      "cell_type": "code",
      "source": [
        "# Create data loader to calculate mean and std of train set only\n",
        "dataset_loader = DataLoader(train, shuffle=False, num_workers=num_workers)"
      ],
      "metadata": {
        "id": "iJpZqrH7K2qr"
      },
      "execution_count": null,
      "outputs": []
    },
    {
      "cell_type": "markdown",
      "source": [
        "Function to get mean and standard deviation of the training data. Only run if needed (takes awhile)"
      ],
      "metadata": {
        "id": "ceTdmPrHNOiC"
      }
    },
    {
      "cell_type": "code",
      "source": [
        "N_CHANNELS = 3 # color images, so three channels\n",
        "\n",
        "def normalization_params(dataloader, N_CHANNELS):\n",
        "  mean = torch.zeros(N_CHANNELS)\n",
        "  std = torch.zeros(N_CHANNELS)\n",
        "\n",
        "  for inputs, labels in dataloader:\n",
        "    for i in range(N_CHANNELS):\n",
        "      mean[i] += inputs[:,i,:,:].mean().item()\n",
        "      std[i] += inputs[:,i,:,:].std().item()\n",
        "\n",
        "  mean /= len(train)\n",
        "  std /= len(train)\n",
        "  return mean, std"
      ],
      "metadata": {
        "id": "guLHnA2BOQ6Q"
      },
      "execution_count": null,
      "outputs": []
    },
    {
      "cell_type": "code",
      "source": [
        "mean, std = normalization_params(dataset_loader, N_CHANNELS)"
      ],
      "metadata": {
        "id": "wZL4UIKClO--"
      },
      "execution_count": null,
      "outputs": []
    },
    {
      "cell_type": "code",
      "source": [
        "print(mean)\n",
        "print(std)"
      ],
      "metadata": {
        "id": "2whp69TZKbYU",
        "colab": {
          "base_uri": "https://localhost:8080/"
        },
        "outputId": "8c414c0b-753d-45ac-ca93-53701708e1ce"
      },
      "execution_count": null,
      "outputs": [
        {
          "output_type": "stream",
          "name": "stdout",
          "text": [
            "tensor([0.7508, 0.5410, 0.6403])\n",
            "tensor([0.1428, 0.1637, 0.1340])\n"
          ]
        }
      ]
    },
    {
      "cell_type": "markdown",
      "metadata": {
        "id": "j0ldYbjB2uQI"
      },
      "source": [
        "### Define PyTorch transform"
      ]
    },
    {
      "cell_type": "markdown",
      "source": [
        "Entire train folder directory stats\n",
        "* mean of MEL 1 (128 px) training data = [0.7358, 0.5185, 0.6233], mean of MEL 1(250 px) training data = [0.7439, 0.5272, 0.6297]\n",
        "* std of MEL 1 (128 px) training data = [0.1470, 0.1610, 0.1329], std of MEL 1 (250 px) training data [0.1433, 0.1633, 0.1339]\n",
        "\n",
        "Stats of train set after splitting into train/val\n",
        "* mean of MEL 1 (250 px) training data = [0.7438, 0.5271, 0.6297]\n",
        "* std of MEL 1 (250 px) training data =[0.1433, 0.1634, 0.1339]\n",
        "* mean of CODAEL 1 (250 px) training data = [0.7508, 0.5410, 0.6403]\n",
        "* std of CODAEL 1 (250 px) training data = [0.1428, 0.1637, 0.1340]\n"
      ],
      "metadata": {
        "id": "wLCK9W19ULh4"
      }
    },
    {
      "cell_type": "code",
      "source": [
        "mean = mean.tolist() # mean of training set (after splitting)\n",
        "std = std.tolist() # standard deviation of training set (after splitting)"
      ],
      "metadata": {
        "id": "3_lqGJ9fVrwq"
      },
      "execution_count": null,
      "outputs": []
    },
    {
      "cell_type": "markdown",
      "source": [
        "Resize, normalize, and transform data to tensors (no augmentation for now)"
      ],
      "metadata": {
        "id": "OQpdJu3wba9_"
      }
    },
    {
      "cell_type": "code",
      "execution_count": null,
      "metadata": {
        "id": "ttITafdi2uQI"
      },
      "outputs": [],
      "source": [
        "# Write transform dictionary\n",
        "data_transforms = {\n",
        "    'train': transforms.Compose([\n",
        "      # Resize the images to input_size of pre-trained model\n",
        "      transforms.Resize(input_size),\n",
        "      # Flip the images randomly on the horizontal, p = probability of flip, 0.5 = 50% chance\n",
        "      transforms.RandomHorizontalFlip(p=0.5), \n",
        "      # Turn the image into a torch.Tensor, this also converts all pixel values from 0 to 255 to be between 0.0 and 1.0\n",
        "      transforms.ToTensor(), \n",
        "      # normalize data with proper normalization values\n",
        "      transforms.Normalize(mean, std)\n",
        "    ]),\n",
        "    'val': transforms.Compose([\n",
        "      # Resize the images to input_size of pre-trained model\n",
        "      transforms.Resize(input_size),\n",
        "      # Turn the image into a torch.Tensor\n",
        "      transforms.ToTensor(), # this also converts all pixel values from 0 to 255 to be between 0.0 and 1.0\n",
        "      # normalize data with proper normalization values\n",
        "      transforms.Normalize(mean, std)\n",
        "    ]),\n",
        "    'test': transforms.Compose([\n",
        "      # Resize the images to input_size of pre-trained model\n",
        "      transforms.Resize(input_size),\n",
        "      # Turn the image into a torch.Tensor\n",
        "      transforms.ToTensor(), # this also converts all pixel values from 0 to 255 to be between 0.0 and 1.0\n",
        "      # normalize data with proper normalization values\n",
        "      transforms.Normalize(mean, std)\n",
        "    ])\n",
        "}"
      ]
    },
    {
      "cell_type": "markdown",
      "source": [
        "Apply transforms to training, validation, and test sets"
      ],
      "metadata": {
        "id": "QLPcayBeSERC"
      }
    },
    {
      "cell_type": "code",
      "source": [
        "train.dataset.transform = data_transforms['train']\n",
        "val.dataset.transform = data_transforms['val']\n",
        "test_data.transform = data_transforms['test']\n"
      ],
      "metadata": {
        "id": "9zymbEApSIZx"
      },
      "execution_count": null,
      "outputs": []
    },
    {
      "cell_type": "markdown",
      "metadata": {
        "id": "frhZq1nl2uQJ"
      },
      "source": [
        "### Create PyTorch dataloaders"
      ]
    },
    {
      "cell_type": "markdown",
      "metadata": {
        "id": "sw4SGb662uQL"
      },
      "source": [
        "Create dictionary of train, validation, and test sets and specify whether to shuffle the data in the dataloader"
      ]
    },
    {
      "cell_type": "code",
      "execution_count": null,
      "metadata": {
        "id": "LZj-RUSk2uQL",
        "colab": {
          "base_uri": "https://localhost:8080/"
        },
        "outputId": "9bdb4919-cda2-4616-d8dc-2836333e4f54"
      },
      "outputs": [
        {
          "output_type": "stream",
          "name": "stdout",
          "text": [
            "{'train': 30360, 'val': 7590, 'test': 12332}\n"
          ]
        }
      ],
      "source": [
        "image_datasets = {'train': [train, True],\n",
        "                    'val': [val, True],\n",
        "                        'test': [test_data, False]} # usually don't shuffle test data\n",
        "\n",
        "dataset_sizes = {x: len(image_datasets[x][0]) for x in ['train','val','test']}\n",
        "print(dataset_sizes)"
      ]
    },
    {
      "cell_type": "markdown",
      "metadata": {
        "id": "FQFfFXMq2uQM"
      },
      "source": [
        "Create dataloaders"
      ]
    },
    {
      "cell_type": "code",
      "execution_count": null,
      "metadata": {
        "id": "2pNUhd5w2uQM"
      },
      "outputs": [],
      "source": [
        "dataloaders = {x: DataLoader(image_datasets[x][0], \n",
        "                                batch_size=batch_size, \n",
        "                                    num_workers=num_workers, \n",
        "                                        shuffle=image_datasets[x][1])\n",
        "                for x in ['train','val','test']}"
      ]
    },
    {
      "cell_type": "markdown",
      "metadata": {
        "id": "99Etf2Jt2uQM"
      },
      "source": [
        "### Visualize data"
      ]
    },
    {
      "cell_type": "code",
      "execution_count": null,
      "metadata": {
        "id": "49gYj33v2uQM"
      },
      "outputs": [],
      "source": [
        "def imshow(inp, title=None):\n",
        "    inp = inp.numpy().transpose((1, 2, 0))\n",
        "    plt.imshow(inp)\n",
        "    if title is not None:\n",
        "        plt.title(title)\n",
        "    plt.pause(0.001)  # pause a bit so that plots are updated"
      ]
    },
    {
      "cell_type": "code",
      "execution_count": null,
      "metadata": {
        "id": "xbsEjt6K2uQM"
      },
      "outputs": [],
      "source": [
        "# Get a batch of training data and subset to just 4 examples\n",
        "inputs, classes = next(iter(dataloaders['train']))\n",
        "inputs = inputs[:4]\n",
        "inputs = np.clip(inputs, 0, 1)\n",
        "classes = classes[:4]"
      ]
    },
    {
      "cell_type": "code",
      "execution_count": null,
      "metadata": {
        "id": "XhsVA3Js2uQN"
      },
      "outputs": [],
      "source": [
        "# Get class names\n",
        "class_names = train_data.classes"
      ]
    },
    {
      "cell_type": "code",
      "execution_count": null,
      "metadata": {
        "id": "5S2y-tXz2uQN"
      },
      "outputs": [],
      "source": [
        "# Make a grid from batch\n",
        "out = torchvision.utils.make_grid(inputs)"
      ]
    },
    {
      "cell_type": "code",
      "execution_count": null,
      "metadata": {
        "id": "JeiGN0_82uQN",
        "outputId": "f093a139-62df-4901-9382-593656009abd",
        "colab": {
          "base_uri": "https://localhost:8080/",
          "height": 148
        }
      },
      "outputs": [
        {
          "output_type": "display_data",
          "data": {
            "text/plain": [
              "<Figure size 432x288 with 1 Axes>"
            ],
            "image/png": "[encoded data removed]"
          },
          "metadata": {
            "needs_background": "light"
          }
        }
      ],
      "source": [
        "imshow(out, title=[class_names[x] for x in classes])"
      ]
    },
    {
      "cell_type": "markdown",
      "metadata": {
        "id": "sLOKI_Mr2uQN"
      },
      "source": [
        "## PyTorch modeling setup"
      ]
    },
    {
      "cell_type": "markdown",
      "metadata": {
        "id": "hyL0cUaE2uQN"
      },
      "source": [
        "**Hyperparameters**"
      ]
    },
    {
      "cell_type": "code",
      "execution_count": null,
      "metadata": {
        "id": "X9VBV5uh2uQN"
      },
      "outputs": [],
      "source": [
        "# Hyperparameters for training\n",
        "learning_rate = 0.01\n",
        "momentum = 0.9\n",
        "step_size = 7 # decrease learning rate by factor gamma every step size epochs\n",
        "gamma = 0.1\n",
        "num_epochs = 25"
      ]
    },
    {
      "cell_type": "markdown",
      "metadata": {
        "id": "i5ZCS0A_2uQO"
      },
      "source": [
        "### Model training definition"
      ]
    },
    {
      "cell_type": "code",
      "execution_count": null,
      "metadata": {
        "id": "3WHBa3Q82uQO"
      },
      "outputs": [],
      "source": [
        "def train_model(model, criterion, optimizer, scheduler, num_epochs):\n",
        "    since = time.time()\n",
        "\n",
        "    # Set up dictionary to track train and validation loss and accuracy per epoch\n",
        "    model_track = {'epoch': [],\n",
        "                  'phase': [],\n",
        "                  'loss': [],\n",
        "                  'acc': []\n",
        "                  }\n",
        "    best_model_wts = copy.deepcopy(model.state_dict())\n",
        "    best_acc = 0.0\n",
        "\n",
        "    for epoch in range(num_epochs):\n",
        "        print(f'Epoch {epoch}/{num_epochs - 1}')\n",
        "        print('-' * 10)\n",
        "\n",
        "        # Each epoch has a training and validation phase\n",
        "        for phase in ['train', 'val']:\n",
        "            if phase == 'train':\n",
        "                model.train()  # Set model to training mode\n",
        "            else:\n",
        "                model.eval()   # Set model to evaluate mode\n",
        "\n",
        "            running_loss = 0.0\n",
        "            running_corrects = 0\n",
        "\n",
        "            # Iterate over data.\n",
        "            for inputs, labels in dataloaders[phase]:\n",
        "                inputs = inputs.to(device)\n",
        "                labels = labels.to(device)\n",
        "\n",
        "                # zero the parameter gradients\n",
        "                optimizer.zero_grad()\n",
        "\n",
        "                # forward\n",
        "                # track history if only in train\n",
        "                with torch.set_grad_enabled(phase == 'train'):\n",
        "                    outputs = model(inputs)\n",
        "                    _, preds = torch.max(outputs, 1)\n",
        "                    loss = criterion(outputs, labels)\n",
        "\n",
        "                    # backward + optimize only if in training phase\n",
        "                    if phase == 'train':\n",
        "                        loss.backward()\n",
        "                        optimizer.step()\n",
        "\n",
        "                # statistics\n",
        "                running_loss += loss.item() * inputs.size(0)\n",
        "                running_corrects += torch.sum(preds == labels.data)\n",
        "            if phase == 'train':\n",
        "                scheduler.step()\n",
        "\n",
        "            epoch_loss = running_loss / dataset_sizes[phase]\n",
        "            epoch_acc = running_corrects.double() / dataset_sizes[phase]\n",
        "\n",
        "            # update model tracking dictionary\n",
        "            model_track['epoch'].append(epoch)\n",
        "            model_track['phase'].append(phase)\n",
        "            model_track['loss'].append(epoch_loss)\n",
        "            model_track['acc'].append(epoch_acc.item())\n",
        "\n",
        "            print(f'{phase} Loss: {epoch_loss:.4f} Acc: {epoch_acc:.4f}')\n",
        "\n",
        "            # deep copy the model\n",
        "            if phase == 'val' and epoch_acc > best_acc:\n",
        "                best_acc = epoch_acc\n",
        "                best_model_wts = copy.deepcopy(model.state_dict())\n",
        "\n",
        "        print()\n",
        "\n",
        "    time_elapsed = time.time() - since\n",
        "    print(f'Training complete in {time_elapsed // 60:.0f}m {time_elapsed % 60:.0f}s')\n",
        "    print(f'Best val Acc: {best_acc:4f}')\n",
        "\n",
        "    # load best model weights\n",
        "    model.load_state_dict(best_model_wts)\n",
        "    return model, model_track"
      ]
    },
    {
      "cell_type": "markdown",
      "metadata": {
        "id": "AGpoWvTO2uQO"
      },
      "source": [
        "### Visualizing model predictions"
      ]
    },
    {
      "cell_type": "code",
      "execution_count": null,
      "metadata": {
        "id": "w-RPaDbF2uQO"
      },
      "outputs": [],
      "source": [
        "def visualize_model(model, num_images=6):\n",
        "    was_training = model.training\n",
        "    model.eval()\n",
        "    images_so_far = 0\n",
        "    fig = plt.figure()\n",
        "\n",
        "    with torch.no_grad():\n",
        "        for i, (inputs, labels) in enumerate(dataloaders['val']):\n",
        "            inputs = inputs.to(device)\n",
        "            labels = labels.to(device)\n",
        "\n",
        "            outputs = model(inputs)\n",
        "            _, preds = torch.max(outputs, 1)\n",
        "\n",
        "            for j in range(inputs.size()[0]):\n",
        "                images_so_far += 1\n",
        "                ax = plt.subplot(num_images//2, 2, images_so_far)\n",
        "                ax.axis('off')\n",
        "                ax.set_title(f'predicted: {class_names[preds[j]]}')\n",
        "                imshow(inputs.cpu().data[j])\n",
        "\n",
        "                if images_so_far == num_images:\n",
        "                    model.train(mode=was_training)\n",
        "                    return\n",
        "        model.train(mode=was_training)"
      ]
    },
    {
      "cell_type": "markdown",
      "source": [
        "### Set the optimizer"
      ],
      "metadata": {
        "id": "S0QMkH7efWhi"
      }
    },
    {
      "cell_type": "code",
      "source": [
        "# Gather the parameters to be optimized/updated in this run. If we are\n",
        "#  finetuning we will be updating all parameters. However, if we are\n",
        "#  doing feature extract method, we will only update the parameters\n",
        "#  that we have just initialized, i.e. the parameters with requires_grad\n",
        "#  is True.\n",
        "params_to_update = model_ft.parameters()\n",
        "print(\"Params to learn:\")\n",
        "if feature_extract:\n",
        "    params_to_update = []\n",
        "    for name,param in model_ft.named_parameters():\n",
        "        if param.requires_grad == True:\n",
        "            params_to_update.append(param)\n",
        "            print(\"\\t\",name)\n",
        "else:\n",
        "    for name,param in model_ft.named_parameters():\n",
        "        if param.requires_grad == True:\n",
        "            print(\"\\t\",name)\n",
        "\n",
        "# Observe that all parameters are being optimized\n",
        "optimizer_ft = optim.SGD(params_to_update, lr=learning_rate, momentum=momentum)"
      ],
      "metadata": {
        "id": "nYIjFg2kfYja"
      },
      "execution_count": null,
      "outputs": []
    },
    {
      "cell_type": "markdown",
      "source": [
        "### Set the loss function and learning rate scheduler"
      ],
      "metadata": {
        "id": "6HcBA4nQOEhN"
      }
    },
    {
      "cell_type": "code",
      "source": [
        "# Loss function\n",
        "criterion = nn.CrossEntropyLoss()\n",
        "\n",
        "# Decay LR by factor 'gamma' every 'step_size' epochs\n",
        "exp_lr_scheduler = lr_scheduler.StepLR(optimizer_ft, step_size=step_size, gamma=gamma)"
      ],
      "metadata": {
        "id": "Hm_RkD2wOIIN"
      },
      "execution_count": null,
      "outputs": []
    },
    {
      "cell_type": "markdown",
      "source": [
        "## Run the model"
      ],
      "metadata": {
        "id": "nhJ_3uBdm7MH"
      }
    },
    {
      "cell_type": "code",
      "execution_count": null,
      "metadata": {
        "id": "jsxnbX_92uQP",
        "outputId": "6731a7fa-762e-4282-976a-f894a9f37873",
        "colab": {
          "base_uri": "https://localhost:8080/"
        }
      },
      "outputs": [
        {
          "output_type": "stream",
          "name": "stdout",
          "text": [
            "Epoch 0/24\n",
            "----------\n",
            "train Loss: 0.4335 Acc: 0.8074\n",
            "val Loss: 0.3451 Acc: 0.8389\n",
            "\n",
            "Epoch 1/24\n",
            "----------\n",
            "train Loss: 0.2765 Acc: 0.8823\n",
            "val Loss: 0.3667 Acc: 0.8312\n",
            "\n",
            "Epoch 2/24\n",
            "----------\n",
            "train Loss: 0.2078 Acc: 0.9138\n",
            "val Loss: 0.3278 Acc: 0.8706\n",
            "\n",
            "Epoch 3/24\n",
            "----------\n",
            "train Loss: 0.1494 Acc: 0.9412\n",
            "val Loss: 0.3749 Acc: 0.8599\n",
            "\n",
            "Epoch 4/24\n",
            "----------\n",
            "train Loss: 0.1116 Acc: 0.9557\n",
            "val Loss: 0.3505 Acc: 0.8676\n",
            "\n",
            "Epoch 5/24\n",
            "----------\n",
            "train Loss: 0.0821 Acc: 0.9675\n",
            "val Loss: 0.4317 Acc: 0.8567\n",
            "\n",
            "Epoch 6/24\n",
            "----------\n",
            "train Loss: 0.0642 Acc: 0.9747\n",
            "val Loss: 0.7599 Acc: 0.8472\n",
            "\n",
            "Epoch 7/24\n",
            "----------\n",
            "train Loss: 0.0242 Acc: 0.9928\n",
            "val Loss: 0.5145 Acc: 0.8759\n",
            "\n",
            "Epoch 8/24\n",
            "----------\n",
            "train Loss: 0.0063 Acc: 0.9991\n",
            "val Loss: 0.5821 Acc: 0.8759\n",
            "\n",
            "Epoch 9/24\n",
            "----------\n",
            "train Loss: 0.0033 Acc: 0.9996\n",
            "val Loss: 0.6167 Acc: 0.8747\n",
            "\n",
            "Epoch 10/24\n",
            "----------\n",
            "train Loss: 0.0024 Acc: 0.9998\n",
            "val Loss: 0.6641 Acc: 0.8765\n",
            "\n",
            "Epoch 11/24\n",
            "----------\n",
            "train Loss: 0.0019 Acc: 0.9997\n",
            "val Loss: 0.6811 Acc: 0.8759\n",
            "\n",
            "Epoch 12/24\n",
            "----------\n",
            "train Loss: 0.0010 Acc: 1.0000\n",
            "val Loss: 0.6942 Acc: 0.8733\n",
            "\n",
            "Epoch 13/24\n",
            "----------\n",
            "train Loss: 0.0010 Acc: 1.0000\n",
            "val Loss: 0.7005 Acc: 0.8733\n",
            "\n",
            "Epoch 14/24\n",
            "----------\n",
            "train Loss: 0.0011 Acc: 0.9999\n",
            "val Loss: 0.6992 Acc: 0.8715\n",
            "\n",
            "Epoch 15/24\n",
            "----------\n",
            "train Loss: 0.0010 Acc: 0.9998\n",
            "val Loss: 0.7232 Acc: 0.8768\n",
            "\n",
            "Epoch 16/24\n",
            "----------\n",
            "train Loss: 0.0008 Acc: 1.0000\n",
            "val Loss: 0.7234 Acc: 0.8768\n",
            "\n",
            "Epoch 17/24\n",
            "----------\n",
            "train Loss: 0.0010 Acc: 0.9999\n",
            "val Loss: 0.7068 Acc: 0.8746\n",
            "\n",
            "Epoch 18/24\n",
            "----------\n",
            "train Loss: 0.0008 Acc: 0.9999\n",
            "val Loss: 0.7185 Acc: 0.8750\n",
            "\n",
            "Epoch 19/24\n",
            "----------\n",
            "train Loss: 0.0007 Acc: 1.0000\n",
            "val Loss: 0.7076 Acc: 0.8726\n",
            "\n",
            "Epoch 20/24\n",
            "----------\n",
            "train Loss: 0.0009 Acc: 0.9999\n",
            "val Loss: 0.7320 Acc: 0.8765\n",
            "\n",
            "Epoch 21/24\n",
            "----------\n",
            "train Loss: 0.0008 Acc: 1.0000\n",
            "val Loss: 0.7151 Acc: 0.8747\n",
            "\n",
            "Epoch 22/24\n",
            "----------\n",
            "train Loss: 0.0008 Acc: 1.0000\n",
            "val Loss: 0.7166 Acc: 0.8755\n",
            "\n",
            "Epoch 23/24\n",
            "----------\n",
            "train Loss: 0.0006 Acc: 1.0000\n",
            "val Loss: 0.7362 Acc: 0.8760\n",
            "\n",
            "Epoch 24/24\n",
            "----------\n",
            "train Loss: 0.0007 Acc: 1.0000\n",
            "val Loss: 0.7500 Acc: 0.8776\n",
            "\n",
            "Training complete in 64m 51s\n",
            "Best val Acc: 0.877602\n"
          ]
        }
      ],
      "source": [
        "model_ft, model_track = train_model(model_ft, criterion, optimizer_ft, exp_lr_scheduler,\n",
        "                       num_epochs)"
      ]
    },
    {
      "cell_type": "markdown",
      "source": [
        "## Save model"
      ],
      "metadata": {
        "id": "opLJmrWlVIen"
      }
    },
    {
      "cell_type": "markdown",
      "metadata": {
        "id": "NxFd8Kgg2uQP"
      },
      "source": [
        "**Warning:** Make sure to change model name so it doesn't overwrite"
      ]
    },
    {
      "cell_type": "code",
      "execution_count": null,
      "metadata": {
        "id": "AHVc1L3d2uQP"
      },
      "outputs": [],
      "source": [
        "path = '/content/drive/MyDrive/Fourthbrain/Capstone/models/'\n",
        "model_name = 'model_baseline_CODAEL_v0'\n",
        "torch.save(model_ft, path + model_name + '.pth')\n",
        "torch.save(model_ft.state_dict(), path + model_name + '_weights.pth')"
      ]
    },
    {
      "cell_type": "code",
      "source": [
        "track_df = pd.DataFrame(model_track)\n",
        "track_df.to_csv(path + model_name + '_training_results.csv')"
      ],
      "metadata": {
        "id": "RtNRu8Eoo5bp"
      },
      "execution_count": null,
      "outputs": []
    },
    {
      "cell_type": "markdown",
      "source": [
        "## Evaluate model on test set"
      ],
      "metadata": {
        "id": "1kBp_M3Ft8oc"
      }
    },
    {
      "cell_type": "markdown",
      "source": [
        "1.   Specify whether to load model or use model just trained\n",
        "2.   If loading, specify path to models folder and model name\n"
      ],
      "metadata": {
        "id": "0YflBh-WuG4Z"
      }
    },
    {
      "cell_type": "code",
      "source": [
        "load_model = True\n",
        "path = '/content/drive/MyDrive/Fourthbrain/Capstone/models/'\n",
        "model_name = 'model_baseline_CODAEL_v0'"
      ],
      "metadata": {
        "id": "1BM-ae4QqKQ4"
      },
      "execution_count": null,
      "outputs": []
    },
    {
      "cell_type": "code",
      "source": [
        "if load_model:\n",
        "  model_ft = torch.load(path + model_name + '.pth')\n",
        "else:\n",
        "  model_ft"
      ],
      "metadata": {
        "id": "oE4wMf29vI0X"
      },
      "execution_count": null,
      "outputs": []
    },
    {
      "cell_type": "markdown",
      "source": [
        "Define loss function (match loss function used during training)"
      ],
      "metadata": {
        "id": "-U5DzIVuzD8W"
      }
    },
    {
      "cell_type": "code",
      "source": [
        "device = torch.device(\"cuda:0\" if torch.cuda.is_available() else \"cpu\")"
      ],
      "metadata": {
        "id": "Csl8hXbTrd6M"
      },
      "execution_count": null,
      "outputs": []
    },
    {
      "cell_type": "code",
      "source": [
        "loss_fn = nn.CrossEntropyLoss()"
      ],
      "metadata": {
        "id": "p7-KJbn6z1c5"
      },
      "execution_count": null,
      "outputs": []
    },
    {
      "cell_type": "markdown",
      "source": [
        "### Get lists of labels and predictions to use scikit-learn metrics"
      ],
      "metadata": {
        "id": "laJiUZ2AnagW"
      }
    },
    {
      "cell_type": "code",
      "source": [
        "torch.manual_seed(random_state)\n",
        "from sklearn.metrics import accuracy_score, f1_score, precision_score, recall_score, auc, roc_curve\n",
        "def get_predictions(model: torch.nn.Module, \n",
        "               data_loader: torch.utils.data.DataLoader,\n",
        "               loss_fn: torch.nn.Module):\n",
        "  \n",
        "  # initialize lists to track labels, predictions, and scores\n",
        "  labels = []\n",
        "  predictions = []\n",
        "  scores = []\n",
        "\n",
        "  # initialize loss\n",
        "  loss = 0\n",
        "\n",
        "  model.eval()\n",
        "  with torch.inference_mode():\n",
        "    for X, y in data_loader:\n",
        "      # Ensure data tensors are on right device\n",
        "      X, y = X.to(device), y.to(device)\n",
        "      # Make predictions with the model\n",
        "      outputs = model(X)\n",
        "      # Map outputs to probabilities with Softmax\n",
        "      m = nn.Softmax(dim=1)\n",
        "      p = m(outputs)\n",
        "      probs, y_pred = torch.max(p, 1)\n",
        "\n",
        "      # Accumulate the loss values per batch\n",
        "      loss += loss_fn(outputs, y)\n",
        "\n",
        "      # Append lists\n",
        "      labels = labels + y.tolist()\n",
        "      predictions = predictions + y_pred.tolist()\n",
        "      scores = scores + probs.tolist()\n",
        "\n",
        "    # Scale loss to find the average loss per batch\n",
        "    loss /= len(data_loader)\n",
        "\n",
        "    # Get metrics w/sklearn (positive class = 0)\n",
        "    acc = accuracy_score(labels, predictions)\n",
        "    f1 = f1_score(labels, predictions, pos_label=0)\n",
        "    prec = precision_score(labels, predictions, pos_label=0)\n",
        "    rec = recall_score(labels, predictions, pos_label=0)\n",
        "\n",
        "    model_dict = {\"model_name\": model.__class__.__name__, # only works when model was created with a class\n",
        "            \"test_loss\": loss.item(),\n",
        "            \"test_acc\": acc,\n",
        "            \"F1 Score\": f1,\n",
        "            \"Precision\": prec,\n",
        "            \"Recall\": rec\n",
        "    }\n",
        "\n",
        "  return labels, predictions, scores, model_dict\n",
        "        "
      ],
      "metadata": {
        "id": "0RKes-Krnf21"
      },
      "execution_count": null,
      "outputs": []
    },
    {
      "cell_type": "code",
      "source": [
        "labels, predictions, scores, model_dict = get_predictions(model=model_ft, data_loader = dataloaders['test'], loss_fn=loss_fn)\n",
        "print(model_dict)"
      ],
      "metadata": {
        "colab": {
          "base_uri": "https://localhost:8080/"
        },
        "id": "s1kU9oainlMc",
        "outputId": "98d1e57b-dc35-440c-942c-7fa40fbd10a6"
      },
      "execution_count": null,
      "outputs": [
        {
          "output_type": "stream",
          "name": "stdout",
          "text": [
            "{'model_name': 'ResNet', 'test_loss': 0.7229061722755432, 'test_acc': 0.8744729159909179, 'F1 Score': 0.7614791987673344, 'Precision': 0.8027940220922677, 'Recall': 0.7242086752637749}\n"
          ]
        }
      ]
    },
    {
      "cell_type": "markdown",
      "source": [
        "Print out classification report"
      ],
      "metadata": {
        "id": "vBjpIt5unnUU"
      }
    },
    {
      "cell_type": "code",
      "source": [
        "from sklearn.metrics import classification_report\n",
        "\n",
        "target_names = test_data.classes # get target names from the test dataset (not test dataloader)\n",
        "\n",
        "print(classification_report(labels, predictions, target_names=target_names))"
      ],
      "metadata": {
        "colab": {
          "base_uri": "https://localhost:8080/"
        },
        "id": "2nQ1jdLgno7b",
        "outputId": "740c421b-af7b-4b1c-a258-c2dfd1c6e0b1"
      },
      "execution_count": null,
      "outputs": [
        {
          "output_type": "stream",
          "name": "stdout",
          "text": [
            "              precision    recall  f1-score   support\n",
            "\n",
            "     Mitosis       0.80      0.72      0.76      3412\n",
            "  Nonmitosis       0.90      0.93      0.91      8920\n",
            "\n",
            "    accuracy                           0.87     12332\n",
            "   macro avg       0.85      0.83      0.84     12332\n",
            "weighted avg       0.87      0.87      0.87     12332\n",
            "\n"
          ]
        }
      ]
    },
    {
      "cell_type": "markdown",
      "source": [
        "Save model test results to a csv"
      ],
      "metadata": {
        "id": "SctX1iAqtMwB"
      }
    },
    {
      "cell_type": "code",
      "source": [
        "test_results_df = pd.DataFrame(model_dict, index = np.arange(0,1))\n",
        "test_results_df.to_csv(path + model_name +'_test_results.csv')"
      ],
      "metadata": {
        "id": "ajeaCt3HskrC"
      },
      "execution_count": null,
      "outputs": []
    },
    {
      "cell_type": "markdown",
      "source": [
        "### Look at ROC and AUC"
      ],
      "metadata": {
        "id": "Nb2j8U6hn0IS"
      }
    },
    {
      "cell_type": "code",
      "source": [
        "from sklearn.metrics import roc_curve, auc\n",
        "from sklearn.metrics import RocCurveDisplay\n",
        "\n",
        "# positive label = 0 (Mitosis)\n",
        "fpr, tpr, thresholds = roc_curve(labels, scores, pos_label=0)\n",
        "roc_display = RocCurveDisplay(fpr=fpr, tpr=tpr).plot()\n",
        "\n",
        "print('The area under the curve (AUC) is {}'.format(auc(fpr, tpr)))"
      ],
      "metadata": {
        "id": "ov1m5a9ctlEg",
        "colab": {
          "base_uri": "https://localhost:8080/",
          "height": 296
        },
        "outputId": "d4f41b1b-ffe6-4d44-883e-a37882be5557"
      },
      "execution_count": null,
      "outputs": [
        {
          "output_type": "stream",
          "name": "stdout",
          "text": [
            "The area under the curve (AUC) is 0.25121419258854266\n"
          ]
        },
        {
          "output_type": "display_data",
          "data": {
            "text/plain": [
              "<Figure size 432x288 with 1 Axes>"
            ],
            "image/png": "[encoded data removed]"
          },
          "metadata": {
            "needs_background": "light"
          }
        }
      ]
    },
    {
      "cell_type": "markdown",
      "source": [
        "### Confusion matrix"
      ],
      "metadata": {
        "id": "CF6U6Su3n4Hz"
      }
    },
    {
      "cell_type": "code",
      "source": [
        "from sklearn.metrics import confusion_matrix\n",
        "from sklearn.metrics import ConfusionMatrixDisplay\n",
        "\n",
        "cm = confusion_matrix(labels, predictions)\n",
        "cm_display = ConfusionMatrixDisplay(cm, display_labels=test_data.classes).plot()"
      ],
      "metadata": {
        "colab": {
          "base_uri": "https://localhost:8080/",
          "height": 279
        },
        "id": "MEt1EJo1n6nU",
        "outputId": "a43f7d0e-e8f4-49bf-b5b1-cd5f6b9dbd52"
      },
      "execution_count": null,
      "outputs": [
        {
          "output_type": "display_data",
          "data": {
            "text/plain": [
              "<Figure size 432x288 with 2 Axes>"
            ],
            "image/png": "[encoded data removed]"
          },
          "metadata": {
            "needs_background": "light"
          }
        }
      ]
    }
  ],
  "metadata": {
    "kernelspec": {
      "display_name": "Python 3.8.13 ('capstone')",
      "language": "python",
      "name": "python3"
    },
    "language_info": {
      "codemirror_mode": {
        "name": "ipython",
        "version": 3
      },
      "file_extension": ".py",
      "mimetype": "text/x-python",
      "name": "python",
      "nbconvert_exporter": "python",
      "pygments_lexer": "ipython3",
      "version": "3.8.13"
    },
    "orig_nbformat": 4,
    "vscode": {
      "interpreter": {
        "hash": "fbe1240c42c9fedbac8dda4922e480118c75c39e21d1189b5dde5cc4a0ce6e6d"
      }
    },
    "colab": {
      "provenance": [],
      "toc_visible": true
    },
    "accelerator": "GPU",
    "widgets": {
      "application/vnd.jupyter.widget-state+json": {
        "d10c68899d8b45efb7179450c1fcec6d": {
          "model_module": "@jupyter-widgets/controls",
          "model_name": "HBoxModel",
          "model_module_version": "1.5.0",
          "state": {
            "_dom_classes": [],
            "_model_module": "@jupyter-widgets/controls",
            "_model_module_version": "1.5.0",
            "_model_name": "HBoxModel",
            "_view_count": null,
            "_view_module": "@jupyter-widgets/controls",
            "_view_module_version": "1.5.0",
            "_view_name": "HBoxView",
            "box_style": "",
            "children": [
              "IPY_MODEL_b3670a24a7ae4c4f9c599421619d18f8",
              "IPY_MODEL_0e3b463079114f3f85242b66f34f6078",
              "IPY_MODEL_14facfb6f70d459481edfb83860f8fb7"
            ],
            "layout": "IPY_MODEL_b1f081b8655345dca35a90da10acaaf3"
          }
        },
        "b3670a24a7ae4c4f9c599421619d18f8": {
          "model_module": "@jupyter-widgets/controls",
          "model_name": "HTMLModel",
          "model_module_version": "1.5.0",
          "state": {
            "_dom_classes": [],
            "_model_module": "@jupyter-widgets/controls",
            "_model_module_version": "1.5.0",
            "_model_name": "HTMLModel",
            "_view_count": null,
            "_view_module": "@jupyter-widgets/controls",
            "_view_module_version": "1.5.0",
            "_view_name": "HTMLView",
            "description": "",
            "description_tooltip": null,
            "layout": "IPY_MODEL_f67f1f9f232046b380b2e613554eeb58",
            "placeholder": "​",
            "style": "IPY_MODEL_1467419517d04253a3aa047165781037",
            "value": "100%"
          }
        },
        "0e3b463079114f3f85242b66f34f6078": {
          "model_module": "@jupyter-widgets/controls",
          "model_name": "FloatProgressModel",
          "model_module_version": "1.5.0",
          "state": {
            "_dom_classes": [],
            "_model_module": "@jupyter-widgets/controls",
            "_model_module_version": "1.5.0",
            "_model_name": "FloatProgressModel",
            "_view_count": null,
            "_view_module": "@jupyter-widgets/controls",
            "_view_module_version": "1.5.0",
            "_view_name": "ProgressView",
            "bar_style": "success",
            "description": "",
            "description_tooltip": null,
            "layout": "IPY_MODEL_41b3455a105f431882db3cee8972d5a4",
            "max": 46830571,
            "min": 0,
            "orientation": "horizontal",
            "style": "IPY_MODEL_7be2e528c5d54622af99702a8c6b3ef3",
            "value": 46830571
          }
        },
        "14facfb6f70d459481edfb83860f8fb7": {
          "model_module": "@jupyter-widgets/controls",
          "model_name": "HTMLModel",
          "model_module_version": "1.5.0",
          "state": {
            "_dom_classes": [],
            "_model_module": "@jupyter-widgets/controls",
            "_model_module_version": "1.5.0",
            "_model_name": "HTMLModel",
            "_view_count": null,
            "_view_module": "@jupyter-widgets/controls",
            "_view_module_version": "1.5.0",
            "_view_name": "HTMLView",
            "description": "",
            "description_tooltip": null,
            "layout": "IPY_MODEL_0f2694cecce542baadd5575bf40d3729",
            "placeholder": "​",
            "style": "IPY_MODEL_c7954316015c404fbac05803fe911495",
            "value": " 44.7M/44.7M [00:00&lt;00:00, 182MB/s]"
          }
        },
        "b1f081b8655345dca35a90da10acaaf3": {
          "model_module": "@jupyter-widgets/base",
          "model_name": "LayoutModel",
          "model_module_version": "1.2.0",
          "state": {
            "_model_module": "@jupyter-widgets/base",
            "_model_module_version": "1.2.0",
            "_model_name": "LayoutModel",
            "_view_count": null,
            "_view_module": "@jupyter-widgets/base",
            "_view_module_version": "1.2.0",
            "_view_name": "LayoutView",
            "align_content": null,
            "align_items": null,
            "align_self": null,
            "border": null,
            "bottom": null,
            "display": null,
            "flex": null,
            "flex_flow": null,
            "grid_area": null,
            "grid_auto_columns": null,
            "grid_auto_flow": null,
            "grid_auto_rows": null,
            "grid_column": null,
            "grid_gap": null,
            "grid_row": null,
            "grid_template_areas": null,
            "grid_template_columns": null,
            "grid_template_rows": null,
            "height": null,
            "justify_content": null,
            "justify_items": null,
            "left": null,
            "margin": null,
            "max_height": null,
            "max_width": null,
            "min_height": null,
            "min_width": null,
            "object_fit": null,
            "object_position": null,
            "order": null,
            "overflow": null,
            "overflow_x": null,
            "overflow_y": null,
            "padding": null,
            "right": null,
            "top": null,
            "visibility": null,
            "width": null
          }
        },
        "f67f1f9f232046b380b2e613554eeb58": {
          "model_module": "@jupyter-widgets/base",
          "model_name": "LayoutModel",
          "model_module_version": "1.2.0",
          "state": {
            "_model_module": "@jupyter-widgets/base",
            "_model_module_version": "1.2.0",
            "_model_name": "LayoutModel",
            "_view_count": null,
            "_view_module": "@jupyter-widgets/base",
            "_view_module_version": "1.2.0",
            "_view_name": "LayoutView",
            "align_content": null,
            "align_items": null,
            "align_self": null,
            "border": null,
            "bottom": null,
            "display": null,
            "flex": null,
            "flex_flow": null,
            "grid_area": null,
            "grid_auto_columns": null,
            "grid_auto_flow": null,
            "grid_auto_rows": null,
            "grid_column": null,
            "grid_gap": null,
            "grid_row": null,
            "grid_template_areas": null,
            "grid_template_columns": null,
            "grid_template_rows": null,
            "height": null,
            "justify_content": null,
            "justify_items": null,
            "left": null,
            "margin": null,
            "max_height": null,
            "max_width": null,
            "min_height": null,
            "min_width": null,
            "object_fit": null,
            "object_position": null,
            "order": null,
            "overflow": null,
            "overflow_x": null,
            "overflow_y": null,
            "padding": null,
            "right": null,
            "top": null,
            "visibility": null,
            "width": null
          }
        },
        "1467419517d04253a3aa047165781037": {
          "model_module": "@jupyter-widgets/controls",
          "model_name": "DescriptionStyleModel",
          "model_module_version": "1.5.0",
          "state": {
            "_model_module": "@jupyter-widgets/controls",
            "_model_module_version": "1.5.0",
            "_model_name": "DescriptionStyleModel",
            "_view_count": null,
            "_view_module": "@jupyter-widgets/base",
            "_view_module_version": "1.2.0",
            "_view_name": "StyleView",
            "description_width": ""
          }
        },
        "41b3455a105f431882db3cee8972d5a4": {
          "model_module": "@jupyter-widgets/base",
          "model_name": "LayoutModel",
          "model_module_version": "1.2.0",
          "state": {
            "_model_module": "@jupyter-widgets/base",
            "_model_module_version": "1.2.0",
            "_model_name": "LayoutModel",
            "_view_count": null,
            "_view_module": "@jupyter-widgets/base",
            "_view_module_version": "1.2.0",
            "_view_name": "LayoutView",
            "align_content": null,
            "align_items": null,
            "align_self": null,
            "border": null,
            "bottom": null,
            "display": null,
            "flex": null,
            "flex_flow": null,
            "grid_area": null,
            "grid_auto_columns": null,
            "grid_auto_flow": null,
            "grid_auto_rows": null,
            "grid_column": null,
            "grid_gap": null,
            "grid_row": null,
            "grid_template_areas": null,
            "grid_template_columns": null,
            "grid_template_rows": null,
            "height": null,
            "justify_content": null,
            "justify_items": null,
            "left": null,
            "margin": null,
            "max_height": null,
            "max_width": null,
            "min_height": null,
            "min_width": null,
            "object_fit": null,
            "object_position": null,
            "order": null,
            "overflow": null,
            "overflow_x": null,
            "overflow_y": null,
            "padding": null,
            "right": null,
            "top": null,
            "visibility": null,
            "width": null
          }
        },
        "7be2e528c5d54622af99702a8c6b3ef3": {
          "model_module": "@jupyter-widgets/controls",
          "model_name": "ProgressStyleModel",
          "model_module_version": "1.5.0",
          "state": {
            "_model_module": "@jupyter-widgets/controls",
            "_model_module_version": "1.5.0",
            "_model_name": "ProgressStyleModel",
            "_view_count": null,
            "_view_module": "@jupyter-widgets/base",
            "_view_module_version": "1.2.0",
            "_view_name": "StyleView",
            "bar_color": null,
            "description_width": ""
          }
        },
        "0f2694cecce542baadd5575bf40d3729": {
          "model_module": "@jupyter-widgets/base",
          "model_name": "LayoutModel",
          "model_module_version": "1.2.0",
          "state": {
            "_model_module": "@jupyter-widgets/base",
            "_model_module_version": "1.2.0",
            "_model_name": "LayoutModel",
            "_view_count": null,
            "_view_module": "@jupyter-widgets/base",
            "_view_module_version": "1.2.0",
            "_view_name": "LayoutView",
            "align_content": null,
            "align_items": null,
            "align_self": null,
            "border": null,
            "bottom": null,
            "display": null,
            "flex": null,
            "flex_flow": null,
            "grid_area": null,
            "grid_auto_columns": null,
            "grid_auto_flow": null,
            "grid_auto_rows": null,
            "grid_column": null,
            "grid_gap": null,
            "grid_row": null,
            "grid_template_areas": null,
            "grid_template_columns": null,
            "grid_template_rows": null,
            "height": null,
            "justify_content": null,
            "justify_items": null,
            "left": null,
            "margin": null,
            "max_height": null,
            "max_width": null,
            "min_height": null,
            "min_width": null,
            "object_fit": null,
            "object_position": null,
            "order": null,
            "overflow": null,
            "overflow_x": null,
            "overflow_y": null,
            "padding": null,
            "right": null,
            "top": null,
            "visibility": null,
            "width": null
          }
        },
        "c7954316015c404fbac05803fe911495": {
          "model_module": "@jupyter-widgets/controls",
          "model_name": "DescriptionStyleModel",
          "model_module_version": "1.5.0",
          "state": {
            "_model_module": "@jupyter-widgets/controls",
            "_model_module_version": "1.5.0",
            "_model_name": "DescriptionStyleModel",
            "_view_count": null,
            "_view_module": "@jupyter-widgets/base",
            "_view_module_version": "1.2.0",
            "_view_name": "StyleView",
            "description_width": ""
          }
        }
      }
    },
    "gpuClass": "standard"
  },
  "nbformat": 4,
  "nbformat_minor": 0
}