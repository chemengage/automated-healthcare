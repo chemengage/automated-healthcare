{
 "cells": [
  {
   "cell_type": "markdown",
   "metadata": {},
   "source": [
    "# Extract patches"
   ]
  },
  {
   "cell_type": "code",
   "execution_count": 2,
   "metadata": {},
   "outputs": [],
   "source": [
    "import numpy as np\n",
    "import pandas as pd\n",
    "#import SlideRunner.general.dependencies\n",
    "from SlideRunner.dataAccess.database import Database\n",
    "from SlideRunner.dataAccess.annotations import *\n",
    "import os\n",
    "import openslide\n",
    "import sqlite3\n",
    "import cv2\n",
    "import sys\n",
    "import random"
   ]
  },
  {
   "cell_type": "markdown",
   "metadata": {},
   "source": [
    "# Get centered image patches for cell/image patch classifier"
   ]
  },
  {
   "cell_type": "markdown",
   "metadata": {},
   "source": [
    "Generate centered image patches (i.e., annotation in center of patch) of a specified size for every database (total 3) and test slide list combination (total 3)."
   ]
  },
  {
   "cell_type": "markdown",
   "metadata": {},
   "source": [
    "## Setup"
   ]
  },
  {
   "cell_type": "markdown",
   "metadata": {},
   "source": [
    "Create directories for all three databases\n",
    "* MEL, ODAEL, CODAEL\n",
    "* Each database has three different train/test splits\n",
    "* So there will be 9 total directories created"
   ]
  },
  {
   "cell_type": "code",
   "execution_count": 101,
   "metadata": {},
   "outputs": [],
   "source": [
    "# make list of tuples\n",
    "databases = ['MEL','ODAEL','CODAEL']\n",
    "splits = ['1','2','3']\n",
    "\n",
    "dir_names = []\n",
    "for database in databases:\n",
    "    for split in splits:\n",
    "        dir_names.append((database, split))\n",
    "\n",
    "# create the directories in a folder named Data\n",
    "for database, split in dir_names:\n",
    "    os.system('mkdir -p Data/Data_CMC_%s_%s' % (database, split))\n",
    "\n",
    "    dirs = ['Mitosis', 'Nonmitosis']\n",
    "    for k in dirs:\n",
    "        os.system('mkdir -p Data/Data_CMC_%s_%s/train/%s' % (database,split,k))\n",
    "        os.system('mkdir -p Data/Data_CMC_%s_%s/test/%s' % (database,split,k))\n"
   ]
  },
  {
   "cell_type": "markdown",
   "metadata": {},
   "source": [
    "Define database file paths"
   ]
  },
  {
   "cell_type": "code",
   "execution_count": 15,
   "metadata": {},
   "outputs": [],
   "source": [
    "# path to directory main folder\n",
    "path = '../'\n",
    "# list of databases\n",
    "DBs = [path+'prework/databases/MITOS_WSI_CMC_MEL.sqlite', path+'prework/databases/MITOS_WSI_CMC_ODAEL_TR.sqlite', path+'prework/databases/MITOS_WSI_CMC_CODAEL_TR_ROI.sqlite']\n",
    "# make tuple with corresponding database label\n",
    "databases = ['MEL','ODAEL','CODAEL']\n",
    "DB_names = []\n",
    "for i in range(len(DBs)):\n",
    "    DB_names.append((DBs[i], databases[i]))\n"
   ]
  },
  {
   "cell_type": "markdown",
   "metadata": {},
   "source": [
    "Define the test sets"
   ]
  },
  {
   "cell_type": "code",
   "execution_count": 16,
   "metadata": {},
   "outputs": [],
   "source": [
    "slidelist_test_1 = ['18','3', '22','10','15','21','14']\n",
    "slidelist_test_2 = ['1', '20','17','5', '2', '11','16']\n",
    "slidelist_test_3 = ['12','13','7', '19','8', '6', '9']\n",
    "\n",
    "test_slides = { '1': slidelist_test_1,\n",
    "                '2': slidelist_test_2,\n",
    "                '3': slidelist_test_3}\n"
   ]
  },
  {
   "cell_type": "markdown",
   "metadata": {},
   "source": [
    "**Important:** Set image patch size with modeling in mind. Most pre-trained networks like ResNet require (224,224) inputs"
   ]
  },
  {
   "cell_type": "code",
   "execution_count": 17,
   "metadata": {},
   "outputs": [],
   "source": [
    "patchSize = 512"
   ]
  },
  {
   "cell_type": "markdown",
   "metadata": {},
   "source": [
    "Set parameters\n",
    "* Ensure WSIpath and basepath are setup properly according to your setup"
   ]
  },
  {
   "cell_type": "code",
   "execution_count": 18,
   "metadata": {},
   "outputs": [],
   "source": [
    "disagreedclass = 0\n",
    "agreedclass = 0\n",
    " # path to WSI folder (depends on your setup)\n",
    "WSIpath='../WSI/'\n",
    "# absolute path to the working directory + Data folder\n",
    "basepath = os.getcwd()+'/Data/'"
   ]
  },
  {
   "cell_type": "markdown",
   "metadata": {},
   "source": [
    "List of slides function"
   ]
  },
  {
   "cell_type": "code",
   "execution_count": 9,
   "metadata": {},
   "outputs": [],
   "source": [
    "def listOfSlides(DB):\n",
    "    DB.execute('SELECT uid,filename from Slides')\n",
    "    return DB.fetchall()"
   ]
  },
  {
   "cell_type": "markdown",
   "metadata": {},
   "source": [
    "**WARNING:** Takes a long time to run and will consume on order of 10s of GBs of memory on local storage depending on image size\n",
    "\n",
    "Get image patches for every annotation in each database and assign it to the correct directory"
   ]
  },
  {
   "cell_type": "code",
   "execution_count": 10,
   "metadata": {},
   "outputs": [
    {
     "name": "stdout",
     "output_type": "stream",
     "text": [
      "Done with slide 1 in database MEL\n",
      "Done with slide 2 in database MEL\n",
      "Done with slide 3 in database MEL\n",
      "Done with slide 5 in database MEL\n",
      "Done with slide 6 in database MEL\n",
      "Done with slide 7 in database MEL\n",
      "Done with slide 8 in database MEL\n",
      "Done with slide 9 in database MEL\n",
      "Done with slide 10 in database MEL\n",
      "Done with slide 11 in database MEL\n",
      "Done with slide 12 in database MEL\n",
      "Done with slide 13 in database MEL\n",
      "Done with slide 14 in database MEL\n",
      "Done with slide 15 in database MEL\n",
      "Done with slide 16 in database MEL\n",
      "Done with slide 17 in database MEL\n",
      "Done with slide 18 in database MEL\n",
      "Done with slide 19 in database MEL\n",
      "Done with slide 20 in database MEL\n",
      "Done with slide 21 in database MEL\n",
      "Done with slide 22 in database MEL\n",
      "Done with slide 1 in database CODAEL\n",
      "Done with slide 2 in database CODAEL\n",
      "Done with slide 3 in database CODAEL\n",
      "Done with slide 5 in database CODAEL\n",
      "Done with slide 6 in database CODAEL\n",
      "Done with slide 7 in database CODAEL\n",
      "Done with slide 8 in database CODAEL\n",
      "Done with slide 9 in database CODAEL\n",
      "Done with slide 10 in database CODAEL\n",
      "Done with slide 11 in database CODAEL\n",
      "Done with slide 12 in database CODAEL\n",
      "Done with slide 13 in database CODAEL\n",
      "Done with slide 14 in database CODAEL\n",
      "Done with slide 15 in database CODAEL\n",
      "Done with slide 16 in database CODAEL\n",
      "Done with slide 17 in database CODAEL\n",
      "Done with slide 18 in database CODAEL\n",
      "Done with slide 19 in database CODAEL\n",
      "Done with slide 20 in database CODAEL\n",
      "Done with slide 21 in database CODAEL\n",
      "Done with slide 22 in database CODAEL\n"
     ]
    }
   ],
   "source": [
    "# outer for loop to go through each database\n",
    "for database, name in DB_names:\n",
    "    # instantiate database object and open database\n",
    "    DB = Database().open(database)\n",
    "\n",
    "    # first inner for loop to go through slides of DB\n",
    "    for slideid,filename in listOfSlides(DB):\n",
    "        # load slide into memory and open w/openslide\n",
    "        DB.loadIntoMemory(slideid)\n",
    "    \n",
    "        slide=openslide.open_slide(WSIpath+filename)\n",
    "\n",
    "        # second inner for loop to go through each annotation on the current slide\n",
    "        for k in DB.annotations.keys():\n",
    "\n",
    "            anno = DB.annotations[k]\n",
    "\n",
    "            if anno.deleted or anno.annotationType != AnnotationType.SPOT:\n",
    "                continue\n",
    "            coord_x = anno.x1\n",
    "            coord_y = anno.y1\n",
    "\n",
    "            lu_x = int(coord_x - int(patchSize/2))\n",
    "            lu_y = int(coord_y - int(patchSize/2))\n",
    "            img = np.array(slide.read_region(location=(lu_x, lu_y), level=0, size=(patchSize, patchSize)))\n",
    "            img = cv2.cvtColor(img, cv2.COLOR_RGBA2BGR)\n",
    "            \n",
    "            # third inner for loop to assign annotation/image to proper directory of current database\n",
    "            for split in splits:\n",
    "                istest = 'train/' if str(slideid) not in test_slides[split] else 'test/'\n",
    "                if (anno.agreedClass ==2):\n",
    "                    cv2.imwrite(basepath+'Data_CMC_%s_%s/' % (name, split) +istest+'Mitosis/%d.png' % k, img)\n",
    "                    #os.system(f'ln -s ../../../images/Mitosis/{k}.png Data_CMC{sys.argv[1]}/'+istest+'Mitosis/%d.png' %k)\n",
    "\n",
    "                if (anno.agreedClass==1):\n",
    "                    cv2.imwrite(basepath+'Data_CMC_%s_%s/' % (name, split) +istest+'Nonmitosis/%d.png' % k, img)\n",
    "                    #os.system(f'ln -s ../../../images/Nonmitosis/{k}.png Data_CMC{sys.argv[1]}/'+istest+'Nonmitosis/%d.png' %k)\n",
    "        print('Done with slide {} in database {}'.format(slideid, name))\n"
   ]
  },
  {
   "cell_type": "markdown",
   "metadata": {},
   "source": [
    "## Non-centered image patches and bounding box info for object detection"
   ]
  },
  {
   "cell_type": "markdown",
   "metadata": {},
   "source": [
    "Generates random (not-centered) 512x512 crops of mitosis annotations and stores bounding box info. Database and test slide list defined explicitly instead of looping through every combination."
   ]
  },
  {
   "cell_type": "code",
   "execution_count": 103,
   "metadata": {},
   "outputs": [],
   "source": [
    "# create dictionary to store bounding boxes\n",
    "lbl_bbox_train = {'image_id': [],\n",
    "                        'xmin': [],\n",
    "                            'ymin': [],\n",
    "                                'xmax': [],\n",
    "                                    'ymax': [],\n",
    "                                        'labels': [],\n",
    "                                            'WSI_coord': [],\n",
    "                                                'slideid': []}\n",
    "\n",
    "lbl_bbox_test = {'image_id': [],\n",
    "                        'xmin': [],\n",
    "                            'ymin': [],\n",
    "                                'xmax': [],\n",
    "                                    'ymax': [],\n",
    "                                        'labels': [],\n",
    "                                            'WSI_coord': [],\n",
    "                                                'slideid': []}"
   ]
  },
  {
   "cell_type": "markdown",
   "metadata": {},
   "source": [
    "List of slides function"
   ]
  },
  {
   "cell_type": "code",
   "execution_count": 104,
   "metadata": {},
   "outputs": [],
   "source": [
    "def listOfSlides(DB):\n",
    "    DB.execute('SELECT uid,filename from Slides')\n",
    "    return DB.fetchall()"
   ]
  },
  {
   "cell_type": "markdown",
   "metadata": {},
   "source": [
    "Define database and test slide set explicitly instead of looping through every combo"
   ]
  },
  {
   "cell_type": "code",
   "execution_count": 105,
   "metadata": {},
   "outputs": [],
   "source": [
    "# downsampling factor (author's used 1)\n",
    "down_factor = 1\n",
    "\n",
    "# bounding box 'radius'\n",
    "r = 25\n",
    "\n",
    "# path to WSI folder (depends on your setup)\n",
    "WSIpath='../WSI/'\n",
    "# absolute path to the working directory + Data folder\n",
    "basepath = os.getcwd()+'/Data/'\n",
    "# path to database\n",
    "database = '../prework/databases/MITOS_WSI_CMC_CODAEL_TR_ROI.sqlite'\n",
    "name = 'CODAEL'\n",
    "test_slides = ['18','3', '22','10','15','21','14']\n",
    "split = '1'"
   ]
  },
  {
   "cell_type": "markdown",
   "metadata": {},
   "source": [
    "**WARNING:** Takes a long time to run and will consume on order of 10s of GBs of memory on local storage depending on image size\n",
    "\n",
    "Get non-centered image patches and bounding boxes for every annotation in the specified database and assign it to the correct directory\n",
    "\n",
    "Exports .csv file of train and test set bounding boxes (and other info) to current working directory"
   ]
  },
  {
   "cell_type": "code",
   "execution_count": 106,
   "metadata": {},
   "outputs": [
    {
     "name": "stdout",
     "output_type": "stream",
     "text": [
      "Done with slide 1 in database CODAEL\n",
      "Done with slide 2 in database CODAEL\n",
      "Done with slide 3 in database CODAEL\n",
      "Done with slide 5 in database CODAEL\n",
      "Done with slide 6 in database CODAEL\n",
      "Done with slide 7 in database CODAEL\n",
      "Done with slide 8 in database CODAEL\n",
      "Done with slide 9 in database CODAEL\n",
      "Done with slide 10 in database CODAEL\n",
      "Done with slide 11 in database CODAEL\n",
      "Done with slide 12 in database CODAEL\n",
      "Done with slide 13 in database CODAEL\n",
      "Done with slide 14 in database CODAEL\n",
      "Done with slide 15 in database CODAEL\n",
      "Done with slide 16 in database CODAEL\n",
      "Done with slide 17 in database CODAEL\n",
      "Done with slide 18 in database CODAEL\n",
      "Done with slide 19 in database CODAEL\n",
      "Done with slide 20 in database CODAEL\n",
      "Done with slide 21 in database CODAEL\n",
      "Done with slide 22 in database CODAEL\n"
     ]
    }
   ],
   "source": [
    "DB = Database().open(database)\n",
    "\n",
    "# first inner for loop to go through slides of DB\n",
    "for slideid,filename in listOfSlides(DB):\n",
    "    # load slide into memory and open w/openslide\n",
    "    DB.loadIntoMemory(slideid)\n",
    "\n",
    "    slide=openslide.open_slide(WSIpath+filename)\n",
    "\n",
    "    # second inner for loop to go through each annotation on the current slide\n",
    "    for k in DB.annotations.keys():\n",
    "\n",
    "        anno = DB.annotations[k]\n",
    "\n",
    "        # only need mitosis annotations (class = 2)\n",
    "        if anno.deleted or anno.annotationType != AnnotationType.SPOT or anno.agreedClass == 1:\n",
    "            continue\n",
    "\n",
    "        coord_x = anno.x1\n",
    "        coord_y = anno.y1\n",
    "        WSI_coord = [int(coord_x), int(coord_y)]\n",
    "\n",
    "        # define how close to edge of image annotation can be for random crops (don't want them cutoff by edge)\n",
    "        pad = 75 # this puts the edge of the 50 px bounding box at least 50 px from any edge of the image\n",
    "\n",
    "        # generate random distances for random left upper (lu) corner of 512x512 patch\n",
    "        # these become the coordinates (x, y) of the annotation relative to the 512x512 patch\n",
    "        x = random.randint(pad, int(patchSize - pad))\n",
    "        y = random.randint(pad, int(patchSize - pad))\n",
    "\n",
    "        # get bounding box coordinates relative to 512x512 patch\n",
    "        d = 2 * r / down_factor\n",
    "        x_min = (x - r) / down_factor\n",
    "        y_min = (y - r) / down_factor\n",
    "        x_max = x_min + d\n",
    "        y_max = y_min + d\n",
    "\n",
    "        # define left upper corner to generate image\n",
    "        lu_x = int(coord_x - x)\n",
    "        lu_y = int(coord_y - y)\n",
    "\n",
    "        # generate image\n",
    "        img = np.array(slide.read_region(location=(lu_x, lu_y), level=0, size=(patchSize, patchSize)))\n",
    "        img = cv2.cvtColor(img, cv2.COLOR_RGBA2BGR)\n",
    "\n",
    "        # write images to directory and update dictionaries\n",
    "        \n",
    "        # check if slideid in train or test set\n",
    "        istest = 'train/' if str(slideid) not in test_slides else 'test/'\n",
    "        # write image to directory\n",
    "        cv2.imwrite(basepath+'Data_CMC_%s_%s/' % (name, split) +istest+'Mitosis/%d.png' % k, img)\n",
    "    \n",
    "        # update dictionary values\n",
    "        dic = lbl_bbox_train if str(slideid) not in test_slides else lbl_bbox_test\n",
    "        \n",
    "        dic['slideid'].append(slideid)\n",
    "        dic['image_id'].append(str(k))\n",
    "        dic['WSI_coord'].append(WSI_coord)\n",
    "        dic['xmin'].append(int(x_min))\n",
    "        dic['ymin'].append(int(y_min))\n",
    "        dic['xmax'].append(int(x_max))\n",
    "        dic['ymax'].append(int(y_max))\n",
    "\n",
    "    print('Done with slide {} in database {}'.format(slideid, name))\n",
    "\n",
    "lbl_bbox_train['labels'] = np.ones(len(lbl_bbox_train['image_id']), dtype=int)\n",
    "lbl_bbox_test['labels'] = np.ones(len(lbl_bbox_test['image_id']), dtype=int)\n",
    "\n",
    "# format dataframes\n",
    "train_df = pd.DataFrame(lbl_bbox_train)\n",
    "train_df.sort_values(by=['image_id'], inplace=True)\n",
    "train_df.reset_index(inplace=True)\n",
    "train_df.drop(columns='index', inplace=True)\n",
    "\n",
    "test_df = pd.DataFrame(lbl_bbox_test)\n",
    "test_df.sort_values(by=['image_id'], inplace=True)\n",
    "test_df.reset_index(inplace=True)\n",
    "test_df.drop(columns='index', inplace=True)\n",
    "\n",
    "# export dfs as csvs\n",
    "train_df.to_csv(os.getcwd()+'/train_annotations.csv')\n",
    "test_df.to_csv(os.getcwd()+'/test_annotations.csv')"
   ]
  },
  {
   "cell_type": "markdown",
   "metadata": {},
   "source": [
    "## Generate WSI sections for deployment demonstration"
   ]
  },
  {
   "cell_type": "markdown",
   "metadata": {},
   "source": [
    "This will take the defined database and slide # and generate an image patch of a specified size from a specified section of the WSI. The point of this is to generate a large patch to pass through the ML pipeline."
   ]
  },
  {
   "cell_type": "markdown",
   "metadata": {},
   "source": [
    "List of slides function"
   ]
  },
  {
   "cell_type": "code",
   "execution_count": 3,
   "metadata": {},
   "outputs": [],
   "source": [
    "def listOfSlides(DB):\n",
    "    DB.execute('SELECT uid,filename from Slides')\n",
    "    return DB.fetchall()"
   ]
  },
  {
   "cell_type": "markdown",
   "metadata": {},
   "source": [
    "Define database, slideid, and paths"
   ]
  },
  {
   "cell_type": "code",
   "execution_count": 18,
   "metadata": {},
   "outputs": [],
   "source": [
    "database = 'CODAEL'\n",
    "my_slide = 21\n",
    "# path to database\n",
    "database = '../prework/databases/MITOS_WSI_CMC_CODAEL_TR_ROI.sqlite'\n",
    "# path to WSI folder (depends on your setup)\n",
    "WSIpath='../WSI/'\n",
    "# path to save image to\n",
    "savepath = '/Users/gsowell/Desktop/Research/Fourthbrain/Capstone/samsung-capstone/notebooks/img'"
   ]
  },
  {
   "cell_type": "markdown",
   "metadata": {},
   "source": [
    "Define upper left corner of image patch and patch size"
   ]
  },
  {
   "cell_type": "code",
   "execution_count": 20,
   "metadata": {},
   "outputs": [],
   "source": [
    "# x-coordinate of upper left corner\n",
    "lu_x = 84944\n",
    "# width of patch\n",
    "width = 7008\n",
    "# y-coordinate of upper left corner\n",
    "lu_y = 33792\n",
    "# height of patch\n",
    "height = 5248\n",
    "# leave at level 0\n",
    "level=0\n"
   ]
  },
  {
   "cell_type": "markdown",
   "metadata": {},
   "source": [
    "List of slides and associated filenames for reference"
   ]
  },
  {
   "cell_type": "code",
   "execution_count": 19,
   "metadata": {},
   "outputs": [
    {
     "name": "stdout",
     "output_type": "stream",
     "text": [
      "    slideid                  filename\n",
      "0         1  a8773be388e12df89edd.svs\n",
      "1         2  460906c0b1fe17ea5354.svs\n",
      "2         3  2d56d1902ca533a5b509.svs\n",
      "3         5  d0423ef9a648bb66a763.svs\n",
      "4         6  50cf88e9a33df0c0c8f9.svs\n",
      "5         7  da18e7b9846e9d38034c.svs\n",
      "6         8  d7a8af121d7d4f3fbf01.svs\n",
      "7         9  2191a7aa287ce1d5dbc0.svs\n",
      "8        10  69a02453620ade0edefd.svs\n",
      "9        11  c4b95da36e32993289cb.svs\n",
      "10       12  fa4959e484beec77543b.svs\n",
      "11       13  72c93e042d0171a61012.svs\n",
      "12       14  4eee7b944ad5e46c60ce.svs\n",
      "13       15  b1bdee8e5e3372174619.svs\n",
      "14       16  3d3d04eca056556b0b26.svs\n",
      "15       17  084383c18b9060880e82.svs\n",
      "16       18  e09512d530d933e436d5.svs\n",
      "17       19  d37ab62158945f22deed.svs\n",
      "18       20  deb768e5efb9d1dcbc13.svs\n",
      "19       21  022857018aa597374b6c.svs\n",
      "20       22  13528f1921d4f1f15511.svs\n"
     ]
    }
   ],
   "source": [
    "DB = Database().open(database)\n",
    "df = {'slideid':[], 'filename':[]}\n",
    "# first inner for loop to go through slides of DB\n",
    "for slideid,filename in listOfSlides(DB):\n",
    "    df['slideid'].append(slideid)\n",
    "    df['filename'].append(filename)\n",
    "df = pd.DataFrame(df)\n",
    "print(df)"
   ]
  },
  {
   "cell_type": "code",
   "execution_count": 26,
   "metadata": {},
   "outputs": [],
   "source": [
    "DB = Database().open(database)\n",
    "# first inner for loop to go through slides of DB\n",
    "for slideid,filename in listOfSlides(DB):\n",
    "    if slideid == my_slide:\n",
    "        # load slide into memory and open w/openslide\n",
    "        DB.loadIntoMemory(slideid)\n",
    "        \n",
    "        slide=openslide.open_slide(WSIpath+filename)\n",
    "\n",
    "        img = np.array(slide.read_region(location=(lu_x, lu_y), level=0, size=(width, height)))\n",
    "        img = cv2.cvtColor(img, cv2.COLOR_RGBA2BGR)\n",
    "\n",
    "        cv2.imwrite(os.path.join(savepath, 'test_slide_%d.png' % slideid), img)"
   ]
  },
  {
   "cell_type": "code",
   "execution_count": null,
   "metadata": {},
   "outputs": [],
   "source": []
  }
 ],
 "metadata": {
  "kernelspec": {
   "display_name": "Python 3.8.13 ('capstone')",
   "language": "python",
   "name": "python3"
  },
  "language_info": {
   "codemirror_mode": {
    "name": "ipython",
    "version": 3
   },
   "file_extension": ".py",
   "mimetype": "text/x-python",
   "name": "python",
   "nbconvert_exporter": "python",
   "pygments_lexer": "ipython3",
   "version": "3.8.13"
  },
  "orig_nbformat": 4,
  "vscode": {
   "interpreter": {
    "hash": "fbe1240c42c9fedbac8dda4922e480118c75c39e21d1189b5dde5cc4a0ce6e6d"
   }
  }
 },
 "nbformat": 4,
 "nbformat_minor": 2
}
