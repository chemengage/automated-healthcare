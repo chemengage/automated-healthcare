{
 "cells": [
  {
   "cell_type": "markdown",
   "metadata": {},
   "source": [
    "## Database statistics for SCI Data publication - Will give the contents of Table 1"
   ]
  },
  {
   "cell_type": "code",
   "execution_count": 2,
   "metadata": {},
   "outputs": [],
   "source": [
    "from SlideRunner.dataAccess.database import Database\n",
    "import SlideRunner.dataAccess.database\n",
    "import os\n",
    "import numpy as np\n",
    "import openslide\n",
    "import cv2"
   ]
  },
  {
   "cell_type": "code",
   "execution_count": 3,
   "metadata": {},
   "outputs": [
    {
     "name": "stdout",
     "output_type": "stream",
     "text": [
      "Requirement already satisfied: openslide-python in /Users/artemiorimando/opt/anaconda3/envs/samsung-capstone/lib/python3.10/site-packages (1.2.0)\n",
      "Requirement already satisfied: Pillow in /Users/artemiorimando/opt/anaconda3/envs/samsung-capstone/lib/python3.10/site-packages (from openslide-python) (9.2.0)\n"
     ]
    }
   ],
   "source": [
    "!pip install openslide-python"
   ]
  },
  {
   "cell_type": "code",
   "execution_count": 4,
   "metadata": {},
   "outputs": [],
   "source": [
    "import openslide"
   ]
  },
  {
   "cell_type": "code",
   "execution_count": 5,
   "metadata": {},
   "outputs": [],
   "source": [
    "\n",
    "test_slides = ['14','18','3','22','10','15','21']\n",
    "\n"
   ]
  },
  {
   "cell_type": "markdown",
   "metadata": {},
   "source": [
    "## Query all databases for the respective classes. Joint query to have all in the same order."
   ]
  },
  {
   "cell_type": "code",
   "execution_count": 31,
   "metadata": {},
   "outputs": [],
   "source": [
    "DB = Database().open('MITOS_WSI_CMC_ODAEL_TR.sqlite')\n",
    "DB.execute('ATTACH `MITOS_WSI_CMC_MEL.sqlite` as MEL;')\n",
    "DB.execute('ATTACH `MITOS_WSI_CMC_CODAEL_TR_ROI.sqlite` as CODAEL;')\n",
    "\n",
    "ODAEL = DB.execute(\"\"\"\n",
    "SELECT * FROM (\n",
    "SELECT filename, MitoticFigures, MitoticFigureLookalikes FROM \n",
    "(SELECT COUNT(*) as MitoticFigureLookalikes, slide from Annotations where agreedClass==1 group by slide) as cls1\n",
    "LEFT JOIN (SELECT COUNT(*) as MitoticFigures, slide from Annotations where agreedClass==2 group by slide) as cls2 on cls2.slide == cls1.slide\n",
    "LEFT JOIN Slides on Slides.uid == cls2.slide order by mitoticFigures) as ODAEL\n",
    "LEFT JOIN \n",
    "(\n",
    "SELECT filename, MitoticFigures, MitoticFigureLookalikes FROM (\n",
    "SELECT COUNT(*) as MitoticFigures, slide from MEL.Annotations where agreedClass==2 group by slide) as cls2\n",
    "LEFT JOIN (SELECT COUNT(*) as MitoticFigureLookalikes, slide from MEL.Annotations where agreedClass==1 group by slide) as cls1 on cls1.slide == cls2.slide\n",
    "LEFT JOIN MEL.Slides on Slides.uid == cls2.slide order by mitoticFigures\n",
    ") as MEL on MEL.filename == ODAEL.filename\n",
    "LEFT JOIN \n",
    "(\n",
    "SELECT filename, MitoticFigures, MitoticFigureLookalikes FROM \n",
    "(SELECT COUNT(*) as MitoticFigureLookalikes, slide from CODAEL.Annotations where agreedClass==1 group by slide) as cls1\n",
    "LEFT JOIN (SELECT COUNT(*) as MitoticFigures, slide from CODAEL.Annotations where agreedClass==2 group by slide) as cls2 on cls2.slide == cls1.slide\n",
    "LEFT JOIN MEL.Slides on Slides.uid == cls2.slide order by mitoticFigures\n",
    ") as CODAEL on CODAEL.filename == ODAEL.filename order by CODAEL.mitoticFigures\n",
    "\n",
    "\n",
    "\"\"\").fetchall()"
   ]
  },
  {
   "cell_type": "code",
   "execution_count": 32,
   "metadata": {},
   "outputs": [
    {
     "data": {
      "text/plain": [
       "<SlideRunner.dataAccess.database.Database at 0x7fd2e1b4a230>"
      ]
     },
     "execution_count": 32,
     "metadata": {},
     "output_type": "execute_result"
    }
   ],
   "source": [
    "DB"
   ]
  },
  {
   "cell_type": "markdown",
   "metadata": {},
   "source": [
    "Output everything in LateX table format"
   ]
  },
  {
   "cell_type": "code",
   "execution_count": 7,
   "metadata": {},
   "outputs": [
    {
     "data": {
      "text/plain": [
       "[]"
      ]
     },
     "execution_count": 7,
     "metadata": {},
     "output_type": "execute_result"
    }
   ],
   "source": [
    "DB.execute(\"\"\"SELECT COUNT(*) as MitoticFigureLookalikes, slide from Annotations where agreedClass==7 group by slide\"\"\").fetchall()"
   ]
  },
  {
   "cell_type": "code",
   "execution_count": 8,
   "metadata": {},
   "outputs": [],
   "source": [
    "ODAEL_testdb = DB.execute(\"\"\"\n",
    "SELECT uid, slide, type, agreedClass, guid, deleted, lastModified, description, clickable \n",
    "FROM Annotations \n",
    "WHERE description != 'None' or description != ''\n",
    "limit 10\"\"\")"
   ]
  },
  {
   "cell_type": "code",
   "execution_count": 9,
   "metadata": {},
   "outputs": [],
   "source": [
    "ODAEL_test = ODAEL_testdb.fetchall()"
   ]
  },
  {
   "cell_type": "code",
   "execution_count": 10,
   "metadata": {
    "tags": []
   },
   "outputs": [
    {
     "data": {
      "text/plain": [
       "[(396841,\n",
       "  3,\n",
       "  3,\n",
       "  1,\n",
       "  '36045730-3f49-4eea-9748-0ac726507562',\n",
       "  1,\n",
       "  1584700651.69615,\n",
       "  '',\n",
       "  1),\n",
       " (396842,\n",
       "  3,\n",
       "  1,\n",
       "  1,\n",
       "  '4d2214f1-3e43-4da3-8f1b-cc7e2762bf08',\n",
       "  0,\n",
       "  1582231497.3149185,\n",
       "  '',\n",
       "  1),\n",
       " (396843,\n",
       "  3,\n",
       "  3,\n",
       "  4,\n",
       "  'dc233208-0d8e-4d1e-870e-86a2090213ba',\n",
       "  0,\n",
       "  1584700651.705208,\n",
       "  '',\n",
       "  1),\n",
       " (396844,\n",
       "  3,\n",
       "  3,\n",
       "  4,\n",
       "  '433a93c8-5a15-4457-9145-fad6a514e138',\n",
       "  0,\n",
       "  1584700651.71594,\n",
       "  '',\n",
       "  1),\n",
       " (396845,\n",
       "  16,\n",
       "  3,\n",
       "  4,\n",
       "  'bac198d3-e1b0-418b-95fa-174fef7b3aa0',\n",
       "  0,\n",
       "  1584700651.727448,\n",
       "  '',\n",
       "  1),\n",
       " (396846,\n",
       "  14,\n",
       "  3,\n",
       "  4,\n",
       "  '6a5db788-a0d5-4990-bf99-231d74b296fb',\n",
       "  0,\n",
       "  1584700651.741875,\n",
       "  '',\n",
       "  1),\n",
       " (396847,\n",
       "  6,\n",
       "  3,\n",
       "  4,\n",
       "  '26b017ed-bd88-41ec-a0ea-58e85770f8ce',\n",
       "  0,\n",
       "  1584700651.750419,\n",
       "  '',\n",
       "  1),\n",
       " (396848,\n",
       "  10,\n",
       "  3,\n",
       "  4,\n",
       "  '93188057-0de3-49cf-bc3a-3116d5d731d8',\n",
       "  0,\n",
       "  1584700651.76579,\n",
       "  '',\n",
       "  1),\n",
       " (396849,\n",
       "  10,\n",
       "  3,\n",
       "  4,\n",
       "  'a4a9769a-aa3a-448d-9054-72f79253e591',\n",
       "  0,\n",
       "  1584700651.7765608,\n",
       "  '',\n",
       "  1),\n",
       " (396850,\n",
       "  10,\n",
       "  3,\n",
       "  4,\n",
       "  '99e44524-5d3d-4c31-b19a-85d74bc62094',\n",
       "  0,\n",
       "  1584700651.7858438,\n",
       "  '',\n",
       "  1)]"
      ]
     },
     "execution_count": 10,
     "metadata": {},
     "output_type": "execute_result"
    }
   ],
   "source": [
    "ODAEL_test"
   ]
  },
  {
   "cell_type": "code",
   "execution_count": 11,
   "metadata": {},
   "outputs": [
    {
     "data": {
      "text/plain": [
       "(('uid', None, None, None, None, None, None),\n",
       " ('slide', None, None, None, None, None, None),\n",
       " ('type', None, None, None, None, None, None),\n",
       " ('agreedClass', None, None, None, None, None, None),\n",
       " ('guid', None, None, None, None, None, None),\n",
       " ('deleted', None, None, None, None, None, None),\n",
       " ('lastModified', None, None, None, None, None, None),\n",
       " ('description', None, None, None, None, None, None),\n",
       " ('clickable', None, None, None, None, None, None))"
      ]
     },
     "execution_count": 11,
     "metadata": {},
     "output_type": "execute_result"
    }
   ],
   "source": [
    "ODAEL_testdb.description"
   ]
  },
  {
   "cell_type": "code",
   "execution_count": 12,
   "metadata": {},
   "outputs": [
    {
     "data": {
      "text/plain": [
       "('4eee7b944ad5e46c60ce.svs',\n",
       " 61,\n",
       " 196,\n",
       " '4eee7b944ad5e46c60ce.svs',\n",
       " 47,\n",
       " 114,\n",
       " '4eee7b944ad5e46c60ce.svs',\n",
       " 64,\n",
       " 193)"
      ]
     },
     "execution_count": 12,
     "metadata": {},
     "output_type": "execute_result"
    }
   ],
   "source": [
    "ODAEL[0]"
   ]
  },
  {
   "cell_type": "code",
   "execution_count": 26,
   "metadata": {},
   "outputs": [],
   "source": [
    "agreedClass_check = DB.execute(\"\"\"\n",
    "SELECT DISTINCT agreedClass\n",
    "FROM CODAEL.Annotations\"\"\")"
   ]
  },
  {
   "cell_type": "code",
   "execution_count": 30,
   "metadata": {},
   "outputs": [
    {
     "data": {
      "text/plain": [
       "[(1,), (2,), (4,), (5,), (6,)]"
      ]
     },
     "execution_count": 30,
     "metadata": {},
     "output_type": "execute_result"
    }
   ],
   "source": [
    "agreedClass_check.fetchall()"
   ]
  },
  {
   "cell_type": "code",
   "execution_count": null,
   "metadata": {},
   "outputs": [],
   "source": [
    "CODAEL_slides = "
   ]
  },
  {
   "cell_type": "code",
   "execution_count": 21,
   "metadata": {},
   "outputs": [],
   "source": [
    "CODAEL_slides = DB.execute(\"\"\"\n",
    "SELECT *\n",
    "FROM CODAEL.Slides\n",
    "limit 10\"\"\")"
   ]
  },
  {
   "cell_type": "code",
   "execution_count": 22,
   "metadata": {},
   "outputs": [
    {
     "data": {
      "text/plain": [
       "(('uid', None, None, None, None, None, None),\n",
       " ('filename', None, None, None, None, None, None),\n",
       " ('width', None, None, None, None, None, None),\n",
       " ('height', None, None, None, None, None, None),\n",
       " ('directory', None, None, None, None, None, None),\n",
       " ('EXACTUSER', None, None, None, None, None, None),\n",
       " ('uuid', None, None, None, None, None, None),\n",
       " ('exactImageID', None, None, None, None, None, None))"
      ]
     },
     "execution_count": 22,
     "metadata": {},
     "output_type": "execute_result"
    }
   ],
   "source": [
    "CODAEL_slides.description"
   ]
  },
  {
   "cell_type": "code",
   "execution_count": 23,
   "metadata": {},
   "outputs": [
    {
     "data": {
      "text/plain": [
       "[(1,\n",
       "  'a8773be388e12df89edd.svs',\n",
       "  61199,\n",
       "  57462,\n",
       "  '/localhome/aubrevillelocal/Mitosis/PublishDataset/github_CMC/WSIreal',\n",
       "  0,\n",
       "  None,\n",
       "  None),\n",
       " (2,\n",
       "  '460906c0b1fe17ea5354.svs',\n",
       "  136800,\n",
       "  63831,\n",
       "  'C:/Users/digpath/Slides mamma/CMC_WSI_Aktuell mit verschlsselten Namen',\n",
       "  0,\n",
       "  None,\n",
       "  None),\n",
       " (3,\n",
       "  '2d56d1902ca533a5b509.svs',\n",
       "  70199,\n",
       "  65453,\n",
       "  '/Users/artemiorimando/PycharmProjects/samsung-capstone/WSI',\n",
       "  0,\n",
       "  None,\n",
       "  None),\n",
       " (5,\n",
       "  'd0423ef9a648bb66a763.svs',\n",
       "  116999,\n",
       "  85208,\n",
       "  '/localhome/aubrevillelocal/Mitosis/PublishDataset/github_CMC/WSIreal',\n",
       "  0,\n",
       "  None,\n",
       "  None),\n",
       " (6, '50cf88e9a33df0c0c8f9.svs', 125999, 87273, '', 0, None, None),\n",
       " (7,\n",
       "  'da18e7b9846e9d38034c.svs',\n",
       "  95399,\n",
       "  84305,\n",
       "  '/Users/marcaubreville/Mitosis/WSI',\n",
       "  0,\n",
       "  None,\n",
       "  None),\n",
       " (8,\n",
       "  'd7a8af121d7d4f3fbf01.svs',\n",
       "  111599,\n",
       "  88592,\n",
       "  '/localhome/aubrevillelocal/Mitosis/PublishDataset/github_CMC/WSIreal',\n",
       "  0,\n",
       "  None,\n",
       "  None),\n",
       " (9,\n",
       "  '2191a7aa287ce1d5dbc0.svs',\n",
       "  98999,\n",
       "  82534,\n",
       "  '/Users/marcaubreville/Mitosis/WSI',\n",
       "  0,\n",
       "  None,\n",
       "  None),\n",
       " (10,\n",
       "  '69a02453620ade0edefd.svs',\n",
       "  97199,\n",
       "  90076,\n",
       "  '/localhome/aubrevillelocal/Mitosis/PublishDataset/github_CMC/WSIreal',\n",
       "  0,\n",
       "  None,\n",
       "  None),\n",
       " (11,\n",
       "  'c4b95da36e32993289cb.svs',\n",
       "  124199,\n",
       "  84710,\n",
       "  'C:/Users/digpath/Slides mamma/CMC_WSI_Aktuell mit verschlsselten Namen',\n",
       "  0,\n",
       "  None,\n",
       "  None)]"
      ]
     },
     "execution_count": 23,
     "metadata": {},
     "output_type": "execute_result"
    }
   ],
   "source": [
    "CODAEL_slides.fetchall()"
   ]
  },
  {
   "cell_type": "code",
   "execution_count": 14,
   "metadata": {
    "tags": []
   },
   "outputs": [
    {
     "name": "stdout",
     "output_type": "stream",
     "text": [
      "1 & 4eee7b944ad5e46c60ce.svs & 66.06\\,$\\mathrm{mm2}^2$ & 47 / 61 / 64 & 114 / 196 / 193 & test \\\\ \n",
      "2 & a8773be388e12df89edd.svs & 37.01\\,$\\mathrm{mm2}^2$ & 64 / 71 / 74 & 204 / 591 / 588 & train \\\\ \n",
      "3 & deb768e5efb9d1dcbc13.svs & 187.43\\,$\\mathrm{mm2}^2$ & 92 / 96 / 84 & 287 / 472 / 484 & train \\\\ \n",
      "4 & e09512d530d933e436d5.svs & 214.97\\,$\\mathrm{mm2}^2$ & 87 / 98 / 102 & 602 / 742 / 738 & test \\\\ \n",
      "5 & 72c93e042d0171a61012.svs & 26.29\\,$\\mathrm{mm2}^2$ & 130 / 151 / 140 & 375 / 680 / 691 & train \\\\ \n",
      "6 & 2d56d1902ca533a5b509.svs & 49.32\\,$\\mathrm{mm2}^2$ & 139 / 155 / 153 & 228 / 365 / 367 & test \\\\ \n",
      "7 & 084383c18b9060880e82.svs & 41.71\\,$\\mathrm{mm2}^2$ & 157 / 173 / 160 & 404 / 547 / 560 & train \\\\ \n",
      "8 & da18e7b9846e9d38034c.svs & 253.10\\,$\\mathrm{mm2}^2$ & 187 / 210 / 211 & 991 / 1,354 / 1,353 & train \\\\ \n",
      "9 & 13528f1921d4f1f15511.svs & 339.93\\,$\\mathrm{mm2}^2$ & 283 / 301 / 292 & 963 / 1,127 / 1,136 & test \\\\ \n",
      "10 & d0423ef9a648bb66a763.svs & 273.88\\,$\\mathrm{mm2}^2$ & 378 / 411 / 354 & 1,143 / 1,596 / 1,653 & train \\\\ \n",
      "11 & 69a02453620ade0edefd.svs & 45.35\\,$\\mathrm{mm2}^2$ & 634 / 642 / 612 & 1,407 / 1,505 / 1,535 & test \\\\ \n",
      "12 & d37ab62158945f22deed.svs & 226.39\\,$\\mathrm{mm2}^2$ & 578 / 651 / 674 & 1,105 / 1,725 / 1,702 & train \\\\ \n",
      "13 & d7a8af121d7d4f3fbf01.svs & 426.92\\,$\\mathrm{mm2}^2$ & 716 / 746 / 720 & 1,832 / 2,373 / 2,399 & train \\\\ \n",
      "14 & 460906c0b1fe17ea5354.svs & 112.24\\,$\\mathrm{mm2}^2$ & 673 / 742 / 754 & 1,199 / 2,480 / 2,468 & train \\\\ \n",
      "15 & b1bdee8e5e3372174619.svs & 231.84\\,$\\mathrm{mm2}^2$ & 812 / 861 / 869 & 1,260 / 1,832 / 1,824 & test \\\\ \n",
      "16 & c4b95da36e32993289cb.svs & 257.01\\,$\\mathrm{mm2}^2$ & 1,097 / 1,114 / 1,085 & 2,454 / 2,944 / 2,973 & train \\\\ \n",
      "17 & 022857018aa597374b6c.svs & 325.81\\,$\\mathrm{mm2}^2$ & 1,290 / 1,344 / 1,320 & 2,463 / 3,106 / 3,130 & test \\\\ \n",
      "18 & 50cf88e9a33df0c0c8f9.svs & 269.25\\,$\\mathrm{mm2}^2$ & 1,197 / 1,339 / 1,337 & 1,632 / 2,550 / 2,552 & train \\\\ \n",
      "19 & 3d3d04eca056556b0b26.svs & 513.28\\,$\\mathrm{mm2}^2$ & 1,383 / 1,465 / 1,447 & 2,110 / 2,933 / 2,951 & train \\\\ \n",
      "20 & 2191a7aa287ce1d5dbc0.svs & 96.38\\,$\\mathrm{mm2}^2$ & 1,449 / 1,485 / 1,462 & 2,155 / 2,609 / 2,632 & train \\\\ \n",
      "21 & fa4959e484beec77543b.svs & 365.91\\,$\\mathrm{mm2}^2$ & 1,949 / 2,035 / 1,993 & 3,598 / 4,408 / 4,450 & train \\\\ \n"
     ]
    }
   ],
   "source": [
    "\n",
    "\n",
    "dbTumor = Database()\n",
    "\n",
    "dbTumor.open('./MITOS_WSI_CMC_CODAEL_TR_ROI.sqlite')\n",
    "totalarea = 0\n",
    "totalmit = 0\n",
    "totalnonmit = 0\n",
    "totalmit_mel, totalnonmit_mel = 0,0\n",
    "totalmit_odael, totalnonmit_odael = 0,0\n",
    "for idx, (filename, mitA, nonmitA, _, mit,nonmit, _,  mitC,nonmitC) in enumerate(ODAEL):\n",
    "\n",
    "    dbTSlide = dbTumor.findSlideWithFilename(os.path.basename(filename), slidepath='')\n",
    "    dbTumor.loadIntoMemory(dbTSlide)\n",
    "    \n",
    "    slide = openslide.open_slide('../WSI/'+filename)\n",
    "\n",
    "\n",
    "    positiveId = dbTumor.findClassidOfClass('Tumor region')[0][0]\n",
    "    import matplotlib.path as p\n",
    "\n",
    "    micronsPerPixel = slide.properties[openslide.PROPERTY_NAME_MPP_X]\n",
    "    mpp_scaled = float(slide.level_downsamples[-1]) * float(micronsPerPixel)  \n",
    "\n",
    "    slideActiveMap = np.zeros((slide.level_dimensions[-1][::-1]))\n",
    "    ds = slide.level_downsamples[-1]\n",
    "    for anno in dbTumor.annotations.keys():\n",
    "        if (dbTumor.annotations[anno].agreedLabel()==positiveId) and (type(dbTumor.annotations[anno]) == type(dbTumor.annotations[anno]) == SlideRunner.dataAccess.annotations.polygonAnnotation):\n",
    "            co = dbTumor.annotations[anno].coordinates\n",
    "            p3 = np.int32([np.asarray(co)/ds])\n",
    "            cv2.fillPoly(slideActiveMap, p3,color=[255] )\n",
    "\n",
    "    for anno in dbTumor.annotations.keys():\n",
    "        if not (dbTumor.annotations[anno].agreedLabel()==positiveId) and (type(dbTumor.annotations[anno]) == type(dbTumor.annotations[anno]) == SlideRunner.dataAccess.annotations.polygonAnnotation):\n",
    "            co = dbTumor.annotations[anno].coordinates\n",
    "            p3 = np.int32([np.asarray(co)/ds])\n",
    "            cv2.fillPoly(slideActiveMap, p3,color=[0] )\n",
    "    mm2 = np.sum(slideActiveMap>0)*mpp_scaled*mpp_scaled/1E6\n",
    "    totalarea += mm2\n",
    "    totalmit += mitC\n",
    "    totalnonmit += nonmitC\n",
    "    \n",
    "    totalmit_mel, totalnonmit_mel = totalmit_mel+mit, totalnonmit_mel+nonmit\n",
    "    totalmit_odael, totalnonmit_odael = totalmit_odael+mitA, totalnonmit_odael+nonmitA\n",
    "    \n",
    "    fname = filename.replace('_','\\\\_')\n",
    "    print(f\"{idx+1} & {fname} & {mm2:.2f}\\,$\\\\mathrm\"+\"{mm2}\"+f\"^2$ & {mit:,d} / {mitA:,d} / {mitC:,d} & {nonmit:,d} / {nonmitA:,d} / {nonmitC:,d} & {'test' if str(dbTSlide) in test_slides else 'train'} \\\\\\\\ \")\n",
    "    "
   ]
  },
  {
   "cell_type": "code",
   "execution_count": 15,
   "metadata": {},
   "outputs": [
    {
     "data": {
      "text/plain": [
       "(26526, 36135, 36379)"
      ]
     },
     "execution_count": 15,
     "metadata": {},
     "output_type": "execute_result"
    }
   ],
   "source": [
    "totalnonmit_mel, totalnonmit_odael, totalnonmit"
   ]
  },
  {
   "cell_type": "code",
   "execution_count": 16,
   "metadata": {},
   "outputs": [
    {
     "data": {
      "text/plain": [
       "(13342, 14151, 13907)"
      ]
     },
     "execution_count": 16,
     "metadata": {},
     "output_type": "execute_result"
    }
   ],
   "source": [
    "totalmit_mel, totalmit_odael, totalmit\n"
   ]
  },
  {
   "cell_type": "markdown",
   "metadata": {},
   "source": [
    "## And finally the question: What is the total area?"
   ]
  },
  {
   "cell_type": "code",
   "execution_count": 17,
   "metadata": {},
   "outputs": [
    {
     "name": "stdout",
     "output_type": "stream",
     "text": [
      "Total area:  4360.07788915561 mm^2\n",
      "mitotic figures in CODAEL data set 13907\n",
      "nonmitotic figures in CODAEL data set 36379\n"
     ]
    }
   ],
   "source": [
    "print('Total area: ',totalarea,'mm^2')\n",
    "print('mitotic figures in CODAEL data set',totalmit)\n",
    "print('nonmitotic figures in CODAEL data set',totalnonmit)\n"
   ]
  },
  {
   "cell_type": "code",
   "execution_count": null,
   "metadata": {},
   "outputs": [],
   "source": []
  }
 ],
 "metadata": {
  "kernelspec": {
   "display_name": "Python 3 (ipykernel)",
   "language": "python",
   "name": "python3"
  },
  "language_info": {
   "codemirror_mode": {
    "name": "ipython",
    "version": 3
   },
   "file_extension": ".py",
   "mimetype": "text/x-python",
   "name": "python",
   "nbconvert_exporter": "python",
   "pygments_lexer": "ipython3",
   "version": "3.10.4"
  }
 },
 "nbformat": 4,
 "nbformat_minor": 4
}
