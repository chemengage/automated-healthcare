{
 "cells": [
  {
   "cell_type": "code",
   "execution_count": 1,
   "metadata": {},
   "outputs": [
    {
     "name": "stdout",
     "output_type": "stream",
     "text": [
      "Warning: nibabel not installed. Neuroimaging formats will not be available.\n"
     ]
    }
   ],
   "source": [
    "from SlideRunner.dataAccess.database import Database\n",
    "import SlideRunner.dataAccess.database\n",
    "from SlideRunner.dataAccess.annotations import *"
   ]
  },
  {
   "cell_type": "markdown",
   "metadata": {},
   "source": [
    "## Database"
   ]
  },
  {
   "cell_type": "code",
   "execution_count": 6,
   "metadata": {},
   "outputs": [],
   "source": [
    "DB = Database().open('../../databases/MITOS_WSI_CMC_MEL.sqlite')"
   ]
  },
  {
   "cell_type": "code",
   "execution_count": 7,
   "metadata": {},
   "outputs": [
    {
     "data": {
      "text/plain": [
       "<SlideRunner.dataAccess.database.Database at 0x7f9b048d0370>"
      ]
     },
     "execution_count": 7,
     "metadata": {},
     "output_type": "execute_result"
    }
   ],
   "source": [
    "DB"
   ]
  },
  {
   "cell_type": "code",
   "execution_count": 82,
   "metadata": {},
   "outputs": [],
   "source": [
    "slideid = DB.findSlideWithFilename('a8773be388e12df89edd.svs','')\n",
    "DB.loadIntoMemory(slideid)"
   ]
  },
  {
   "cell_type": "code",
   "execution_count": 83,
   "metadata": {},
   "outputs": [
    {
     "name": "stdout",
     "output_type": "stream",
     "text": [
      "Negative examples: 204, Postive examples: 64\n"
     ]
    }
   ],
   "source": [
    "neg = pos = 0\n",
    "for id, annotation in DB.annotations.items():\n",
    "    if annotation.agreedClass == 1:\n",
    "        neg+=1\n",
    "    else:\n",
    "        pos+=1\n",
    "\n",
    "print('Negative examples: {}, Postive examples: {}'.format(neg, pos))"
   ]
  },
  {
   "cell_type": "markdown",
   "metadata": {},
   "source": [
    "## Get slides function"
   ]
  },
  {
   "cell_type": "code",
   "execution_count": 21,
   "metadata": {},
   "outputs": [],
   "source": [
    "import sqlite3\n",
    "import numpy as np\n",
    "from SlideRunner.dataAccess.database import Database\n",
    "from tqdm import tqdm\n",
    "from pathlib import Path\n",
    "import openslide\n",
    "import time\n",
    "from random import randint\n",
    "from data_loader import *\n",
    "from lib.sampling import get_slides\n",
    "size=512\n",
    "path = Path('../../')\n",
    "\n",
    "database = Database()\n",
    "database.open(str(path/'./databases/MITOS_WSI_CMC_MEL.sqlite'))\n",
    "\n",
    "slidelist_test_1 = ['14','18','3','22','10','15','21']\n",
    "slidelist_test_2 = ['1','20','17','5','2','11','16']\n",
    "slidelist_test_3 = ['13','7','19','8','6','9', '12']\n",
    "slidelist_test = slidelist_test_1"
   ]
  },
  {
   "cell_type": "code",
   "execution_count": 76,
   "metadata": {},
   "outputs": [
    {
     "data": {
      "text/plain": [
       "[(1, 'a8773be388e12df89edd.svs'),\n",
       " (2, '460906c0b1fe17ea5354.svs'),\n",
       " (3, '2d56d1902ca533a5b509.svs'),\n",
       " (5, 'd0423ef9a648bb66a763.svs'),\n",
       " (6, '50cf88e9a33df0c0c8f9.svs'),\n",
       " (7, 'da18e7b9846e9d38034c.svs'),\n",
       " (8, 'd7a8af121d7d4f3fbf01.svs'),\n",
       " (9, '2191a7aa287ce1d5dbc0.svs'),\n",
       " (10, '69a02453620ade0edefd.svs'),\n",
       " (11, 'c4b95da36e32993289cb.svs'),\n",
       " (12, 'fa4959e484beec77543b.svs'),\n",
       " (13, '72c93e042d0171a61012.svs'),\n",
       " (14, '4eee7b944ad5e46c60ce.svs'),\n",
       " (15, 'b1bdee8e5e3372174619.svs'),\n",
       " (16, '3d3d04eca056556b0b26.svs'),\n",
       " (17, '084383c18b9060880e82.svs'),\n",
       " (18, 'e09512d530d933e436d5.svs'),\n",
       " (19, 'd37ab62158945f22deed.svs'),\n",
       " (20, 'deb768e5efb9d1dcbc13.svs'),\n",
       " (21, '022857018aa597374b6c.svs'),\n",
       " (22, '13528f1921d4f1f15511.svs')]"
      ]
     },
     "execution_count": 76,
     "metadata": {},
     "output_type": "execute_result"
    }
   ],
   "source": [
    "getslides = \"\"\"SELECT uid, filename FROM Slides\"\"\"\n",
    "slides = database.execute(getslides).fetchall()\n",
    "slides"
   ]
  },
  {
   "cell_type": "code",
   "execution_count": 27,
   "metadata": {},
   "outputs": [
    {
     "name": "stderr",
     "output_type": "stream",
     "text": [
      "Loading slides .. : 100%|██████████| 21/21 [00:05<00:00,  4.05it/s]\n"
     ]
    }
   ],
   "source": [
    "lbl_bbox, train_slides,val_slides,files = get_slides(slidelist_test=slidelist_test, negative_class=1,  size=size,database=database,basepath='../../WSI')"
   ]
  },
  {
   "cell_type": "code",
   "execution_count": 143,
   "metadata": {},
   "outputs": [
    {
     "name": "stderr",
     "output_type": "stream",
     "text": [
      "/var/folders/fd/3f4b2gk91z969k3rd6xx5bjr0000gn/T/ipykernel_15286/208111965.py:1: VisibleDeprecationWarning: Creating an ndarray from ragged nested sequences (which is a list-or-tuple of lists-or-tuples-or ndarrays with different lengths or shapes) is deprecated. If you meant to do this, you must specify 'dtype=object' when creating the ndarray.\n",
      "  img2bbox = dict(zip(files, np.array(lbl_bbox)))\n"
     ]
    }
   ],
   "source": [
    "img2bbox = dict(zip(files, np.array(lbl_bbox)))\n",
    "get_y_func = lambda o:img2bbox[o]"
   ]
  },
  {
   "cell_type": "code",
   "execution_count": 166,
   "metadata": {},
   "outputs": [
    {
     "data": {
      "text/plain": [
       "dict_keys([<data_loader.SlideContainer object at 0x7f9af202c070>, <data_loader.SlideContainer object at 0x7f9af202c0a0>, <data_loader.SlideContainer object at 0x7f9af1ffccd0>, <data_loader.SlideContainer object at 0x7f9af1f94dc0>, <data_loader.SlideContainer object at 0x7f9af252b2b0>, <data_loader.SlideContainer object at 0x7f9aebdaba60>, <data_loader.SlideContainer object at 0x7f9af24471c0>, <data_loader.SlideContainer object at 0x7f9af26d6e20>, <data_loader.SlideContainer object at 0x7f9af26618e0>, <data_loader.SlideContainer object at 0x7f9af202c3d0>, <data_loader.SlideContainer object at 0x7f9af34fe130>, <data_loader.SlideContainer object at 0x7f9af24dcfd0>, <data_loader.SlideContainer object at 0x7f9af3617af0>, <data_loader.SlideContainer object at 0x7f9af252b310>, <data_loader.SlideContainer object at 0x7f9af34c9610>, <data_loader.SlideContainer object at 0x7f9af35fef40>, <data_loader.SlideContainer object at 0x7f9af4928d60>, <data_loader.SlideContainer object at 0x7f9af4117fd0>, <data_loader.SlideContainer object at 0x7f9af4a5c310>, <data_loader.SlideContainer object at 0x7f9af4b36fd0>, <data_loader.SlideContainer object at 0x7f9af201e400>, <data_loader.SlideContainer object at 0x7f9af3e9dfd0>, <data_loader.SlideContainer object at 0x7f9af5a13b80>, <data_loader.SlideContainer object at 0x7f9b049b2100>, <data_loader.SlideContainer object at 0x7f9af3494040>, <data_loader.SlideContainer object at 0x7f9af1f38fd0>, <data_loader.SlideContainer object at 0x7f9af35458b0>, <data_loader.SlideContainer object at 0x7f9af5cd4f70>])"
      ]
     },
     "execution_count": 166,
     "metadata": {},
     "output_type": "execute_result"
    }
   ],
   "source": [
    "img2bbox.keys()"
   ]
  },
  {
   "cell_type": "code",
   "execution_count": 115,
   "metadata": {},
   "outputs": [
    {
     "name": "stdout",
     "output_type": "stream",
     "text": [
      "<class 'list'>\n",
      "28\n"
     ]
    }
   ],
   "source": [
    "print(type(lbl_bbox))\n",
    "print(len(lbl_bbox))"
   ]
  },
  {
   "cell_type": "code",
   "execution_count": 72,
   "metadata": {},
   "outputs": [
    {
     "name": "stdout",
     "output_type": "stream",
     "text": [
      "[0, 2, 4, 6, 8, 10, 12, 14, 16, 18, 20, 22, 24, 26]\n",
      "[1, 3, 5, 7, 9, 11, 13, 15, 17, 19, 21, 23, 25, 27]\n"
     ]
    }
   ],
   "source": [
    "print(train_slides)\n",
    "print(val_slides)"
   ]
  },
  {
   "cell_type": "code",
   "execution_count": 97,
   "metadata": {},
   "outputs": [
    {
     "data": {
      "text/plain": [
       "data_loader.SlideContainer"
      ]
     },
     "execution_count": 97,
     "metadata": {},
     "output_type": "execute_result"
    }
   ],
   "source": [
    "type(files[0])"
   ]
  },
  {
   "cell_type": "code",
   "execution_count": 94,
   "metadata": {},
   "outputs": [
    {
     "data": {
      "text/plain": [
       "['__class__',\n",
       " '__delattr__',\n",
       " '__dict__',\n",
       " '__dir__',\n",
       " '__doc__',\n",
       " '__eq__',\n",
       " '__format__',\n",
       " '__ge__',\n",
       " '__getattribute__',\n",
       " '__gt__',\n",
       " '__hash__',\n",
       " '__init__',\n",
       " '__init_subclass__',\n",
       " '__le__',\n",
       " '__lt__',\n",
       " '__module__',\n",
       " '__ne__',\n",
       " '__new__',\n",
       " '__reduce__',\n",
       " '__reduce_ex__',\n",
       " '__repr__',\n",
       " '__setattr__',\n",
       " '__sizeof__',\n",
       " '__str__',\n",
       " '__subclasshook__',\n",
       " '__weakref__',\n",
       " 'annotations',\n",
       " 'classes',\n",
       " 'down_factor',\n",
       " 'file',\n",
       " 'get_new_train_coordinates',\n",
       " 'get_patch',\n",
       " 'height',\n",
       " 'level',\n",
       " 'sample_func',\n",
       " 'shape',\n",
       " 'slide',\n",
       " 'width',\n",
       " 'y']"
      ]
     },
     "execution_count": 94,
     "metadata": {},
     "output_type": "execute_result"
    }
   ],
   "source": [
    "dir(files[0])"
   ]
  },
  {
   "cell_type": "code",
   "execution_count": 101,
   "metadata": {},
   "outputs": [
    {
     "name": "stdout",
     "output_type": "stream",
     "text": [
      "functools.partial(<function sampling_func at 0x7f9af1f03160>, set='training', negative_class=1)\n",
      "OpenSlide('../../WSI/a8773be388e12df89edd.svs')\n"
     ]
    }
   ],
   "source": [
    "print(files[0].sample_func)\n",
    "print(files[0].slide)"
   ]
  },
  {
   "cell_type": "code",
   "execution_count": 123,
   "metadata": {},
   "outputs": [
    {
     "data": {
      "text/plain": [
       "[OpenSlide('../../WSI/a8773be388e12df89edd.svs'),\n",
       " OpenSlide('../../WSI/a8773be388e12df89edd.svs'),\n",
       " OpenSlide('../../WSI/460906c0b1fe17ea5354.svs'),\n",
       " OpenSlide('../../WSI/460906c0b1fe17ea5354.svs'),\n",
       " OpenSlide('../../WSI/d0423ef9a648bb66a763.svs'),\n",
       " OpenSlide('../../WSI/d0423ef9a648bb66a763.svs'),\n",
       " OpenSlide('../../WSI/50cf88e9a33df0c0c8f9.svs'),\n",
       " OpenSlide('../../WSI/50cf88e9a33df0c0c8f9.svs'),\n",
       " OpenSlide('../../WSI/da18e7b9846e9d38034c.svs'),\n",
       " OpenSlide('../../WSI/da18e7b9846e9d38034c.svs'),\n",
       " OpenSlide('../../WSI/d7a8af121d7d4f3fbf01.svs'),\n",
       " OpenSlide('../../WSI/d7a8af121d7d4f3fbf01.svs'),\n",
       " OpenSlide('../../WSI/2191a7aa287ce1d5dbc0.svs'),\n",
       " OpenSlide('../../WSI/2191a7aa287ce1d5dbc0.svs'),\n",
       " OpenSlide('../../WSI/c4b95da36e32993289cb.svs'),\n",
       " OpenSlide('../../WSI/c4b95da36e32993289cb.svs'),\n",
       " OpenSlide('../../WSI/fa4959e484beec77543b.svs'),\n",
       " OpenSlide('../../WSI/fa4959e484beec77543b.svs'),\n",
       " OpenSlide('../../WSI/72c93e042d0171a61012.svs'),\n",
       " OpenSlide('../../WSI/72c93e042d0171a61012.svs'),\n",
       " OpenSlide('../../WSI/3d3d04eca056556b0b26.svs'),\n",
       " OpenSlide('../../WSI/3d3d04eca056556b0b26.svs'),\n",
       " OpenSlide('../../WSI/084383c18b9060880e82.svs'),\n",
       " OpenSlide('../../WSI/084383c18b9060880e82.svs'),\n",
       " OpenSlide('../../WSI/d37ab62158945f22deed.svs'),\n",
       " OpenSlide('../../WSI/d37ab62158945f22deed.svs'),\n",
       " OpenSlide('../../WSI/deb768e5efb9d1dcbc13.svs'),\n",
       " OpenSlide('../../WSI/deb768e5efb9d1dcbc13.svs')]"
      ]
     },
     "execution_count": 123,
     "metadata": {},
     "output_type": "execute_result"
    }
   ],
   "source": [
    "file_list = []\n",
    "for i in range(len(files)):\n",
    "    file_list.append(files[i].slide)\n",
    "\n",
    "file_list"
   ]
  },
  {
   "cell_type": "code",
   "execution_count": 84,
   "metadata": {},
   "outputs": [],
   "source": [
    "x = files[0].annotations"
   ]
  },
  {
   "cell_type": "code",
   "execution_count": 85,
   "metadata": {},
   "outputs": [
    {
     "data": {
      "text/plain": [
       "dict_keys([1, 2])"
      ]
     },
     "execution_count": 85,
     "metadata": {},
     "output_type": "execute_result"
    }
   ],
   "source": [
    "x.keys()"
   ]
  },
  {
   "cell_type": "code",
   "execution_count": 125,
   "metadata": {},
   "outputs": [
    {
     "data": {
      "text/plain": [
       "dict_keys(['bboxes', 'label'])"
      ]
     },
     "execution_count": 125,
     "metadata": {},
     "output_type": "execute_result"
    }
   ],
   "source": [
    "negatives = x[1]\n",
    "positives = x[2]\n",
    "negatives.keys()"
   ]
  },
  {
   "cell_type": "code",
   "execution_count": 87,
   "metadata": {},
   "outputs": [
    {
     "name": "stdout",
     "output_type": "stream",
     "text": [
      "204\n",
      "64\n"
     ]
    }
   ],
   "source": [
    "print(len(negatives['label']))\n",
    "print(len(positives['label']))"
   ]
  },
  {
   "cell_type": "code",
   "execution_count": 140,
   "metadata": {},
   "outputs": [
    {
     "name": "stdout",
     "output_type": "stream",
     "text": [
      "x dim: 50\n",
      "y dim: 50\n"
     ]
    }
   ],
   "source": [
    "boundbox = positives['bboxes'][0]\n",
    "print('x dim:', boundbox[2] - boundbox[0])\n",
    "print('y dim:', boundbox[3] - boundbox[1])"
   ]
  },
  {
   "cell_type": "code",
   "execution_count": 103,
   "metadata": {},
   "outputs": [],
   "source": [
    "train_images = 5000\n",
    "val_images = 5000\n",
    "train_files = list(np.random.choice([files[x] for x in train_slides], train_images))\n",
    "valid_files = list(np.random.choice([files[x] for x in val_slides], val_images))"
   ]
  },
  {
   "cell_type": "code",
   "execution_count": 130,
   "metadata": {},
   "outputs": [
    {
     "data": {
      "text/plain": [
       "list"
      ]
     },
     "execution_count": 130,
     "metadata": {},
     "output_type": "execute_result"
    }
   ],
   "source": [
    "type(train_files)"
   ]
  },
  {
   "cell_type": "code",
   "execution_count": 153,
   "metadata": {},
   "outputs": [],
   "source": [
    "tfms = get_transforms(do_flip=True,\n",
    "                      flip_vert=True,\n",
    "                      max_rotate=90,\n",
    "                      max_lighting=0.0,\n",
    "                      max_zoom=1.,\n",
    "                      max_warp=0.0,\n",
    "                      p_affine=0.5,\n",
    "                      p_lighting=0.0,\n",
    "                      #xtra_tfms=xtra_tfms,\n",
    "                     )"
   ]
  },
  {
   "cell_type": "code",
   "execution_count": 154,
   "metadata": {},
   "outputs": [
    {
     "data": {
      "text/plain": [
       "tuple"
      ]
     },
     "execution_count": 154,
     "metadata": {},
     "output_type": "execute_result"
    }
   ],
   "source": [
    "type(tfms)"
   ]
  },
  {
   "cell_type": "code",
   "execution_count": 145,
   "metadata": {},
   "outputs": [
    {
     "name": "stderr",
     "output_type": "stream",
     "text": [
      "/Users/gsowell/anaconda3/envs/capstone/lib/python3.8/site-packages/fastai/core.py:302: VisibleDeprecationWarning: Creating an ndarray from ragged nested sequences (which is a list-or-tuple of lists-or-tuples-or ndarrays with different lengths or shapes) is deprecated. If you meant to do this, you must specify 'dtype=object' when creating the ndarray.\n",
      "  return np.array(a, dtype=dtype, **kwargs)\n"
     ]
    }
   ],
   "source": [
    "bs=12\n",
    "\n",
    "train =  ObjectItemListSlide(train_files, path=path)\n",
    "valid = ObjectItemListSlide(valid_files, path=path)\n",
    "valid = ObjectItemListSlide(valid_files, path=path)\n",
    "item_list = ItemLists(path, train, valid)\n",
    "lls = item_list.label_from_func(get_y_func, label_cls=SlideObjectCategoryList) #\n",
    "lls = lls.transform(tfms, tfm_y=True, size=size)\n",
    "data = lls.databunch(bs=bs, collate_fn=bb_pad_collate_min).normalize()"
   ]
  },
  {
   "cell_type": "code",
   "execution_count": 162,
   "metadata": {},
   "outputs": [
    {
     "name": "stdout",
     "output_type": "stream",
     "text": [
      "<class 'data_loader.ObjectItemListSlide'>\n",
      "<class 'data_loader.ObjectItemListSlide'>\n",
      "<class 'fastai.data_block.LabelLists'>\n",
      "<class 'fastai.data_block.LabelLists'>\n",
      "<class 'fastai.vision.data.ImageDataBunch'>\n"
     ]
    }
   ],
   "source": [
    "print(type(train))\n",
    "print(type(valid))\n",
    "print(type(item_list))\n",
    "print(type(lls))\n",
    "print(type(data))"
   ]
  },
  {
   "cell_type": "markdown",
   "metadata": {},
   "source": [
    "## Visualize"
   ]
  },
  {
   "cell_type": "markdown",
   "metadata": {},
   "source": []
  }
 ],
 "metadata": {
  "kernelspec": {
   "display_name": "Python 3.8.13 ('capstone')",
   "language": "python",
   "name": "python3"
  },
  "language_info": {
   "codemirror_mode": {
    "name": "ipython",
    "version": 3
   },
   "file_extension": ".py",
   "mimetype": "text/x-python",
   "name": "python",
   "nbconvert_exporter": "python",
   "pygments_lexer": "ipython3",
   "version": "3.8.13"
  },
  "orig_nbformat": 4,
  "vscode": {
   "interpreter": {
    "hash": "fbe1240c42c9fedbac8dda4922e480118c75c39e21d1189b5dde5cc4a0ce6e6d"
   }
  }
 },
 "nbformat": 4,
 "nbformat_minor": 2
}
