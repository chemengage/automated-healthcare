{
 "cells": [
  {
   "cell_type": "markdown",
   "metadata": {},
   "source": [
    "# Initial Sequential NN PyTorch modeling"
   ]
  },
  {
   "cell_type": "code",
   "execution_count": 76,
   "metadata": {},
   "outputs": [
    {
     "name": "stdout",
     "output_type": "stream",
     "text": [
      "PyTorch version: 1.12.1\n",
      "torchvision version: 0.13.1\n"
     ]
    }
   ],
   "source": [
    "# Import PyTorch\n",
    "import torch\n",
    "from torch import nn\n",
    "\n",
    "# Import torchvision \n",
    "import torchvision\n",
    "from torchvision import datasets, transforms\n",
    "from torchvision.transforms import ToTensor\n",
    "from torch.utils.data import DataLoader\n",
    "\n",
    "# Import torchmetrics\n",
    "import torchmetrics\n",
    "\n",
    "# Import matplotlib for visualization\n",
    "import matplotlib.pyplot as plt\n",
    "\n",
    "# Check versions\n",
    "# Note: your PyTorch version shouldn't be lower than 1.10.0 and torchvision version shouldn't be lower than 0.11\n",
    "print(f\"PyTorch version: {torch.__version__}\\ntorchvision version: {torchvision.__version__}\")"
   ]
  },
  {
   "cell_type": "markdown",
   "metadata": {},
   "source": [
    "## Path setup"
   ]
  },
  {
   "cell_type": "markdown",
   "metadata": {},
   "source": [
    "Define dataset of interest"
   ]
  },
  {
   "cell_type": "code",
   "execution_count": 45,
   "metadata": {},
   "outputs": [],
   "source": [
    "dataset = 'Data_CMC_MEL_1'"
   ]
  },
  {
   "cell_type": "markdown",
   "metadata": {},
   "source": [
    "Walk through image directory"
   ]
  },
  {
   "cell_type": "code",
   "execution_count": 46,
   "metadata": {},
   "outputs": [],
   "source": [
    "import os\n",
    "def walk_through_dir(dir_path):\n",
    "  \"\"\"\n",
    "  Walks through dir_path returning its contents.\n",
    "  Args:\n",
    "    dir_path (str or pathlib.Path): target directory\n",
    "  \n",
    "  Returns:\n",
    "    A print out of:\n",
    "      number of subdiretories in dir_path\n",
    "      number of images (files) in each subdirectory\n",
    "      name of each subdirectory\n",
    "  \"\"\"\n",
    "  for dirpath, dirnames, filenames in os.walk(dir_path):\n",
    "    print(f\"There are {len(dirnames)} directories and {len(filenames)} images in '{dirpath}'.\")"
   ]
  },
  {
   "cell_type": "code",
   "execution_count": 47,
   "metadata": {},
   "outputs": [
    {
     "name": "stdout",
     "output_type": "stream",
     "text": [
      "There are 2 directories and 0 images in '/Users/gsowell/Desktop/Research/Fourthbrain/Capstone/samsung-capstone/assignments/week-7-initial-github/Data_CMC_MEL_1'.\n",
      "There are 2 directories and 1 images in '/Users/gsowell/Desktop/Research/Fourthbrain/Capstone/samsung-capstone/assignments/week-7-initial-github/Data_CMC_MEL_1/test'.\n",
      "There are 0 directories and 3292 images in '/Users/gsowell/Desktop/Research/Fourthbrain/Capstone/samsung-capstone/assignments/week-7-initial-github/Data_CMC_MEL_1/test/Mitosis'.\n",
      "There are 0 directories and 7036 images in '/Users/gsowell/Desktop/Research/Fourthbrain/Capstone/samsung-capstone/assignments/week-7-initial-github/Data_CMC_MEL_1/test/Nonmitosis'.\n",
      "There are 2 directories and 0 images in '/Users/gsowell/Desktop/Research/Fourthbrain/Capstone/samsung-capstone/assignments/week-7-initial-github/Data_CMC_MEL_1/train'.\n",
      "There are 0 directories and 10050 images in '/Users/gsowell/Desktop/Research/Fourthbrain/Capstone/samsung-capstone/assignments/week-7-initial-github/Data_CMC_MEL_1/train/Mitosis'.\n",
      "There are 0 directories and 19489 images in '/Users/gsowell/Desktop/Research/Fourthbrain/Capstone/samsung-capstone/assignments/week-7-initial-github/Data_CMC_MEL_1/train/Nonmitosis'.\n"
     ]
    }
   ],
   "source": [
    "image_path = '/Users/gsowell/Desktop/Research/Fourthbrain/Capstone/samsung-capstone/assignments/week-7-initial-github/'+dataset\n",
    "walk_through_dir(image_path)"
   ]
  },
  {
   "cell_type": "markdown",
   "metadata": {},
   "source": [
    "Setup train and test paths"
   ]
  },
  {
   "cell_type": "code",
   "execution_count": 48,
   "metadata": {},
   "outputs": [
    {
     "data": {
      "text/plain": [
       "('/Users/gsowell/Desktop/Research/Fourthbrain/Capstone/samsung-capstone/assignments/week-7-initial-github/Data_CMC_MEL_1/train',\n",
       " '/Users/gsowell/Desktop/Research/Fourthbrain/Capstone/samsung-capstone/assignments/week-7-initial-github/Data_CMC_MEL_1/test')"
      ]
     },
     "execution_count": 48,
     "metadata": {},
     "output_type": "execute_result"
    }
   ],
   "source": [
    "train_dir = image_path+'/train'\n",
    "test_dir = image_path+'/test'\n",
    "\n",
    "train_dir, test_dir"
   ]
  },
  {
   "cell_type": "markdown",
   "metadata": {},
   "source": [
    "## PyTorch data setup"
   ]
  },
  {
   "cell_type": "markdown",
   "metadata": {},
   "source": [
    "### Setup PyTorch Dataset object"
   ]
  },
  {
   "cell_type": "markdown",
   "metadata": {},
   "source": [
    "Define data transform"
   ]
  },
  {
   "cell_type": "code",
   "execution_count": 49,
   "metadata": {},
   "outputs": [],
   "source": [
    "# Write transform for image\n",
    "data_transform = transforms.Compose([\n",
    "    # Resize the images to 64x64\n",
    "    #transforms.Resize(size=(64, 64)),\n",
    "    # Flip the images randomly on the horizontal\n",
    "    #transforms.RandomHorizontalFlip(p=0.5), # p = probability of flip, 0.5 = 50% chance\n",
    "    # Turn the image into a torch.Tensor\n",
    "    transforms.ToTensor() # this also converts all pixel values from 0 to 255 to be between 0.0 and 1.0 \n",
    "])"
   ]
  },
  {
   "cell_type": "markdown",
   "metadata": {},
   "source": [
    "Load train and test data using ImageFolder"
   ]
  },
  {
   "cell_type": "code",
   "execution_count": 50,
   "metadata": {},
   "outputs": [],
   "source": [
    "train_data = datasets.ImageFolder(root=train_dir,\n",
    "                                  transform=data_transform,\n",
    "                                  target_transform=None)\n",
    "\n",
    "test_data = datasets.ImageFolder(root=test_dir,\n",
    "                                  transform=data_transform,\n",
    "                                  target_transform=None)                "
   ]
  },
  {
   "cell_type": "code",
   "execution_count": 51,
   "metadata": {},
   "outputs": [
    {
     "name": "stdout",
     "output_type": "stream",
     "text": [
      "Train data:\n",
      "Dataset ImageFolder\n",
      "    Number of datapoints: 29539\n",
      "    Root location: /Users/gsowell/Desktop/Research/Fourthbrain/Capstone/samsung-capstone/assignments/week-7-initial-github/Data_CMC_MEL_1/train\n",
      "    StandardTransform\n",
      "Transform: Compose(\n",
      "               ToTensor()\n",
      "           )\n",
      "Test data:\n",
      "Dataset ImageFolder\n",
      "    Number of datapoints: 10328\n",
      "    Root location: /Users/gsowell/Desktop/Research/Fourthbrain/Capstone/samsung-capstone/assignments/week-7-initial-github/Data_CMC_MEL_1/test\n",
      "    StandardTransform\n",
      "Transform: Compose(\n",
      "               ToTensor()\n",
      "           )\n"
     ]
    }
   ],
   "source": [
    "print(f\"Train data:\\n{train_data}\\nTest data:\\n{test_data}\")"
   ]
  },
  {
   "cell_type": "markdown",
   "metadata": {},
   "source": [
    "### Check out PyTorch Datasets"
   ]
  },
  {
   "cell_type": "code",
   "execution_count": 52,
   "metadata": {},
   "outputs": [
    {
     "data": {
      "text/plain": [
       "['Mitosis', 'Nonmitosis']"
      ]
     },
     "execution_count": 52,
     "metadata": {},
     "output_type": "execute_result"
    }
   ],
   "source": [
    "class_names = train_data.classes\n",
    "class_names"
   ]
  },
  {
   "cell_type": "code",
   "execution_count": 53,
   "metadata": {},
   "outputs": [
    {
     "data": {
      "text/plain": [
       "{'Mitosis': 0, 'Nonmitosis': 1}"
      ]
     },
     "execution_count": 53,
     "metadata": {},
     "output_type": "execute_result"
    }
   ],
   "source": [
    "# Can also get class names as a dict\n",
    "class_dict = train_data.class_to_idx\n",
    "class_dict"
   ]
  },
  {
   "cell_type": "code",
   "execution_count": 54,
   "metadata": {},
   "outputs": [
    {
     "data": {
      "text/plain": [
       "(29539, 10328)"
      ]
     },
     "execution_count": 54,
     "metadata": {},
     "output_type": "execute_result"
    }
   ],
   "source": [
    "# Check the lengths\n",
    "len(train_data), len(test_data)"
   ]
  },
  {
   "cell_type": "code",
   "execution_count": 55,
   "metadata": {},
   "outputs": [
    {
     "name": "stdout",
     "output_type": "stream",
     "text": [
      "Image tensor:\n",
      "tensor([[[0.6824, 0.6706, 0.6706,  ..., 0.8118, 0.6980, 0.5647],\n",
      "         [0.6745, 0.6353, 0.6000,  ..., 0.7412, 0.6353, 0.5176],\n",
      "         [0.6706, 0.6078, 0.5373,  ..., 0.6392, 0.5608, 0.4784],\n",
      "         ...,\n",
      "         [0.8078, 0.7961, 0.8039,  ..., 0.9020, 0.9373, 0.9686],\n",
      "         [0.8353, 0.8353, 0.8353,  ..., 0.8431, 0.9020, 0.9725],\n",
      "         [0.8588, 0.8275, 0.8353,  ..., 0.7529, 0.8667, 1.0000]],\n",
      "\n",
      "        [[0.3490, 0.3490, 0.3451,  ..., 0.6000, 0.4706, 0.3059],\n",
      "         [0.3569, 0.3412, 0.2980,  ..., 0.5569, 0.4314, 0.2706],\n",
      "         [0.3725, 0.3412, 0.2667,  ..., 0.4824, 0.3765, 0.2471],\n",
      "         ...,\n",
      "         [0.5961, 0.5804, 0.5882,  ..., 0.7804, 0.8039, 0.8118],\n",
      "         [0.6235, 0.6196, 0.6118,  ..., 0.6275, 0.6863, 0.7529],\n",
      "         [0.6471, 0.6118, 0.6196,  ..., 0.5529, 0.6706, 0.8118]],\n",
      "\n",
      "        [[0.4667, 0.4431, 0.4627,  ..., 0.7373, 0.6039, 0.4392],\n",
      "         [0.4980, 0.4549, 0.4275,  ..., 0.6941, 0.5686, 0.4078],\n",
      "         [0.5373, 0.4863, 0.4118,  ..., 0.6235, 0.5176, 0.3882],\n",
      "         ...,\n",
      "         [0.7137, 0.6980, 0.7020,  ..., 0.8667, 0.8588, 0.8392],\n",
      "         [0.7333, 0.7333, 0.7333,  ..., 0.7922, 0.8039, 0.8196],\n",
      "         [0.7490, 0.7216, 0.7294,  ..., 0.7216, 0.7961, 0.8824]]])\n",
      "Image shape: torch.Size([3, 128, 128])\n",
      "Image datatype: torch.float32\n",
      "Image label: 0\n",
      "Label datatype: <class 'int'>\n"
     ]
    }
   ],
   "source": [
    "img, label = train_data[0][0], train_data[0][1]\n",
    "print(f\"Image tensor:\\n{img}\")\n",
    "print(f\"Image shape: {img.shape}\")\n",
    "print(f\"Image datatype: {img.dtype}\")\n",
    "print(f\"Image label: {label}\")\n",
    "print(f\"Label datatype: {type(label)}\")"
   ]
  },
  {
   "cell_type": "code",
   "execution_count": 56,
   "metadata": {},
   "outputs": [
    {
     "name": "stdout",
     "output_type": "stream",
     "text": [
      "Original shape: torch.Size([3, 128, 128]) -> [color_channels, height, width]\n",
      "Image permute shape: torch.Size([128, 128, 3]) -> [height, width, color_channels]\n"
     ]
    },
    {
     "data": {
      "image/png": "[encoded data removed]",
      "text/plain": [
       "<Figure size 1000x700 with 1 Axes>"
      ]
     },
     "metadata": {},
     "output_type": "display_data"
    }
   ],
   "source": [
    "# Rearrange the order of dimensions\n",
    "img_permute = img.permute(1, 2, 0)\n",
    "\n",
    "# Print out different shapes (before and after permute)\n",
    "print(f\"Original shape: {img.shape} -> [color_channels, height, width]\")\n",
    "print(f\"Image permute shape: {img_permute.shape} -> [height, width, color_channels]\")\n",
    "\n",
    "# Plot the image\n",
    "plt.figure(figsize=(10, 7))\n",
    "plt.imshow(img.permute(1, 2, 0))\n",
    "plt.axis(\"off\")\n",
    "plt.title(class_names[label], fontsize=14);"
   ]
  },
  {
   "cell_type": "markdown",
   "metadata": {},
   "source": [
    "### Create PyTorch DataLoader"
   ]
  },
  {
   "cell_type": "markdown",
   "metadata": {},
   "source": [
    "Define number of workers and batch size"
   ]
  },
  {
   "cell_type": "code",
   "execution_count": 57,
   "metadata": {},
   "outputs": [],
   "source": [
    "num_workers = os.cpu_count() # set number of workers to number of CPUs on local machine\n",
    "batch_size = 64"
   ]
  },
  {
   "cell_type": "markdown",
   "metadata": {},
   "source": [
    "Create dataloader iterable objects"
   ]
  },
  {
   "cell_type": "code",
   "execution_count": 58,
   "metadata": {},
   "outputs": [
    {
     "data": {
      "text/plain": [
       "(<torch.utils.data.dataloader.DataLoader at 0x7f8e10107dc0>,\n",
       " <torch.utils.data.dataloader.DataLoader at 0x7f8e10107c10>)"
      ]
     },
     "execution_count": 58,
     "metadata": {},
     "output_type": "execute_result"
    }
   ],
   "source": [
    "train_dataloader = DataLoader(dataset=train_data, \n",
    "                              batch_size=batch_size, # how many samples per batch?\n",
    "                              num_workers=num_workers, # how many subprocesses to use for data loading? (higher = more)\n",
    "                              shuffle=True) # shuffle the data?\n",
    "\n",
    "test_dataloader = DataLoader(dataset=test_data, \n",
    "                             batch_size=batch_size, \n",
    "                             num_workers=num_workers, \n",
    "                             shuffle=False) # don't usually need to shuffle testing data\n",
    "\n",
    "train_dataloader, test_dataloader"
   ]
  },
  {
   "cell_type": "code",
   "execution_count": 60,
   "metadata": {},
   "outputs": [
    {
     "data": {
      "text/plain": [
       "(torch.Size([64, 3, 128, 128]), torch.Size([64]))"
      ]
     },
     "execution_count": 60,
     "metadata": {},
     "output_type": "execute_result"
    }
   ],
   "source": [
    "# Check out what's inside the training dataloader\n",
    "train_features_batch, train_labels_batch = next(iter(train_dataloader))\n",
    "train_features_batch.shape, train_labels_batch.shape"
   ]
  },
  {
   "cell_type": "code",
   "execution_count": 61,
   "metadata": {},
   "outputs": [
    {
     "name": "stdout",
     "output_type": "stream",
     "text": [
      "Shape before flattening: torch.Size([3, 128, 128]) -> [color_channels, height, width]\n",
      "Shape after flattening: torch.Size([3, 16384]) -> [color_channels, height*width]\n"
     ]
    }
   ],
   "source": [
    "# Create a flatten layer\n",
    "flatten_model = nn.Flatten() # all nn modules function as a model (can do a forward pass)\n",
    "\n",
    "# Get a single sample\n",
    "x = train_features_batch[0]\n",
    "\n",
    "# Flatten the sample\n",
    "output = flatten_model(x) # perform forward pass\n",
    "\n",
    "# Print out what happened\n",
    "print(f\"Shape before flattening: {x.shape} -> [color_channels, height, width]\")\n",
    "print(f\"Shape after flattening: {output.shape} -> [color_channels, height*width]\")\n",
    "\n",
    "# Try uncommenting below and see what happens\n",
    "#print(x)\n",
    "#print(output)"
   ]
  },
  {
   "cell_type": "code",
   "execution_count": 143,
   "metadata": {},
   "outputs": [
    {
     "data": {
      "text/plain": [
       "torch.Size([16384])"
      ]
     },
     "execution_count": 143,
     "metadata": {},
     "output_type": "execute_result"
    }
   ],
   "source": [
    "output[0].shape"
   ]
  },
  {
   "cell_type": "markdown",
   "metadata": {},
   "source": [
    "## Baseline modeling"
   ]
  },
  {
   "cell_type": "markdown",
   "metadata": {},
   "source": [
    "### PyTorch build neural network"
   ]
  },
  {
   "cell_type": "markdown",
   "metadata": {},
   "source": [
    "https://pytorch.org/tutorials/beginner/basics/buildmodel_tutorial.html"
   ]
  },
  {
   "cell_type": "markdown",
   "metadata": {},
   "source": [
    "Check device type"
   ]
  },
  {
   "cell_type": "code",
   "execution_count": 128,
   "metadata": {},
   "outputs": [
    {
     "name": "stdout",
     "output_type": "stream",
     "text": [
      "Using cpu device\n"
     ]
    }
   ],
   "source": [
    "device = \"cuda\" if torch.cuda.is_available() else \"cpu\"\n",
    "print(f\"Using {device} device\")"
   ]
  },
  {
   "cell_type": "markdown",
   "metadata": {},
   "source": [
    "Define hyperparameters"
   ]
  },
  {
   "cell_type": "code",
   "execution_count": 190,
   "metadata": {},
   "outputs": [],
   "source": [
    "num_epochs = 5\n",
    "hidden_units = 512\n",
    "num_classes = 2\n",
    "batch_size = 64\n",
    "num_workers = os.cpu_count() # number of CPUs on local machine\n",
    "learning_rate = 0.1"
   ]
  },
  {
   "cell_type": "markdown",
   "metadata": {},
   "source": [
    "Setup dataloaders"
   ]
  },
  {
   "cell_type": "code",
   "execution_count": 191,
   "metadata": {},
   "outputs": [
    {
     "data": {
      "text/plain": [
       "(<torch.utils.data.dataloader.DataLoader at 0x7f8de967b640>,\n",
       " <torch.utils.data.dataloader.DataLoader at 0x7f8de967b3d0>)"
      ]
     },
     "execution_count": 191,
     "metadata": {},
     "output_type": "execute_result"
    }
   ],
   "source": [
    "train_dataloader = DataLoader(dataset=train_data, \n",
    "                              batch_size=batch_size, # how many samples per batch?\n",
    "                              num_workers=num_workers, # how many subprocesses to use for data loading? (higher = more)\n",
    "                              shuffle=True) # shuffle the data?\n",
    "\n",
    "test_dataloader = DataLoader(dataset=test_data, \n",
    "                             batch_size=batch_size, \n",
    "                             num_workers=num_workers, \n",
    "                             shuffle=False) # don't usually need to shuffle testing data\n",
    "\n",
    "train_dataloader, test_dataloader"
   ]
  },
  {
   "cell_type": "markdown",
   "metadata": {},
   "source": [
    "Define neural network class"
   ]
  },
  {
   "cell_type": "code",
   "execution_count": 192,
   "metadata": {},
   "outputs": [],
   "source": [
    "class NeuralNetwork(nn.Module):\n",
    "    def __init__(self, input_shape: int, hidden_units: int, output_shape: int):\n",
    "        super(NeuralNetwork, self).__init__()\n",
    "        self.flatten = nn.Flatten()\n",
    "        self.linear_relu_stack = nn.Sequential(\n",
    "            nn.Linear(in_features=input_shape, out_features=hidden_units),\n",
    "            nn.ReLU(),\n",
    "            nn.Linear(in_features=hidden_units, out_features=hidden_units),\n",
    "            nn.ReLU(),\n",
    "            nn.Linear(in_features=hidden_units, out_features=output_shape),\n",
    "        )\n",
    "\n",
    "    def forward(self, x):\n",
    "        x = self.flatten(x)\n",
    "        logits = self.linear_relu_stack(x)\n",
    "        return logits"
   ]
  },
  {
   "cell_type": "code",
   "execution_count": 193,
   "metadata": {},
   "outputs": [
    {
     "name": "stdout",
     "output_type": "stream",
     "text": [
      "NeuralNetwork(\n",
      "  (flatten): Flatten(start_dim=1, end_dim=-1)\n",
      "  (linear_relu_stack): Sequential(\n",
      "    (0): Linear(in_features=49152, out_features=512, bias=True)\n",
      "    (1): ReLU()\n",
      "    (2): Linear(in_features=512, out_features=512, bias=True)\n",
      "    (3): ReLU()\n",
      "    (4): Linear(in_features=512, out_features=2, bias=True)\n",
      "  )\n",
      ")\n"
     ]
    }
   ],
   "source": [
    "model_0 = NeuralNetwork(3*128*128, hidden_units, num_classes).to(device)\n",
    "print(model_0)"
   ]
  },
  {
   "cell_type": "markdown",
   "metadata": {},
   "source": [
    "### Model training"
   ]
  },
  {
   "cell_type": "markdown",
   "metadata": {},
   "source": [
    "Initialize loss function and optimizer"
   ]
  },
  {
   "cell_type": "code",
   "execution_count": 194,
   "metadata": {},
   "outputs": [],
   "source": [
    "loss_fn = nn.CrossEntropyLoss()\n",
    "optimizer = torch.optim.SGD(model_0.parameters(), lr=learning_rate)"
   ]
  },
  {
   "cell_type": "markdown",
   "metadata": {},
   "source": [
    "Define training and test loops"
   ]
  },
  {
   "cell_type": "code",
   "execution_count": 195,
   "metadata": {},
   "outputs": [],
   "source": [
    "def train_loop(dataloader, model, loss_fn, optimizer):\n",
    "    size = len(dataloader.dataset)\n",
    "    for batch, (X, y) in enumerate(dataloader):\n",
    "        # Compute prediction and loss\n",
    "        pred = model(X)\n",
    "        loss = loss_fn(pred, y)\n",
    "\n",
    "        # Backpropagation\n",
    "        optimizer.zero_grad()\n",
    "        loss.backward()\n",
    "        optimizer.step()\n",
    "\n",
    "        if batch % 100 == 0:\n",
    "            loss, current = loss.item(), batch * len(X)\n",
    "            print(f\"loss: {loss:>7f}  [{current:>5d}/{size:>5d}]\")\n",
    "\n",
    "\n",
    "def test_loop(dataloader, model, loss_fn):\n",
    "    size = len(dataloader.dataset)\n",
    "    num_batches = len(dataloader)\n",
    "    test_loss, correct = 0, 0\n",
    "\n",
    "    with torch.no_grad():\n",
    "        for X, y in dataloader:\n",
    "            pred = model(X)\n",
    "            test_loss += loss_fn(pred, y).item()\n",
    "            correct += (pred.argmax(1) == y).type(torch.float).sum().item()\n",
    "\n",
    "    test_loss /= num_batches\n",
    "    correct /= size\n",
    "    print(f\"Test Error: \\n Accuracy: {(100*correct):>0.1f}%, Avg loss: {test_loss:>8f} \\n\")"
   ]
  },
  {
   "cell_type": "markdown",
   "metadata": {},
   "source": [
    "Train the model"
   ]
  },
  {
   "cell_type": "code",
   "execution_count": 196,
   "metadata": {},
   "outputs": [
    {
     "name": "stdout",
     "output_type": "stream",
     "text": [
      "Epoch 1\n",
      "-------------------------------\n",
      "loss: 0.707214  [    0/29539]\n",
      "loss: 0.664605  [ 6400/29539]\n",
      "loss: 0.678467  [12800/29539]\n",
      "loss: 0.562290  [19200/29539]\n",
      "loss: 0.643496  [25600/29539]\n",
      "Test Error: \n",
      " Accuracy: 68.1%, Avg loss: 0.625335 \n",
      "\n",
      "Epoch 2\n",
      "-------------------------------\n",
      "loss: 0.588575  [    0/29539]\n",
      "loss: 0.653346  [ 6400/29539]\n",
      "loss: 0.622569  [12800/29539]\n",
      "loss: 0.632886  [19200/29539]\n",
      "loss: 0.661566  [25600/29539]\n",
      "Test Error: \n",
      " Accuracy: 68.1%, Avg loss: 0.627546 \n",
      "\n",
      "Epoch 3\n",
      "-------------------------------\n",
      "loss: 0.662770  [    0/29539]\n",
      "loss: 0.632843  [ 6400/29539]\n",
      "loss: 0.627226  [12800/29539]\n",
      "loss: 0.632943  [19200/29539]\n",
      "loss: 0.588713  [25600/29539]\n",
      "Test Error: \n",
      " Accuracy: 68.1%, Avg loss: 0.625252 \n",
      "\n",
      "Epoch 4\n",
      "-------------------------------\n",
      "loss: 0.644022  [    0/29539]\n",
      "loss: 0.623944  [ 6400/29539]\n",
      "loss: 0.643516  [12800/29539]\n",
      "loss: 0.632849  [19200/29539]\n",
      "loss: 0.643523  [25600/29539]\n",
      "Test Error: \n",
      " Accuracy: 68.1%, Avg loss: 0.626332 \n",
      "\n",
      "Epoch 5\n",
      "-------------------------------\n",
      "loss: 0.694617  [    0/29539]\n",
      "loss: 0.590002  [ 6400/29539]\n",
      "loss: 0.683666  [12800/29539]\n",
      "loss: 0.654000  [19200/29539]\n",
      "loss: 0.691378  [25600/29539]\n",
      "Test Error: \n",
      " Accuracy: 68.1%, Avg loss: 0.625729 \n",
      "\n",
      "Done!\n"
     ]
    }
   ],
   "source": [
    "epochs = 5\n",
    "for t in range(epochs):\n",
    "    print(f\"Epoch {t+1}\\n-------------------------------\")\n",
    "    train_loop(train_dataloader, model_0, loss_fn, optimizer)\n",
    "    test_loop(test_dataloader, model_0, loss_fn)\n",
    "print(\"Done!\")"
   ]
  },
  {
   "cell_type": "markdown",
   "metadata": {},
   "source": [
    "Save model and weights"
   ]
  },
  {
   "cell_type": "code",
   "execution_count": 199,
   "metadata": {},
   "outputs": [],
   "source": [
    "torch.save(model_0, 'models/initial_model0.pth')\n",
    "torch.save(model_0.state_dict(), 'models/model0_weights.pth' )"
   ]
  },
  {
   "cell_type": "markdown",
   "metadata": {},
   "source": [
    "Look at evaluation metrics"
   ]
  },
  {
   "cell_type": "code",
   "execution_count": 230,
   "metadata": {},
   "outputs": [],
   "source": [
    "accuracy = torchmetrics.Accuracy()\n",
    "F1_score = torchmetrics.F1Score(num_classes=2)\n",
    "prec = torchmetrics.Precision()\n",
    "rec = torchmetrics.Recall()"
   ]
  },
  {
   "cell_type": "code",
   "execution_count": 231,
   "metadata": {},
   "outputs": [],
   "source": [
    "torch.manual_seed(42)\n",
    "def eval_model(model: torch.nn.Module, \n",
    "               data_loader: torch.utils.data.DataLoader, \n",
    "               loss_fn: torch.nn.Module, \n",
    "               accuracy_fn,\n",
    "               precision_fn,\n",
    "               recall_fn,\n",
    "               F1_score_fn):\n",
    "    \n",
    "    loss, acc, F1, precision, recall = 0, 0, 0, 0, 0\n",
    "    model.eval()\n",
    "    with torch.inference_mode():\n",
    "        for X, y in data_loader:\n",
    "            # Make predictions with the model\n",
    "            y_pred = model(X)\n",
    "            \n",
    "            # Accumulate the loss and accuracy values per batch\n",
    "            loss += loss_fn(y_pred, y)\n",
    "            acc += accuracy(y_pred.argmax(dim=1), y).item()*100\n",
    "            F1 += F1_score(y_pred.argmax(dim=1), y).item()\n",
    "            precision += prec(y_pred.argmax(dim=1), y).item()\n",
    "            recall += rec(y_pred.argmax(dim=1), y).item()\n",
    "        \n",
    "        # Scale loss and acc to find the average loss/acc per batch\n",
    "        loss /= len(data_loader)\n",
    "        acc /= len(data_loader)\n",
    "        F1 /= len(data_loader)\n",
    "        precision /= len(data_loader)\n",
    "        recall /= len(data_loader)\n",
    "    \n",
    "    model_dict = {\"model_name\": model.__class__.__name__, # only works when model was created with a class\n",
    "            \"model_loss\": loss.item(),\n",
    "            \"model_acc\": acc,\n",
    "            \"F1 score\": F1,\n",
    "            \"Precision\": precision,\n",
    "            \"Recall\": recall}\n",
    "    return model_dict"
   ]
  },
  {
   "cell_type": "code",
   "execution_count": 232,
   "metadata": {},
   "outputs": [],
   "source": [
    "model_0_results = eval_model(model=model_0, data_loader=test_dataloader, loss_fn=loss_fn, accuracy_fn=accuracy, precision_fn=prec, recall_fn=rec, F1_score_fn=F1_score)"
   ]
  },
  {
   "cell_type": "code",
   "execution_count": 233,
   "metadata": {},
   "outputs": [
    {
     "data": {
      "text/plain": [
       "{'model_name': 'NeuralNetwork',\n",
       " 'model_loss': 0.6257274746894836,\n",
       " 'model_acc': 68.24845679012346,\n",
       " 'F1 score': 0.6824845679012346,\n",
       " 'Precision': 0.6824845679012346,\n",
       " 'Recall': 0.6824845679012346}"
      ]
     },
     "execution_count": 233,
     "metadata": {},
     "output_type": "execute_result"
    }
   ],
   "source": [
    "model_0_results"
   ]
  },
  {
   "cell_type": "markdown",
   "metadata": {},
   "source": [
    "### Model tests before training"
   ]
  },
  {
   "cell_type": "code",
   "execution_count": 163,
   "metadata": {},
   "outputs": [
    {
     "data": {
      "text/plain": [
       "torch.Size([64, 3, 128, 128])"
      ]
     },
     "execution_count": 163,
     "metadata": {},
     "output_type": "execute_result"
    }
   ],
   "source": [
    "input_image = train_features_batch\n",
    "input_image.size()"
   ]
  },
  {
   "cell_type": "code",
   "execution_count": 157,
   "metadata": {},
   "outputs": [
    {
     "name": "stdout",
     "output_type": "stream",
     "text": [
      "torch.Size([64, 49152])\n"
     ]
    }
   ],
   "source": [
    "flatten = nn.Flatten()\n",
    "flat_image = flatten(input_image)\n",
    "print(flat_image.size())"
   ]
  },
  {
   "cell_type": "code",
   "execution_count": 159,
   "metadata": {},
   "outputs": [
    {
     "name": "stdout",
     "output_type": "stream",
     "text": [
      "torch.Size([64, 20])\n"
     ]
    }
   ],
   "source": [
    "layer1 = nn.Linear(in_features=3*128*128, out_features=20)\n",
    "hidden1 = layer1(flat_image)\n",
    "print(hidden1.size())"
   ]
  },
  {
   "cell_type": "code",
   "execution_count": 160,
   "metadata": {},
   "outputs": [
    {
     "name": "stdout",
     "output_type": "stream",
     "text": [
      "Before ReLU: tensor([[ 0.2893, -0.4115,  0.0283,  ..., -0.0026,  0.0561, -0.5426],\n",
      "        [ 0.1996, -0.2444,  0.2364,  ..., -0.1483,  0.0441, -0.3085],\n",
      "        [ 0.2384, -0.3369,  0.1180,  ..., -0.2305, -0.0061, -0.3462],\n",
      "        ...,\n",
      "        [ 0.2334, -0.1929,  0.2360,  ..., -0.0267,  0.0884, -0.3787],\n",
      "        [ 0.1022, -0.1235,  0.0047,  ..., -0.0255,  0.2433, -0.2179],\n",
      "        [ 0.3738, -0.1837,  0.0552,  ..., -0.1192, -0.0010, -0.4451]],\n",
      "       grad_fn=<AddmmBackward0>)\n",
      "\n",
      "\n",
      "After ReLU: tensor([[0.2893, 0.0000, 0.0283,  ..., 0.0000, 0.0561, 0.0000],\n",
      "        [0.1996, 0.0000, 0.2364,  ..., 0.0000, 0.0441, 0.0000],\n",
      "        [0.2384, 0.0000, 0.1180,  ..., 0.0000, 0.0000, 0.0000],\n",
      "        ...,\n",
      "        [0.2334, 0.0000, 0.2360,  ..., 0.0000, 0.0884, 0.0000],\n",
      "        [0.1022, 0.0000, 0.0047,  ..., 0.0000, 0.2433, 0.0000],\n",
      "        [0.3738, 0.0000, 0.0552,  ..., 0.0000, 0.0000, 0.0000]],\n",
      "       grad_fn=<ReluBackward0>)\n"
     ]
    }
   ],
   "source": [
    "print(f\"Before ReLU: {hidden1}\\n\\n\")\n",
    "hidden1 = nn.ReLU()(hidden1)\n",
    "print(f\"After ReLU: {hidden1}\")"
   ]
  },
  {
   "cell_type": "code",
   "execution_count": 168,
   "metadata": {},
   "outputs": [],
   "source": [
    "seq_modules = nn.Sequential(\n",
    "    flatten,\n",
    "    layer1,\n",
    "    nn.ReLU(),\n",
    "    nn.Linear(20, 2)\n",
    ")\n",
    "\n",
    "logits = seq_modules(input_image)"
   ]
  },
  {
   "cell_type": "code",
   "execution_count": 169,
   "metadata": {},
   "outputs": [
    {
     "data": {
      "text/plain": [
       "tensor([1, 1, 1, 1, 1, 1, 1, 1, 1, 1, 1, 1, 1, 1, 1, 1, 1, 1, 1, 1, 1, 1, 1, 1,\n",
       "        1, 1, 1, 1, 1, 1, 1, 1, 1, 1, 1, 1, 1, 1, 1, 1, 1, 1, 1, 1, 1, 1, 1, 1,\n",
       "        1, 1, 1, 1, 1, 1, 1, 1, 1, 1, 1, 1, 1, 1, 1, 1])"
      ]
     },
     "execution_count": 169,
     "metadata": {},
     "output_type": "execute_result"
    }
   ],
   "source": [
    "softmax = nn.Softmax(dim=1)\n",
    "pred_probab = softmax(logits)\n",
    "pred_probab.argmax(dim=1)"
   ]
  },
  {
   "cell_type": "code",
   "execution_count": 172,
   "metadata": {},
   "outputs": [
    {
     "name": "stdout",
     "output_type": "stream",
     "text": [
      "Model structure: NeuralNetwork(\n",
      "  (flatten): Flatten(start_dim=1, end_dim=-1)\n",
      "  (linear_relu_stack): Sequential(\n",
      "    (0): Linear(in_features=49152, out_features=10, bias=True)\n",
      "    (1): ReLU()\n",
      "    (2): Linear(in_features=10, out_features=10, bias=True)\n",
      "    (3): ReLU()\n",
      "    (4): Linear(in_features=10, out_features=2, bias=True)\n",
      "  )\n",
      ")\n",
      "\n",
      "\n",
      "Layer: linear_relu_stack.0.weight | Size: torch.Size([10, 49152]) | Values : tensor([[ 2.5526e-03, -3.9133e-03, -4.2809e-03,  ...,  3.2100e-03,\n",
      "          3.5718e-03, -8.7638e-05],\n",
      "        [ 2.8482e-03,  1.5578e-03, -2.1052e-03,  ..., -3.8265e-03,\n",
      "         -2.7154e-03, -2.4858e-04]], grad_fn=<SliceBackward0>) \n",
      "\n",
      "Layer: linear_relu_stack.0.bias | Size: torch.Size([10]) | Values : tensor([-0.0033,  0.0032], grad_fn=<SliceBackward0>) \n",
      "\n",
      "Layer: linear_relu_stack.2.weight | Size: torch.Size([10, 10]) | Values : tensor([[-0.1434, -0.0982,  0.0709,  0.2429,  0.2009,  0.1902, -0.0711, -0.0935,\n",
      "         -0.1812, -0.2778],\n",
      "        [ 0.2880,  0.0418,  0.2702,  0.0986,  0.1552, -0.1366,  0.1371, -0.1976,\n",
      "          0.2946, -0.0129]], grad_fn=<SliceBackward0>) \n",
      "\n",
      "Layer: linear_relu_stack.2.bias | Size: torch.Size([10]) | Values : tensor([ 0.3007, -0.0653], grad_fn=<SliceBackward0>) \n",
      "\n",
      "Layer: linear_relu_stack.4.weight | Size: torch.Size([2, 10]) | Values : tensor([[-0.1144, -0.0774, -0.2623,  0.0464,  0.1011,  0.1262,  0.1884,  0.0287,\n",
      "         -0.2059,  0.1930],\n",
      "        [-0.2301,  0.0040,  0.1107, -0.2801,  0.0202,  0.2665, -0.2497, -0.0682,\n",
      "         -0.2074, -0.1190]], grad_fn=<SliceBackward0>) \n",
      "\n",
      "Layer: linear_relu_stack.4.bias | Size: torch.Size([2]) | Values : tensor([-0.2192, -0.0294], grad_fn=<SliceBackward0>) \n",
      "\n"
     ]
    }
   ],
   "source": [
    "print(f\"Model structure: {model_0}\\n\\n\")\n",
    "\n",
    "for name, param in model_0.named_parameters():\n",
    "    print(f\"Layer: {name} | Size: {param.size()} | Values : {param[:2]} \\n\")"
   ]
  },
  {
   "cell_type": "markdown",
   "metadata": {},
   "source": []
  }
 ],
 "metadata": {
  "kernelspec": {
   "display_name": "Python 3.8.13 ('capstone')",
   "language": "python",
   "name": "python3"
  },
  "language_info": {
   "codemirror_mode": {
    "name": "ipython",
    "version": 3
   },
   "file_extension": ".py",
   "mimetype": "text/x-python",
   "name": "python",
   "nbconvert_exporter": "python",
   "pygments_lexer": "ipython3",
   "version": "3.8.13"
  },
  "orig_nbformat": 4,
  "vscode": {
   "interpreter": {
    "hash": "fbe1240c42c9fedbac8dda4922e480118c75c39e21d1189b5dde5cc4a0ce6e6d"
   }
  }
 },
 "nbformat": 4,
 "nbformat_minor": 2
}
