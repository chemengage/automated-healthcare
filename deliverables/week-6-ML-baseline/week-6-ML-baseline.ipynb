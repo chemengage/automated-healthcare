{
 "cells": [
  {
   "cell_type": "markdown",
   "metadata": {},
   "source": [
    "# ML modeling baseline"
   ]
  },
  {
   "cell_type": "markdown",
   "metadata": {},
   "source": [
    "## RetinaNet based model"
   ]
  },
  {
   "cell_type": "markdown",
   "metadata": {},
   "source": [
    "### Import packages"
   ]
  },
  {
   "cell_type": "code",
   "execution_count": 2,
   "metadata": {},
   "outputs": [],
   "source": [
    "%reload_ext autoreload\n",
    "%autoreload 2\n",
    "%matplotlib inline\n",
    "\n",
    "\n",
    "import pickle\n",
    "import numpy as np\n",
    "\n",
    "from SlideRunner.dataAccess.database import Database\n",
    "from lib.calculate_F1 import *\n",
    "from lib.extractDetections import *\n",
    "optimal_threshold, F1_values = {},{}"
   ]
  },
  {
   "cell_type": "markdown",
   "metadata": {},
   "source": [
    "### Baseline model trained on MEL dataset"
   ]
  },
  {
   "cell_type": "markdown",
   "metadata": {},
   "source": [
    "The baseline is described in the manuscript as a 'dual-stage' transfer learning model trained on the manually expert labeled (MEL) dataset. The MEL dataset was not augmented by object detection nor clustering as with the ODAEL and CODAEL datasets.\n",
    "* Stage 1: RetinaNet\n",
    "* Stage 2: ResNet-18\n",
    "\n",
    "The architecture of this model can be found in RetinaNet-CMC-MEL-architecture.txt file found in this folder"
   ]
  },
  {
   "cell_type": "code",
   "execution_count": 3,
   "metadata": {},
   "outputs": [
    {
     "name": "stdout",
     "output_type": "stream",
     "text": [
      "Optimizing threshold for validation set of 14 files:  a8773be388e12df89edd.svs,460906c0b1fe17ea5354.svs,d0423ef9a648bb66a763.svs,50cf88e9a33df0c0c8f9.svs,da18e7b9846e9d38034c.svs,d7a8af121d7d4f3fbf01.svs,2191a7aa287ce1d5dbc0.svs,c4b95da36e32993289cb.svs,fa4959e484beec77543b.svs,72c93e042d0171a61012.svs,3d3d04eca056556b0b26.svs,084383c18b9060880e82.svs,d37ab62158945f22deed.svs,deb768e5efb9d1dcbc13.svs\n",
      "Best threshold: F1= 0.7012792324605237 Threshold= 0.6200000000000003\n",
      "Calculating F1 for test set of 14 files\n",
      "Overall: \n",
      "TP: 7383 FP: 9425 FN:  765 F1: 0.5916813591921782\n",
      "Number of mitotic figures: 8148\n",
      "Precision: 0.439 \n",
      "Recall: 0.906\n"
     ]
    }
   ],
   "source": [
    "databasefile = '../../databases/MITOS_WSI_CMC_MEL.sqlite'\n",
    "\n",
    "resfile = '../../results/trainval_RetinaNet-CMC-MEL-512sh-b1.pth-MEL-val-inference_results_boxes.p.bz2'\n",
    "ident = f'MEL_2nd'\n",
    "\n",
    "optimal_threshold[ident], F1scores, thrs = optimize_threshold(databasefile=databasefile, minthres=0.3, resfile=resfile)\n",
    "\n",
    "resfile = '../../results/trainval_2ndstage_RetinaNet-CMC-MEL-512sh-b1.pth-MELshort-val-inference_results_boxes.p.bz2'\n",
    "\n",
    "F1_values[ident], individ = calculate_F1(databasefile=databasefile, resfile=resfile, det_thres=optimal_threshold[ident])"
   ]
  },
  {
   "cell_type": "markdown",
   "metadata": {},
   "source": [
    "### Baseline model performance"
   ]
  },
  {
   "cell_type": "markdown",
   "metadata": {},
   "source": [
    "Validation set results\n",
    "* F1 score = 0.70\n",
    "* Optimal threshold = 0.62\n",
    "\n",
    "Test set results\n",
    "* Precision = 0.44\n",
    "* Recall = 0.91\n",
    "* F1 score = 0.59\n",
    "\n",
    "Comments\n",
    "* The validation set results are the same as the manuscript. However, the test set results differ from Table 2 (MEL dual-stage) in the manuscript. \n",
    "* The other models in the Evaluator.ipynb are repeatable/in agreement. \n",
    "* So this likely points to an issue w/how the test set data is being loaded/handled in our local setup rather than an issue of reproducibility.\n",
    "* This will be addressed in further model iterations and the 'baseline' will be updated accordingly"
   ]
  },
  {
   "cell_type": "markdown",
   "metadata": {},
   "source": []
  }
 ],
 "metadata": {
  "kernelspec": {
   "display_name": "Python 3.8.13 ('capstone')",
   "language": "python",
   "name": "python3"
  },
  "language_info": {
   "codemirror_mode": {
    "name": "ipython",
    "version": 3
   },
   "file_extension": ".py",
   "mimetype": "text/x-python",
   "name": "python",
   "nbconvert_exporter": "python",
   "pygments_lexer": "ipython3",
   "version": "3.8.13"
  },
  "orig_nbformat": 4,
  "vscode": {
   "interpreter": {
    "hash": "fbe1240c42c9fedbac8dda4922e480118c75c39e21d1189b5dde5cc4a0ce6e6d"
   }
  }
 },
 "nbformat": 4,
 "nbformat_minor": 2
}
